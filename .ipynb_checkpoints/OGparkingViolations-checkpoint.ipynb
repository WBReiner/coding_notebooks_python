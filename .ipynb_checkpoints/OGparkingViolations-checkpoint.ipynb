{
 "cells": [
  {
   "cell_type": "markdown",
   "metadata": {
    "colab_type": "text",
    "id": "UufikoSxDSMG"
   },
   "source": [
    "dataset from https://www.kaggle.com/cityofLA/los-angeles-parking-citations\n"
   ]
  },
  {
   "cell_type": "code",
   "execution_count": 3,
   "metadata": {
    "colab": {},
    "colab_type": "code",
    "id": "3WDVFaUWDSMM",
    "outputId": "d163bcb0-4b18-434c-9b26-b93342bdc645"
   },
   "outputs": [
    {
     "name": "stderr",
     "output_type": "stream",
     "text": [
      "/Users/whitneyreiner/anaconda3/envs/insight/lib/python3.7/site-packages/IPython/core/interactiveshell.py:2785: DtypeWarning: Columns (0,7) have mixed types. Specify dtype option on import or set low_memory=False.\n",
      "  interactivity=interactivity, compiler=compiler, result=result)\n"
     ]
    }
   ],
   "source": [
    "\n",
    "#Import packages, %matplotlib inline to see graphs within Jupyter notebook\n",
    "\n",
    "import matplotlib.pyplot as plt\n",
    "\n",
    "import pandas as pd\n",
    "%matplotlib inline\n",
    "\n",
    "#Read in csv\n",
    "laParkingCitations= pd.read_csv('parking-citations.csv')"
   ]
  },
  {
   "cell_type": "code",
   "execution_count": null,
   "metadata": {},
   "outputs": [],
   "source": []
  },
  {
   "cell_type": "code",
   "execution_count": 1,
   "metadata": {
    "colab": {},
    "colab_type": "code",
    "id": "MKZw5rh9DSM7",
    "outputId": "3940a9bd-3ba7-4373-dcbd-1e866963d376"
   },
   "outputs": [
    {
     "ename": "NameError",
     "evalue": "name 'laParkingCitations' is not defined",
     "output_type": "error",
     "traceback": [
      "\u001b[0;31m---------------------------------------------------------------------------\u001b[0m",
      "\u001b[0;31mNameError\u001b[0m                                 Traceback (most recent call last)",
      "\u001b[0;32m<ipython-input-1-08375dd95f79>\u001b[0m in \u001b[0;36m<module>\u001b[0;34m()\u001b[0m\n\u001b[1;32m      1\u001b[0m \u001b[0;31m#create a df to change around so that you don't have to re-load the data if you mess up\u001b[0m\u001b[0;34m\u001b[0m\u001b[0;34m\u001b[0m\u001b[0m\n\u001b[0;32m----> 2\u001b[0;31m \u001b[0mdf\u001b[0m \u001b[0;34m=\u001b[0m \u001b[0mlaParkingCitations\u001b[0m\u001b[0;34m\u001b[0m\u001b[0m\n\u001b[0m",
      "\u001b[0;31mNameError\u001b[0m: name 'laParkingCitations' is not defined"
     ]
    }
   ],
   "source": [
    "#create a df to change around so that you don't have to re-load the data if you mess up\n",
    "df = laParkingCitations"
   ]
  },
  {
   "cell_type": "code",
   "execution_count": null,
   "metadata": {},
   "outputs": [],
   "source": []
  },
  {
   "cell_type": "code",
   "execution_count": null,
   "metadata": {},
   "outputs": [],
   "source": []
  },
  {
   "cell_type": "code",
   "execution_count": 5,
   "metadata": {
    "colab": {},
    "colab_type": "code",
    "id": "X15FLbTbDSNN",
    "outputId": "dc653b7e-b3a1-47ee-ea19-5e56783cc64e"
   },
   "outputs": [
    {
     "name": "stdout",
     "output_type": "stream",
     "text": [
      "Index(['Ticket number', 'Issue Date', 'Issue time', 'Meter Id', 'Marked Time',\n",
      "       'RP State Plate', 'Plate Expiry Date', 'VIN', 'Make', 'Body Style',\n",
      "       'Color', 'Location', 'Route', 'Agency', 'Violation code',\n",
      "       'Violation Description', 'Fine amount', 'Latitude', 'Longitude'],\n",
      "      dtype='object')\n"
     ]
    }
   ],
   "source": [
    "print(df.columns)"
   ]
  },
  {
   "cell_type": "code",
   "execution_count": 30,
   "metadata": {},
   "outputs": [
    {
     "data": {
      "text/plain": [
       "448"
      ]
     },
     "execution_count": 30,
     "metadata": {},
     "output_type": "execute_result"
    }
   ],
   "source": [
    "df[\"Issue Date\"].isnull().sum()"
   ]
  },
  {
   "cell_type": "code",
   "execution_count": 48,
   "metadata": {},
   "outputs": [
    {
     "data": {
      "text/plain": [
       "0"
      ]
     },
     "execution_count": 48,
     "metadata": {},
     "output_type": "execute_result"
    }
   ],
   "source": [
    "dfnew[\"Issue time\"].isnull().sum()"
   ]
  },
  {
   "cell_type": "code",
   "execution_count": 43,
   "metadata": {},
   "outputs": [],
   "source": [
    "#drop row where issue time and others are NaN\n",
    "dfnew = dfnew[~dfnew['Violation Description'].isnull()]\n",
    "            \n",
    "#'Issue time'\n",
    "#'Issue Date'\n",
    "#'Latitude'\n",
    "#'Longitude'\n",
    "#'Violation Description\n",
    "           \n",
    "            \n",
    "            \n",
    "            "
   ]
  },
  {
   "cell_type": "code",
   "execution_count": 49,
   "metadata": {},
   "outputs": [
    {
     "name": "stdout",
     "output_type": "stream",
     "text": [
      "<class 'pandas.core.frame.DataFrame'>\n",
      "Int64Index: 8078778 entries, 0 to 8081870\n",
      "Data columns (total 19 columns):\n",
      "Ticket number            object\n",
      "Issue Date               object\n",
      "Issue time               float64\n",
      "Meter Id                 object\n",
      "Marked Time              float64\n",
      "RP State Plate           object\n",
      "Plate Expiry Date        float64\n",
      "VIN                      object\n",
      "Make                     object\n",
      "Body Style               object\n",
      "Color                    object\n",
      "Location                 object\n",
      "Route                    object\n",
      "Agency                   float64\n",
      "Violation code           object\n",
      "Violation Description    object\n",
      "Fine amount              float64\n",
      "Latitude                 float64\n",
      "Longitude                float64\n",
      "dtypes: float64(7), object(12)\n",
      "memory usage: 1.2+ GB\n"
     ]
    }
   ],
   "source": [
    "dfnew.info()"
   ]
  },
  {
   "cell_type": "code",
   "execution_count": null,
   "metadata": {},
   "outputs": [],
   "source": [
    "#drop row where issue time is NaN\n",
    "df = df[~df[\"Issue time\"].isnull()]\n",
    "df[\"Issue time\"].isnull().sum()\n",
    "#drop row where issue time is NaN\n",
    "df = df[~df[\"Issue time\"].isnull()]\n",
    "df[\"Issue time\"].isnull().sum()\n",
    "#drop row where issue time is NaN\n",
    "df = df[~df[\"Issue time\"].isnull()]"
   ]
  },
  {
   "cell_type": "code",
   "execution_count": 4,
   "metadata": {
    "colab": {},
    "colab_type": "code",
    "id": "jVGuHjr1DSNe"
   },
   "outputs": [
    {
     "data": {
      "text/plain": [
       "Index(['Ticket number', 'Issue Date', 'Issue time', 'Marked Time', 'Make',\n",
       "       'Location', 'Route', 'Agency', 'Violation code',\n",
       "       'Violation Description', 'Fine amount', 'Latitude', 'Longitude'],\n",
       "      dtype='object')"
      ]
     },
     "execution_count": 4,
     "metadata": {},
     "output_type": "execute_result"
    }
   ],
   "source": [
    "#see how many in meter ID are null, if lots, then don't just remove every row that has null in any column\n",
    "df[\"Meter Id\"].isnull().sum()\n",
    "#drop some columns I do not need\n",
    "columns = ['RP State Plate', 'Plate Expiry Date', 'VIN', 'Meter Id', 'Body Style', 'Color']\n",
    "df = df.drop(columns, axis=1)\n",
    "df.columns"
   ]
  },
  {
   "cell_type": "code",
   "execution_count": 5,
   "metadata": {
    "colab": {},
    "colab_type": "code",
    "id": "ZBBzGGbsDSN2",
    "outputId": "00bc6e1c-f4bf-4842-98f6-f4ea9efe9514"
   },
   "outputs": [
    {
     "data": {
      "text/plain": [
       "2328"
      ]
     },
     "execution_count": 5,
     "metadata": {},
     "output_type": "execute_result"
    }
   ],
   "source": [
    "# figure out which issue times have NaN\n",
    "df[\"Issue time\"].isnull().sum()"
   ]
  },
  {
   "cell_type": "code",
   "execution_count": 6,
   "metadata": {
    "colab": {},
    "colab_type": "code",
    "id": "MGgQhG_kDSOQ"
   },
   "outputs": [],
   "source": [
    "#drop row where issue time is NaN\n",
    "df = df[~df[\"Issue time\"].isnull()] \n",
    "\n",
    "# only drops columns in series doesn't affect all rows \n",
    "    #df[\"Issue time\"].dropna(axis=0)"
   ]
  },
  {
   "cell_type": "code",
   "execution_count": 7,
   "metadata": {
    "colab": {},
    "colab_type": "code",
    "id": "loX2b61BDSO2",
    "outputId": "76520cac-2379-4a0b-ef4e-13eae26101a0"
   },
   "outputs": [
    {
     "data": {
      "text/plain": [
       "0"
      ]
     },
     "execution_count": 7,
     "metadata": {},
     "output_type": "execute_result"
    }
   ],
   "source": [
    "df[\"Issue time\"].isnull().sum()"
   ]
  },
  {
   "cell_type": "code",
   "execution_count": 8,
   "metadata": {
    "colab": {},
    "colab_type": "code",
    "id": "lZdFRVnaDSPD",
    "outputId": "c54219c4-dd1a-475d-b28e-825a1229fd27"
   },
   "outputs": [
    {
     "data": {
      "text/html": [
       "<div>\n",
       "<style scoped>\n",
       "    .dataframe tbody tr th:only-of-type {\n",
       "        vertical-align: middle;\n",
       "    }\n",
       "\n",
       "    .dataframe tbody tr th {\n",
       "        vertical-align: top;\n",
       "    }\n",
       "\n",
       "    .dataframe thead th {\n",
       "        text-align: right;\n",
       "    }\n",
       "</style>\n",
       "<table border=\"1\" class=\"dataframe\">\n",
       "  <thead>\n",
       "    <tr style=\"text-align: right;\">\n",
       "      <th></th>\n",
       "      <th>Ticket number</th>\n",
       "      <th>Issue Date</th>\n",
       "      <th>Issue time</th>\n",
       "      <th>Marked Time</th>\n",
       "      <th>Make</th>\n",
       "      <th>Location</th>\n",
       "      <th>Route</th>\n",
       "      <th>Agency</th>\n",
       "      <th>Violation code</th>\n",
       "      <th>Violation Description</th>\n",
       "      <th>Fine amount</th>\n",
       "      <th>Latitude</th>\n",
       "      <th>Longitude</th>\n",
       "      <th>issueTime</th>\n",
       "    </tr>\n",
       "  </thead>\n",
       "  <tbody>\n",
       "    <tr>\n",
       "      <th>0</th>\n",
       "      <td>1103341116</td>\n",
       "      <td>2015-12-21T00:00:00</td>\n",
       "      <td>1251.0</td>\n",
       "      <td>NaN</td>\n",
       "      <td>HOND</td>\n",
       "      <td>13147 WELBY WAY</td>\n",
       "      <td>01521</td>\n",
       "      <td>1.0</td>\n",
       "      <td>4000A1</td>\n",
       "      <td>NO EVIDENCE OF REG</td>\n",
       "      <td>50.0</td>\n",
       "      <td>99999.0</td>\n",
       "      <td>99999.0</td>\n",
       "      <td>1251</td>\n",
       "    </tr>\n",
       "    <tr>\n",
       "      <th>1</th>\n",
       "      <td>1103700150</td>\n",
       "      <td>2015-12-21T00:00:00</td>\n",
       "      <td>1435.0</td>\n",
       "      <td>NaN</td>\n",
       "      <td>GMC</td>\n",
       "      <td>525 S MAIN ST</td>\n",
       "      <td>1C51</td>\n",
       "      <td>1.0</td>\n",
       "      <td>4000A1</td>\n",
       "      <td>NO EVIDENCE OF REG</td>\n",
       "      <td>50.0</td>\n",
       "      <td>99999.0</td>\n",
       "      <td>99999.0</td>\n",
       "      <td>1435</td>\n",
       "    </tr>\n",
       "    <tr>\n",
       "      <th>2</th>\n",
       "      <td>1104803000</td>\n",
       "      <td>2015-12-21T00:00:00</td>\n",
       "      <td>2055.0</td>\n",
       "      <td>NaN</td>\n",
       "      <td>NISS</td>\n",
       "      <td>200 WORLD WAY</td>\n",
       "      <td>2R2</td>\n",
       "      <td>2.0</td>\n",
       "      <td>8939</td>\n",
       "      <td>WHITE CURB</td>\n",
       "      <td>58.0</td>\n",
       "      <td>6439997.9</td>\n",
       "      <td>1802686.4</td>\n",
       "      <td>2055</td>\n",
       "    </tr>\n",
       "    <tr>\n",
       "      <th>3</th>\n",
       "      <td>1104820732</td>\n",
       "      <td>2015-12-26T00:00:00</td>\n",
       "      <td>1515.0</td>\n",
       "      <td>NaN</td>\n",
       "      <td>ACUR</td>\n",
       "      <td>100 WORLD WAY</td>\n",
       "      <td>2F11</td>\n",
       "      <td>2.0</td>\n",
       "      <td>000</td>\n",
       "      <td>17104h</td>\n",
       "      <td>NaN</td>\n",
       "      <td>6440041.1</td>\n",
       "      <td>1802686.2</td>\n",
       "      <td>1515</td>\n",
       "    </tr>\n",
       "    <tr>\n",
       "      <th>4</th>\n",
       "      <td>1105461453</td>\n",
       "      <td>2015-09-15T00:00:00</td>\n",
       "      <td>115.0</td>\n",
       "      <td>NaN</td>\n",
       "      <td>CHEV</td>\n",
       "      <td>GEORGIA ST/OLYMPIC</td>\n",
       "      <td>1FB70</td>\n",
       "      <td>1.0</td>\n",
       "      <td>8069A</td>\n",
       "      <td>NO STOPPING/STANDING</td>\n",
       "      <td>93.0</td>\n",
       "      <td>99999.0</td>\n",
       "      <td>99999.0</td>\n",
       "      <td>115</td>\n",
       "    </tr>\n",
       "  </tbody>\n",
       "</table>\n",
       "</div>"
      ],
      "text/plain": [
       "  Ticket number           Issue Date  Issue time  Marked Time  Make  \\\n",
       "0    1103341116  2015-12-21T00:00:00      1251.0          NaN  HOND   \n",
       "1    1103700150  2015-12-21T00:00:00      1435.0          NaN   GMC   \n",
       "2    1104803000  2015-12-21T00:00:00      2055.0          NaN  NISS   \n",
       "3    1104820732  2015-12-26T00:00:00      1515.0          NaN  ACUR   \n",
       "4    1105461453  2015-09-15T00:00:00       115.0          NaN  CHEV   \n",
       "\n",
       "             Location  Route  Agency Violation code Violation Description  \\\n",
       "0     13147 WELBY WAY  01521     1.0         4000A1    NO EVIDENCE OF REG   \n",
       "1       525 S MAIN ST   1C51     1.0         4000A1    NO EVIDENCE OF REG   \n",
       "2       200 WORLD WAY    2R2     2.0           8939            WHITE CURB   \n",
       "3       100 WORLD WAY   2F11     2.0            000                17104h   \n",
       "4  GEORGIA ST/OLYMPIC  1FB70     1.0          8069A  NO STOPPING/STANDING   \n",
       "\n",
       "   Fine amount   Latitude  Longitude  issueTime  \n",
       "0         50.0    99999.0    99999.0       1251  \n",
       "1         50.0    99999.0    99999.0       1435  \n",
       "2         58.0  6439997.9  1802686.4       2055  \n",
       "3          NaN  6440041.1  1802686.2       1515  \n",
       "4         93.0    99999.0    99999.0        115  "
      ]
     },
     "execution_count": 8,
     "metadata": {},
     "output_type": "execute_result"
    }
   ],
   "source": [
    "df[\"issueTime\"] = df.loc[:,'Issue time'].astype(int)\n",
    "df.head()\n",
    "#convert data type to an int to remove trailing zeros\n",
    "#df['issuetime']= df.loc[:,('Issue time')].astype(int)\n",
    "#df.head()\n",
    "#dfmi.loc[:,('one','second')] = value"
   ]
  },
  {
   "cell_type": "code",
   "execution_count": 9,
   "metadata": {
    "colab": {},
    "colab_type": "code",
    "id": "ej8zKbr6DSPS"
   },
   "outputs": [],
   "source": [
    "#Change data types to datetime formats\n",
    "#import datetime package\n",
    "import datetime as dt\n",
    "from datetime import date\n",
    "from datetime import time\n",
    "from datetime import datetime\n"
   ]
  },
  {
   "cell_type": "code",
   "execution_count": 10,
   "metadata": {
    "colab": {},
    "colab_type": "code",
    "id": "itqNn5mRDSP3"
   },
   "outputs": [],
   "source": [
    "#adding padded zeros to 3-digit times\n",
    "#first convert to a str\n",
    "df['issueTime'] = df['issueTime'].astype(str)\n",
    "\n",
    "df['issueTime'] = df['issueTime'].apply(lambda x: x.zfill(4))"
   ]
  },
  {
   "cell_type": "code",
   "execution_count": 11,
   "metadata": {
    "colab": {},
    "colab_type": "code",
    "id": "eq7TFGDvDSQD",
    "outputId": "a0fe20a2-3105-4552-b9e0-03f0700f3c51"
   },
   "outputs": [
    {
     "data": {
      "text/html": [
       "<div>\n",
       "<style scoped>\n",
       "    .dataframe tbody tr th:only-of-type {\n",
       "        vertical-align: middle;\n",
       "    }\n",
       "\n",
       "    .dataframe tbody tr th {\n",
       "        vertical-align: top;\n",
       "    }\n",
       "\n",
       "    .dataframe thead th {\n",
       "        text-align: right;\n",
       "    }\n",
       "</style>\n",
       "<table border=\"1\" class=\"dataframe\">\n",
       "  <thead>\n",
       "    <tr style=\"text-align: right;\">\n",
       "      <th></th>\n",
       "      <th>Ticket number</th>\n",
       "      <th>Issue Date</th>\n",
       "      <th>Issue time</th>\n",
       "      <th>Marked Time</th>\n",
       "      <th>Make</th>\n",
       "      <th>Location</th>\n",
       "      <th>Route</th>\n",
       "      <th>Agency</th>\n",
       "      <th>Violation code</th>\n",
       "      <th>Violation Description</th>\n",
       "      <th>Fine amount</th>\n",
       "      <th>Latitude</th>\n",
       "      <th>Longitude</th>\n",
       "      <th>issueTime</th>\n",
       "    </tr>\n",
       "  </thead>\n",
       "  <tbody>\n",
       "    <tr>\n",
       "      <th>0</th>\n",
       "      <td>1103341116</td>\n",
       "      <td>2015-12-21T00:00:00</td>\n",
       "      <td>1251.0</td>\n",
       "      <td>NaN</td>\n",
       "      <td>HOND</td>\n",
       "      <td>13147 WELBY WAY</td>\n",
       "      <td>01521</td>\n",
       "      <td>1.0</td>\n",
       "      <td>4000A1</td>\n",
       "      <td>NO EVIDENCE OF REG</td>\n",
       "      <td>50.0</td>\n",
       "      <td>99999.0</td>\n",
       "      <td>99999.0</td>\n",
       "      <td>1251</td>\n",
       "    </tr>\n",
       "    <tr>\n",
       "      <th>1</th>\n",
       "      <td>1103700150</td>\n",
       "      <td>2015-12-21T00:00:00</td>\n",
       "      <td>1435.0</td>\n",
       "      <td>NaN</td>\n",
       "      <td>GMC</td>\n",
       "      <td>525 S MAIN ST</td>\n",
       "      <td>1C51</td>\n",
       "      <td>1.0</td>\n",
       "      <td>4000A1</td>\n",
       "      <td>NO EVIDENCE OF REG</td>\n",
       "      <td>50.0</td>\n",
       "      <td>99999.0</td>\n",
       "      <td>99999.0</td>\n",
       "      <td>1435</td>\n",
       "    </tr>\n",
       "    <tr>\n",
       "      <th>2</th>\n",
       "      <td>1104803000</td>\n",
       "      <td>2015-12-21T00:00:00</td>\n",
       "      <td>2055.0</td>\n",
       "      <td>NaN</td>\n",
       "      <td>NISS</td>\n",
       "      <td>200 WORLD WAY</td>\n",
       "      <td>2R2</td>\n",
       "      <td>2.0</td>\n",
       "      <td>8939</td>\n",
       "      <td>WHITE CURB</td>\n",
       "      <td>58.0</td>\n",
       "      <td>6439997.9</td>\n",
       "      <td>1802686.4</td>\n",
       "      <td>2055</td>\n",
       "    </tr>\n",
       "    <tr>\n",
       "      <th>3</th>\n",
       "      <td>1104820732</td>\n",
       "      <td>2015-12-26T00:00:00</td>\n",
       "      <td>1515.0</td>\n",
       "      <td>NaN</td>\n",
       "      <td>ACUR</td>\n",
       "      <td>100 WORLD WAY</td>\n",
       "      <td>2F11</td>\n",
       "      <td>2.0</td>\n",
       "      <td>000</td>\n",
       "      <td>17104h</td>\n",
       "      <td>NaN</td>\n",
       "      <td>6440041.1</td>\n",
       "      <td>1802686.2</td>\n",
       "      <td>1515</td>\n",
       "    </tr>\n",
       "    <tr>\n",
       "      <th>4</th>\n",
       "      <td>1105461453</td>\n",
       "      <td>2015-09-15T00:00:00</td>\n",
       "      <td>115.0</td>\n",
       "      <td>NaN</td>\n",
       "      <td>CHEV</td>\n",
       "      <td>GEORGIA ST/OLYMPIC</td>\n",
       "      <td>1FB70</td>\n",
       "      <td>1.0</td>\n",
       "      <td>8069A</td>\n",
       "      <td>NO STOPPING/STANDING</td>\n",
       "      <td>93.0</td>\n",
       "      <td>99999.0</td>\n",
       "      <td>99999.0</td>\n",
       "      <td>0115</td>\n",
       "    </tr>\n",
       "  </tbody>\n",
       "</table>\n",
       "</div>"
      ],
      "text/plain": [
       "  Ticket number           Issue Date  Issue time  Marked Time  Make  \\\n",
       "0    1103341116  2015-12-21T00:00:00      1251.0          NaN  HOND   \n",
       "1    1103700150  2015-12-21T00:00:00      1435.0          NaN   GMC   \n",
       "2    1104803000  2015-12-21T00:00:00      2055.0          NaN  NISS   \n",
       "3    1104820732  2015-12-26T00:00:00      1515.0          NaN  ACUR   \n",
       "4    1105461453  2015-09-15T00:00:00       115.0          NaN  CHEV   \n",
       "\n",
       "             Location  Route  Agency Violation code Violation Description  \\\n",
       "0     13147 WELBY WAY  01521     1.0         4000A1    NO EVIDENCE OF REG   \n",
       "1       525 S MAIN ST   1C51     1.0         4000A1    NO EVIDENCE OF REG   \n",
       "2       200 WORLD WAY    2R2     2.0           8939            WHITE CURB   \n",
       "3       100 WORLD WAY   2F11     2.0            000                17104h   \n",
       "4  GEORGIA ST/OLYMPIC  1FB70     1.0          8069A  NO STOPPING/STANDING   \n",
       "\n",
       "   Fine amount   Latitude  Longitude issueTime  \n",
       "0         50.0    99999.0    99999.0      1251  \n",
       "1         50.0    99999.0    99999.0      1435  \n",
       "2         58.0  6439997.9  1802686.4      2055  \n",
       "3          NaN  6440041.1  1802686.2      1515  \n",
       "4         93.0    99999.0    99999.0      0115  "
      ]
     },
     "execution_count": 11,
     "metadata": {},
     "output_type": "execute_result"
    }
   ],
   "source": [
    "df.head()"
   ]
  },
  {
   "cell_type": "code",
   "execution_count": 12,
   "metadata": {},
   "outputs": [],
   "source": [
    "#delete everything but the date from the issue date and put in a new column\n",
    "\n",
    "df['IssueDateNew'] = df['Issue Date'].apply(lambda x: x.replace('T00:00:00', ''))"
   ]
  },
  {
   "cell_type": "code",
   "execution_count": 2,
   "metadata": {},
   "outputs": [
    {
     "ename": "NameError",
     "evalue": "name 'df' is not defined",
     "output_type": "error",
     "traceback": [
      "\u001b[0;31m---------------------------------------------------------------------------\u001b[0m",
      "\u001b[0;31mNameError\u001b[0m                                 Traceback (most recent call last)",
      "\u001b[0;32m<ipython-input-2-dd438deb830b>\u001b[0m in \u001b[0;36m<module>\u001b[0;34m()\u001b[0m\n\u001b[0;32m----> 1\u001b[0;31m \u001b[0mdf\u001b[0m\u001b[0;34m.\u001b[0m\u001b[0mtail\u001b[0m\u001b[0;34m(\u001b[0m\u001b[0;36m100\u001b[0m\u001b[0;34m)\u001b[0m\u001b[0;34m\u001b[0m\u001b[0m\n\u001b[0m",
      "\u001b[0;31mNameError\u001b[0m: name 'df' is not defined"
     ]
    }
   ],
   "source": [
    "df.tail(100)"
   ]
  },
  {
   "cell_type": "code",
   "execution_count": 19,
   "metadata": {},
   "outputs": [],
   "source": [
    "#combine issue date and issue time\n",
    "# name is dt_issued\n",
    "#first make sure it will work by printing : print(df.IssueDateNew + ' ' + df.issueTime )"
   ]
  },
  {
   "cell_type": "code",
   "execution_count": 15,
   "metadata": {},
   "outputs": [],
   "source": [
    "df['datetime_issued'] = (df['IssueDateNew'] + ' ' + df['issueTime'])"
   ]
  },
  {
   "cell_type": "code",
   "execution_count": 16,
   "metadata": {},
   "outputs": [
    {
     "data": {
      "text/plain": [
       "0    2015-12-21 1251\n",
       "1    2015-12-21 1435\n",
       "2    2015-12-21 2055\n",
       "3    2015-12-26 1515\n",
       "4    2015-09-15 0115\n",
       "Name: datetime_issued, dtype: object"
      ]
     },
     "execution_count": 16,
     "metadata": {},
     "output_type": "execute_result"
    }
   ],
   "source": [
    "df.datetime_issued.head()\n"
   ]
  },
  {
   "cell_type": "code",
   "execution_count": 17,
   "metadata": {
    "colab": {},
    "colab_type": "code",
    "id": "65FBJ_LADSQZ"
   },
   "outputs": [],
   "source": [
    "#Convert to date time format\n",
    "df['datetime_issued']=pd.to_datetime(df['datetime_issued'], format='%Y-%m-%d %H%M')"
   ]
  },
  {
   "cell_type": "code",
   "execution_count": 18,
   "metadata": {
    "colab": {},
    "colab_type": "code",
    "id": "b0Qo32ibDSQ9",
    "outputId": "486e4461-397e-43db-f9cc-69f15ae562f0"
   },
   "outputs": [
    {
     "name": "stdout",
     "output_type": "stream",
     "text": [
      "<class 'pandas.core.frame.DataFrame'>\n",
      "Int64Index: 8079543 entries, 0 to 8081870\n",
      "Data columns (total 16 columns):\n",
      "Ticket number            object\n",
      "Issue Date               object\n",
      "Issue time               float64\n",
      "Marked Time              float64\n",
      "Make                     object\n",
      "Location                 object\n",
      "Route                    object\n",
      "Agency                   float64\n",
      "Violation code           object\n",
      "Violation Description    object\n",
      "Fine amount              float64\n",
      "Latitude                 float64\n",
      "Longitude                float64\n",
      "issueTime                object\n",
      "IssueDateNew             object\n",
      "datetime_issued          datetime64[ns]\n",
      "dtypes: datetime64[ns](1), float64(6), object(9)\n",
      "memory usage: 1.0+ GB\n"
     ]
    }
   ],
   "source": [
    "df.info()"
   ]
  },
  {
   "cell_type": "code",
   "execution_count": 19,
   "metadata": {},
   "outputs": [],
   "source": [
    "# convert IssueDateNew to a date\n",
    "df['IssueDateNew '] = pd.to_datetime(df['IssueDateNew'])"
   ]
  },
  {
   "cell_type": "code",
   "execution_count": 20,
   "metadata": {},
   "outputs": [],
   "source": [
    "df['issueTime']=pd.to_datetime(df['issueTime'], format='%H%M').dt.time"
   ]
  },
  {
   "cell_type": "code",
   "execution_count": 23,
   "metadata": {
    "colab": {},
    "colab_type": "code",
    "id": "A2jHYYT_DSRT",
    "outputId": "c81e858d-b628-4be2-a8ee-c75a6cf7e76b"
   },
   "outputs": [
    {
     "data": {
      "text/plain": [
       "Ticket number                    object\n",
       "Issue Date                       object\n",
       "Issue time                      float64\n",
       "Marked Time                     float64\n",
       "Make                             object\n",
       "Location                         object\n",
       "Route                            object\n",
       "Agency                          float64\n",
       "Violation code                   object\n",
       "Violation Description            object\n",
       "Fine amount                     float64\n",
       "Latitude                        float64\n",
       "Longitude                       float64\n",
       "issueTime                        object\n",
       "IssueDateNew                     object\n",
       "datetime_issued          datetime64[ns]\n",
       "IssueDateNew             datetime64[ns]\n",
       "dtype: object"
      ]
     },
     "execution_count": 23,
     "metadata": {},
     "output_type": "execute_result"
    }
   ],
   "source": [
    "df.dtypes"
   ]
  },
  {
   "cell_type": "code",
   "execution_count": 24,
   "metadata": {
    "colab": {},
    "colab_type": "code",
    "id": "RuBCa3BxDSRr",
    "outputId": "c8d27479-49ab-4372-a845-95e65aa2e113"
   },
   "outputs": [
    {
     "name": "stdout",
     "output_type": "stream",
     "text": [
      "51\n"
     ]
    }
   ],
   "source": [
    "#to check and make sure conversion worked\n",
    "print(df['issueTime'][0].minute)    #should print just the minute\n",
    "#print(df['Issue time'][0].hour)    #should print just the hour"
   ]
  },
  {
   "cell_type": "code",
   "execution_count": 25,
   "metadata": {
    "colab": {},
    "colab_type": "code",
    "id": "ZzHfnse5DSTk"
   },
   "outputs": [],
   "source": [
    "#take year from the Issue Date column and make it into a new separate column\n",
    "df['issueYear'] = pd.DatetimeIndex(df['Issue Date']).year"
   ]
  },
  {
   "cell_type": "code",
   "execution_count": 26,
   "metadata": {
    "colab": {},
    "colab_type": "code",
    "id": "EdFDIpXyDSUf",
    "outputId": "6b92d506-1af6-4078-85b5-ad82d06025e5"
   },
   "outputs": [
    {
     "data": {
      "text/html": [
       "<div>\n",
       "<style scoped>\n",
       "    .dataframe tbody tr th:only-of-type {\n",
       "        vertical-align: middle;\n",
       "    }\n",
       "\n",
       "    .dataframe tbody tr th {\n",
       "        vertical-align: top;\n",
       "    }\n",
       "\n",
       "    .dataframe thead th {\n",
       "        text-align: right;\n",
       "    }\n",
       "</style>\n",
       "<table border=\"1\" class=\"dataframe\">\n",
       "  <thead>\n",
       "    <tr style=\"text-align: right;\">\n",
       "      <th></th>\n",
       "      <th>Ticket number</th>\n",
       "      <th>Issue Date</th>\n",
       "      <th>Issue time</th>\n",
       "      <th>Marked Time</th>\n",
       "      <th>Make</th>\n",
       "      <th>Location</th>\n",
       "      <th>Route</th>\n",
       "      <th>Agency</th>\n",
       "      <th>Violation code</th>\n",
       "      <th>Violation Description</th>\n",
       "      <th>Fine amount</th>\n",
       "      <th>Latitude</th>\n",
       "      <th>Longitude</th>\n",
       "      <th>issueTime</th>\n",
       "      <th>IssueDateNew</th>\n",
       "      <th>datetime_issued</th>\n",
       "      <th>IssueDateNew</th>\n",
       "      <th>issueYear</th>\n",
       "    </tr>\n",
       "  </thead>\n",
       "  <tbody>\n",
       "    <tr>\n",
       "      <th>0</th>\n",
       "      <td>1103341116</td>\n",
       "      <td>2015-12-21T00:00:00</td>\n",
       "      <td>1251.0</td>\n",
       "      <td>NaN</td>\n",
       "      <td>HOND</td>\n",
       "      <td>13147 WELBY WAY</td>\n",
       "      <td>01521</td>\n",
       "      <td>1.0</td>\n",
       "      <td>4000A1</td>\n",
       "      <td>NO EVIDENCE OF REG</td>\n",
       "      <td>50.0</td>\n",
       "      <td>99999.0</td>\n",
       "      <td>99999.0</td>\n",
       "      <td>12:51:00</td>\n",
       "      <td>2015-12-21</td>\n",
       "      <td>2015-12-21 12:51:00</td>\n",
       "      <td>2015-12-21</td>\n",
       "      <td>2015</td>\n",
       "    </tr>\n",
       "    <tr>\n",
       "      <th>1</th>\n",
       "      <td>1103700150</td>\n",
       "      <td>2015-12-21T00:00:00</td>\n",
       "      <td>1435.0</td>\n",
       "      <td>NaN</td>\n",
       "      <td>GMC</td>\n",
       "      <td>525 S MAIN ST</td>\n",
       "      <td>1C51</td>\n",
       "      <td>1.0</td>\n",
       "      <td>4000A1</td>\n",
       "      <td>NO EVIDENCE OF REG</td>\n",
       "      <td>50.0</td>\n",
       "      <td>99999.0</td>\n",
       "      <td>99999.0</td>\n",
       "      <td>14:35:00</td>\n",
       "      <td>2015-12-21</td>\n",
       "      <td>2015-12-21 14:35:00</td>\n",
       "      <td>2015-12-21</td>\n",
       "      <td>2015</td>\n",
       "    </tr>\n",
       "    <tr>\n",
       "      <th>2</th>\n",
       "      <td>1104803000</td>\n",
       "      <td>2015-12-21T00:00:00</td>\n",
       "      <td>2055.0</td>\n",
       "      <td>NaN</td>\n",
       "      <td>NISS</td>\n",
       "      <td>200 WORLD WAY</td>\n",
       "      <td>2R2</td>\n",
       "      <td>2.0</td>\n",
       "      <td>8939</td>\n",
       "      <td>WHITE CURB</td>\n",
       "      <td>58.0</td>\n",
       "      <td>6439997.9</td>\n",
       "      <td>1802686.4</td>\n",
       "      <td>20:55:00</td>\n",
       "      <td>2015-12-21</td>\n",
       "      <td>2015-12-21 20:55:00</td>\n",
       "      <td>2015-12-21</td>\n",
       "      <td>2015</td>\n",
       "    </tr>\n",
       "    <tr>\n",
       "      <th>3</th>\n",
       "      <td>1104820732</td>\n",
       "      <td>2015-12-26T00:00:00</td>\n",
       "      <td>1515.0</td>\n",
       "      <td>NaN</td>\n",
       "      <td>ACUR</td>\n",
       "      <td>100 WORLD WAY</td>\n",
       "      <td>2F11</td>\n",
       "      <td>2.0</td>\n",
       "      <td>000</td>\n",
       "      <td>17104h</td>\n",
       "      <td>NaN</td>\n",
       "      <td>6440041.1</td>\n",
       "      <td>1802686.2</td>\n",
       "      <td>15:15:00</td>\n",
       "      <td>2015-12-26</td>\n",
       "      <td>2015-12-26 15:15:00</td>\n",
       "      <td>2015-12-26</td>\n",
       "      <td>2015</td>\n",
       "    </tr>\n",
       "    <tr>\n",
       "      <th>4</th>\n",
       "      <td>1105461453</td>\n",
       "      <td>2015-09-15T00:00:00</td>\n",
       "      <td>115.0</td>\n",
       "      <td>NaN</td>\n",
       "      <td>CHEV</td>\n",
       "      <td>GEORGIA ST/OLYMPIC</td>\n",
       "      <td>1FB70</td>\n",
       "      <td>1.0</td>\n",
       "      <td>8069A</td>\n",
       "      <td>NO STOPPING/STANDING</td>\n",
       "      <td>93.0</td>\n",
       "      <td>99999.0</td>\n",
       "      <td>99999.0</td>\n",
       "      <td>01:15:00</td>\n",
       "      <td>2015-09-15</td>\n",
       "      <td>2015-09-15 01:15:00</td>\n",
       "      <td>2015-09-15</td>\n",
       "      <td>2015</td>\n",
       "    </tr>\n",
       "  </tbody>\n",
       "</table>\n",
       "</div>"
      ],
      "text/plain": [
       "  Ticket number           Issue Date  Issue time  Marked Time  Make  \\\n",
       "0    1103341116  2015-12-21T00:00:00      1251.0          NaN  HOND   \n",
       "1    1103700150  2015-12-21T00:00:00      1435.0          NaN   GMC   \n",
       "2    1104803000  2015-12-21T00:00:00      2055.0          NaN  NISS   \n",
       "3    1104820732  2015-12-26T00:00:00      1515.0          NaN  ACUR   \n",
       "4    1105461453  2015-09-15T00:00:00       115.0          NaN  CHEV   \n",
       "\n",
       "             Location  Route  Agency Violation code Violation Description  \\\n",
       "0     13147 WELBY WAY  01521     1.0         4000A1    NO EVIDENCE OF REG   \n",
       "1       525 S MAIN ST   1C51     1.0         4000A1    NO EVIDENCE OF REG   \n",
       "2       200 WORLD WAY    2R2     2.0           8939            WHITE CURB   \n",
       "3       100 WORLD WAY   2F11     2.0            000                17104h   \n",
       "4  GEORGIA ST/OLYMPIC  1FB70     1.0          8069A  NO STOPPING/STANDING   \n",
       "\n",
       "   Fine amount   Latitude  Longitude issueTime IssueDateNew  \\\n",
       "0         50.0    99999.0    99999.0  12:51:00   2015-12-21   \n",
       "1         50.0    99999.0    99999.0  14:35:00   2015-12-21   \n",
       "2         58.0  6439997.9  1802686.4  20:55:00   2015-12-21   \n",
       "3          NaN  6440041.1  1802686.2  15:15:00   2015-12-26   \n",
       "4         93.0    99999.0    99999.0  01:15:00   2015-09-15   \n",
       "\n",
       "      datetime_issued IssueDateNew   issueYear  \n",
       "0 2015-12-21 12:51:00    2015-12-21       2015  \n",
       "1 2015-12-21 14:35:00    2015-12-21       2015  \n",
       "2 2015-12-21 20:55:00    2015-12-21       2015  \n",
       "3 2015-12-26 15:15:00    2015-12-26       2015  \n",
       "4 2015-09-15 01:15:00    2015-09-15       2015  "
      ]
     },
     "execution_count": 26,
     "metadata": {},
     "output_type": "execute_result"
    }
   ],
   "source": [
    "df.head()"
   ]
  },
  {
   "cell_type": "code",
   "execution_count": 27,
   "metadata": {
    "colab": {},
    "colab_type": "code",
    "id": "Sqq9HbiaDSUl"
   },
   "outputs": [],
   "source": [
    "# make a new column with the day of the week the ticket was issued\n",
    "df['weekday'] = pd.DatetimeIndex(df['Issue Date']).dayofweek"
   ]
  },
  {
   "cell_type": "code",
   "execution_count": 28,
   "metadata": {
    "colab": {},
    "colab_type": "code",
    "id": "7c1TmksbDSUv"
   },
   "outputs": [],
   "source": [
    "df['month'] = pd.DatetimeIndex(df['Issue Date']).month"
   ]
  },
  {
   "cell_type": "code",
   "execution_count": 30,
   "metadata": {},
   "outputs": [
    {
     "name": "stdout",
     "output_type": "stream",
     "text": [
      "51\n"
     ]
    }
   ],
   "source": [
    "#go through one by one to VERIFY which columns to drop and keep and mark them below\n",
    "#print(df['Issue Date'][0].day)    #should print just the day\n",
    "#print(df['Issue time'][0].hour)    #should print just the hour\n",
    "#print(df['issueTime'][0].minute)    #should print just the minute\n",
    "#print(df['IssueDateNew'][0].day)    #should print just the day\n",
    "#print(df['dt_issued'][0].minute)    #should print just the minute\n",
    "print(df['datetime_issued'][0].minute)    #should print just the minute\n"
   ]
  },
  {
   "cell_type": "code",
   "execution_count": 47,
   "metadata": {},
   "outputs": [],
   "source": [
    "####### Issue Date                       object #DROP\n",
    "####### Issue time                       object #DROP\n",
    "####### IssueDateNew                     object #DROP\n",
    "####### dt_issued                        object #DROP\n"
   ]
  },
  {
   "cell_type": "code",
   "execution_count": 31,
   "metadata": {},
   "outputs": [],
   "source": [
    "\n",
    "#fix the column names\n",
    "df.columns = df.columns.str.lower()\n",
    "df.columns = df.columns.str.replace(' ','')\n"
   ]
  },
  {
   "cell_type": "code",
   "execution_count": 37,
   "metadata": {},
   "outputs": [
    {
     "data": {
      "text/html": [
       "<div>\n",
       "<style scoped>\n",
       "    .dataframe tbody tr th:only-of-type {\n",
       "        vertical-align: middle;\n",
       "    }\n",
       "\n",
       "    .dataframe tbody tr th {\n",
       "        vertical-align: top;\n",
       "    }\n",
       "\n",
       "    .dataframe thead th {\n",
       "        text-align: right;\n",
       "    }\n",
       "</style>\n",
       "<table border=\"1\" class=\"dataframe\">\n",
       "  <thead>\n",
       "    <tr style=\"text-align: right;\">\n",
       "      <th></th>\n",
       "      <th>ticketnumber</th>\n",
       "      <th>issuedate</th>\n",
       "      <th>issuetime</th>\n",
       "      <th>markedtime</th>\n",
       "      <th>make</th>\n",
       "      <th>location</th>\n",
       "      <th>route</th>\n",
       "      <th>agency</th>\n",
       "      <th>violationcode</th>\n",
       "      <th>violationdescription</th>\n",
       "      <th>fineamount</th>\n",
       "      <th>latitude</th>\n",
       "      <th>longitude</th>\n",
       "      <th>issuetime</th>\n",
       "      <th>issuedatenew</th>\n",
       "      <th>datetime_issued</th>\n",
       "      <th>issuedatenew</th>\n",
       "      <th>issueyear</th>\n",
       "      <th>weekday</th>\n",
       "      <th>month</th>\n",
       "    </tr>\n",
       "  </thead>\n",
       "  <tbody>\n",
       "    <tr>\n",
       "      <th>0</th>\n",
       "      <td>1103341116</td>\n",
       "      <td>2015-12-21T00:00:00</td>\n",
       "      <td>1251.0</td>\n",
       "      <td>NaN</td>\n",
       "      <td>HOND</td>\n",
       "      <td>13147 WELBY WAY</td>\n",
       "      <td>01521</td>\n",
       "      <td>1.0</td>\n",
       "      <td>4000A1</td>\n",
       "      <td>NO EVIDENCE OF REG</td>\n",
       "      <td>50.0</td>\n",
       "      <td>99999.0</td>\n",
       "      <td>99999.0</td>\n",
       "      <td>12:51:00</td>\n",
       "      <td>2015-12-21</td>\n",
       "      <td>2015-12-21 12:51:00</td>\n",
       "      <td>2015-12-21</td>\n",
       "      <td>2015</td>\n",
       "      <td>0</td>\n",
       "      <td>12</td>\n",
       "    </tr>\n",
       "    <tr>\n",
       "      <th>1</th>\n",
       "      <td>1103700150</td>\n",
       "      <td>2015-12-21T00:00:00</td>\n",
       "      <td>1435.0</td>\n",
       "      <td>NaN</td>\n",
       "      <td>GMC</td>\n",
       "      <td>525 S MAIN ST</td>\n",
       "      <td>1C51</td>\n",
       "      <td>1.0</td>\n",
       "      <td>4000A1</td>\n",
       "      <td>NO EVIDENCE OF REG</td>\n",
       "      <td>50.0</td>\n",
       "      <td>99999.0</td>\n",
       "      <td>99999.0</td>\n",
       "      <td>14:35:00</td>\n",
       "      <td>2015-12-21</td>\n",
       "      <td>2015-12-21 14:35:00</td>\n",
       "      <td>2015-12-21</td>\n",
       "      <td>2015</td>\n",
       "      <td>0</td>\n",
       "      <td>12</td>\n",
       "    </tr>\n",
       "    <tr>\n",
       "      <th>2</th>\n",
       "      <td>1104803000</td>\n",
       "      <td>2015-12-21T00:00:00</td>\n",
       "      <td>2055.0</td>\n",
       "      <td>NaN</td>\n",
       "      <td>NISS</td>\n",
       "      <td>200 WORLD WAY</td>\n",
       "      <td>2R2</td>\n",
       "      <td>2.0</td>\n",
       "      <td>8939</td>\n",
       "      <td>WHITE CURB</td>\n",
       "      <td>58.0</td>\n",
       "      <td>6439997.9</td>\n",
       "      <td>1802686.4</td>\n",
       "      <td>20:55:00</td>\n",
       "      <td>2015-12-21</td>\n",
       "      <td>2015-12-21 20:55:00</td>\n",
       "      <td>2015-12-21</td>\n",
       "      <td>2015</td>\n",
       "      <td>0</td>\n",
       "      <td>12</td>\n",
       "    </tr>\n",
       "    <tr>\n",
       "      <th>3</th>\n",
       "      <td>1104820732</td>\n",
       "      <td>2015-12-26T00:00:00</td>\n",
       "      <td>1515.0</td>\n",
       "      <td>NaN</td>\n",
       "      <td>ACUR</td>\n",
       "      <td>100 WORLD WAY</td>\n",
       "      <td>2F11</td>\n",
       "      <td>2.0</td>\n",
       "      <td>000</td>\n",
       "      <td>17104h</td>\n",
       "      <td>NaN</td>\n",
       "      <td>6440041.1</td>\n",
       "      <td>1802686.2</td>\n",
       "      <td>15:15:00</td>\n",
       "      <td>2015-12-26</td>\n",
       "      <td>2015-12-26 15:15:00</td>\n",
       "      <td>2015-12-26</td>\n",
       "      <td>2015</td>\n",
       "      <td>5</td>\n",
       "      <td>12</td>\n",
       "    </tr>\n",
       "    <tr>\n",
       "      <th>4</th>\n",
       "      <td>1105461453</td>\n",
       "      <td>2015-09-15T00:00:00</td>\n",
       "      <td>115.0</td>\n",
       "      <td>NaN</td>\n",
       "      <td>CHEV</td>\n",
       "      <td>GEORGIA ST/OLYMPIC</td>\n",
       "      <td>1FB70</td>\n",
       "      <td>1.0</td>\n",
       "      <td>8069A</td>\n",
       "      <td>NO STOPPING/STANDING</td>\n",
       "      <td>93.0</td>\n",
       "      <td>99999.0</td>\n",
       "      <td>99999.0</td>\n",
       "      <td>01:15:00</td>\n",
       "      <td>2015-09-15</td>\n",
       "      <td>2015-09-15 01:15:00</td>\n",
       "      <td>2015-09-15</td>\n",
       "      <td>2015</td>\n",
       "      <td>1</td>\n",
       "      <td>9</td>\n",
       "    </tr>\n",
       "  </tbody>\n",
       "</table>\n",
       "</div>"
      ],
      "text/plain": [
       "  ticketnumber            issuedate issuetime  markedtime  make  \\\n",
       "0   1103341116  2015-12-21T00:00:00    1251.0         NaN  HOND   \n",
       "1   1103700150  2015-12-21T00:00:00    1435.0         NaN   GMC   \n",
       "2   1104803000  2015-12-21T00:00:00    2055.0         NaN  NISS   \n",
       "3   1104820732  2015-12-26T00:00:00    1515.0         NaN  ACUR   \n",
       "4   1105461453  2015-09-15T00:00:00     115.0         NaN  CHEV   \n",
       "\n",
       "             location  route  agency violationcode  violationdescription  \\\n",
       "0     13147 WELBY WAY  01521     1.0        4000A1    NO EVIDENCE OF REG   \n",
       "1       525 S MAIN ST   1C51     1.0        4000A1    NO EVIDENCE OF REG   \n",
       "2       200 WORLD WAY    2R2     2.0          8939            WHITE CURB   \n",
       "3       100 WORLD WAY   2F11     2.0           000                17104h   \n",
       "4  GEORGIA ST/OLYMPIC  1FB70     1.0         8069A  NO STOPPING/STANDING   \n",
       "\n",
       "   fineamount   latitude  longitude issuetime issuedatenew  \\\n",
       "0        50.0    99999.0    99999.0  12:51:00   2015-12-21   \n",
       "1        50.0    99999.0    99999.0  14:35:00   2015-12-21   \n",
       "2        58.0  6439997.9  1802686.4  20:55:00   2015-12-21   \n",
       "3         NaN  6440041.1  1802686.2  15:15:00   2015-12-26   \n",
       "4        93.0    99999.0    99999.0  01:15:00   2015-09-15   \n",
       "\n",
       "      datetime_issued issuedatenew  issueyear  weekday  month  \n",
       "0 2015-12-21 12:51:00   2015-12-21       2015        0     12  \n",
       "1 2015-12-21 14:35:00   2015-12-21       2015        0     12  \n",
       "2 2015-12-21 20:55:00   2015-12-21       2015        0     12  \n",
       "3 2015-12-26 15:15:00   2015-12-26       2015        5     12  \n",
       "4 2015-09-15 01:15:00   2015-09-15       2015        1      9  "
      ]
     },
     "execution_count": 37,
     "metadata": {},
     "output_type": "execute_result"
    }
   ],
   "source": [
    "df.head()"
   ]
  },
  {
   "cell_type": "code",
   "execution_count": 47,
   "metadata": {},
   "outputs": [],
   "source": [
    "df['new_issuedatenew'] = df.iloc[:,16]"
   ]
  },
  {
   "cell_type": "code",
   "execution_count": 49,
   "metadata": {},
   "outputs": [
    {
     "name": "stdout",
     "output_type": "stream",
     "text": [
      "<class 'pandas.core.frame.DataFrame'>\n",
      "Int64Index: 8078780 entries, 0 to 8081870\n",
      "Data columns (total 21 columns):\n",
      "ticketnumber            object\n",
      "issuedate               object\n",
      "issuetime               float64\n",
      "markedtime              float64\n",
      "make                    object\n",
      "location                object\n",
      "route                   object\n",
      "agency                  float64\n",
      "violationcode           object\n",
      "violationdescription    object\n",
      "fineamount              float64\n",
      "latitude                float64\n",
      "longitude               float64\n",
      "issuetime               object\n",
      "issuedatenew            object\n",
      "datetime_issued         datetime64[ns]\n",
      "issuedatenew            datetime64[ns]\n",
      "issueyear               int64\n",
      "weekday                 int64\n",
      "month                   int64\n",
      "new_issuedatenew        datetime64[ns]\n",
      "dtypes: datetime64[ns](3), float64(6), int64(3), object(9)\n",
      "memory usage: 1.3+ GB\n"
     ]
    }
   ],
   "source": [
    "df.info()"
   ]
  },
  {
   "cell_type": "code",
   "execution_count": 51,
   "metadata": {},
   "outputs": [],
   "source": [
    "columns = ['issuedate', 'issuedatenew']\n",
    "df = df.drop(columns, axis=1)\n",
    "#df.drop(columntodrop, axis=1)\n",
    "#columntodrop = df.iloc[:,14]"
   ]
  },
  {
   "cell_type": "code",
   "execution_count": 56,
   "metadata": {},
   "outputs": [
    {
     "data": {
      "text/plain": [
       "0"
      ]
     },
     "execution_count": 56,
     "metadata": {},
     "output_type": "execute_result"
    }
   ],
   "source": [
    "df[\"violationdescription\"].isnull().sum()"
   ]
  },
  {
   "cell_type": "code",
   "execution_count": 34,
   "metadata": {},
   "outputs": [],
   "source": [
    "df = df[~df[\"violationdescription\"].isnull()] "
   ]
  },
  {
   "cell_type": "code",
   "execution_count": 51,
   "metadata": {},
   "outputs": [],
   "source": [
    "#to put in prep for scatterplot sheet\n",
    "#dfnew.head()\n",
    "columns = ['Issue Date', 'Issue time', \"Meter Id\", \"RP State Plate\", \"Plate Expiry Date\", \"VIN\", \"Make\", \"Body Style\", \"Color\", \"Agency\", \"Fine amount\"]\n",
    "\n",
    "dfnew = dfnew.drop(columns, axis=1)"
   ]
  },
  {
   "cell_type": "code",
   "execution_count": 54,
   "metadata": {},
   "outputs": [
    {
     "data": {
      "text/html": [
       "<div>\n",
       "<style scoped>\n",
       "    .dataframe tbody tr th:only-of-type {\n",
       "        vertical-align: middle;\n",
       "    }\n",
       "\n",
       "    .dataframe tbody tr th {\n",
       "        vertical-align: top;\n",
       "    }\n",
       "\n",
       "    .dataframe thead th {\n",
       "        text-align: right;\n",
       "    }\n",
       "</style>\n",
       "<table border=\"1\" class=\"dataframe\">\n",
       "  <thead>\n",
       "    <tr style=\"text-align: right;\">\n",
       "      <th></th>\n",
       "      <th>ticketnumber</th>\n",
       "      <th>markedtime</th>\n",
       "      <th>location</th>\n",
       "      <th>route</th>\n",
       "      <th>violationcode</th>\n",
       "      <th>violationdescription</th>\n",
       "      <th>latitude</th>\n",
       "      <th>longitude</th>\n",
       "    </tr>\n",
       "  </thead>\n",
       "  <tbody>\n",
       "    <tr>\n",
       "      <th>0</th>\n",
       "      <td>1103341116</td>\n",
       "      <td>NaN</td>\n",
       "      <td>13147 WELBY WAY</td>\n",
       "      <td>01521</td>\n",
       "      <td>4000A1</td>\n",
       "      <td>NO EVIDENCE OF REG</td>\n",
       "      <td>99999.0</td>\n",
       "      <td>99999.0</td>\n",
       "    </tr>\n",
       "    <tr>\n",
       "      <th>1</th>\n",
       "      <td>1103700150</td>\n",
       "      <td>NaN</td>\n",
       "      <td>525 S MAIN ST</td>\n",
       "      <td>1C51</td>\n",
       "      <td>4000A1</td>\n",
       "      <td>NO EVIDENCE OF REG</td>\n",
       "      <td>99999.0</td>\n",
       "      <td>99999.0</td>\n",
       "    </tr>\n",
       "    <tr>\n",
       "      <th>2</th>\n",
       "      <td>1104803000</td>\n",
       "      <td>NaN</td>\n",
       "      <td>200 WORLD WAY</td>\n",
       "      <td>2R2</td>\n",
       "      <td>8939</td>\n",
       "      <td>WHITE CURB</td>\n",
       "      <td>6439997.9</td>\n",
       "      <td>1802686.4</td>\n",
       "    </tr>\n",
       "    <tr>\n",
       "      <th>3</th>\n",
       "      <td>1104820732</td>\n",
       "      <td>NaN</td>\n",
       "      <td>100 WORLD WAY</td>\n",
       "      <td>2F11</td>\n",
       "      <td>000</td>\n",
       "      <td>17104h</td>\n",
       "      <td>6440041.1</td>\n",
       "      <td>1802686.2</td>\n",
       "    </tr>\n",
       "    <tr>\n",
       "      <th>4</th>\n",
       "      <td>1105461453</td>\n",
       "      <td>NaN</td>\n",
       "      <td>GEORGIA ST/OLYMPIC</td>\n",
       "      <td>1FB70</td>\n",
       "      <td>8069A</td>\n",
       "      <td>NO STOPPING/STANDING</td>\n",
       "      <td>99999.0</td>\n",
       "      <td>99999.0</td>\n",
       "    </tr>\n",
       "  </tbody>\n",
       "</table>\n",
       "</div>"
      ],
      "text/plain": [
       "  ticketnumber  markedtime            location  route violationcode  \\\n",
       "0   1103341116         NaN     13147 WELBY WAY  01521        4000A1   \n",
       "1   1103700150         NaN       525 S MAIN ST   1C51        4000A1   \n",
       "2   1104803000         NaN       200 WORLD WAY    2R2          8939   \n",
       "3   1104820732         NaN       100 WORLD WAY   2F11           000   \n",
       "4   1105461453         NaN  GEORGIA ST/OLYMPIC  1FB70         8069A   \n",
       "\n",
       "   violationdescription   latitude  longitude  \n",
       "0    NO EVIDENCE OF REG    99999.0    99999.0  \n",
       "1    NO EVIDENCE OF REG    99999.0    99999.0  \n",
       "2            WHITE CURB  6439997.9  1802686.4  \n",
       "3                17104h  6440041.1  1802686.2  \n",
       "4  NO STOPPING/STANDING    99999.0    99999.0  "
      ]
     },
     "execution_count": 54,
     "metadata": {},
     "output_type": "execute_result"
    }
   ],
   "source": [
    "\n",
    "\n",
    "#fix the column names\n",
    "dfnew.columns = dfnew.columns.str.lower()\n",
    "dfnew.columns = dfnew.columns.str.replace(' ','')\n",
    "\n",
    "dfnew.head()"
   ]
  },
  {
   "cell_type": "code",
   "execution_count": 76,
   "metadata": {},
   "outputs": [
    {
     "data": {
      "text/plain": [
       "<matplotlib.axes._subplots.AxesSubplot at 0x1aaf31080>"
      ]
     },
     "execution_count": 76,
     "metadata": {},
     "output_type": "execute_result"
    },
    {
     "data": {
      "image/png": "[encoded data removed]",
      "text/plain": [
       "<Figure size 432x288 with 1 Axes>"
      ]
     },
     "metadata": {
      "needs_background": "light"
     },
     "output_type": "display_data"
    }
   ],
   "source": [
    "\n",
    "sns.countplot(y=\"violationdescription\", hue=\"issueyear\", data=df, palette=\"Greens_d\",\n",
    "              order=df.violationdescription.value_counts().iloc[:20].index)"
   ]
  },
  {
   "cell_type": "code",
   "execution_count": 77,
   "metadata": {},
   "outputs": [
    {
     "data": {
      "text/plain": [
       "2010"
      ]
     },
     "execution_count": 77,
     "metadata": {},
     "output_type": "execute_result"
    }
   ],
   "source": [
    "#df.violationdescription.value_counts()[df.violationdescription.value_counts()<100]\n",
    "df.issueyear.min()"
   ]
  },
  {
   "cell_type": "code",
   "execution_count": 69,
   "metadata": {},
   "outputs": [
    {
     "ename": "IndexingError",
     "evalue": "Unalignable boolean Series provided as indexer (index of the boolean Series and of the indexed object do not match",
     "output_type": "error",
     "traceback": [
      "\u001b[0;31m---------------------------------------------------------------------------\u001b[0m",
      "\u001b[0;31mIndexingError\u001b[0m                             Traceback (most recent call last)",
      "\u001b[0;32m<ipython-input-69-cd538f89776e>\u001b[0m in \u001b[0;36m<module>\u001b[0;34m()\u001b[0m\n\u001b[0;32m----> 1\u001b[0;31m \u001b[0mdftest\u001b[0m \u001b[0;34m=\u001b[0m \u001b[0mdf\u001b[0m\u001b[0;34m.\u001b[0m\u001b[0mviolationdescription\u001b[0m\u001b[0;34m[\u001b[0m\u001b[0mdf\u001b[0m\u001b[0;34m.\u001b[0m\u001b[0mviolationdescription\u001b[0m\u001b[0;34m.\u001b[0m\u001b[0mvalue_counts\u001b[0m\u001b[0;34m(\u001b[0m\u001b[0;34m)\u001b[0m\u001b[0;34m>\u001b[0m\u001b[0;36m100\u001b[0m\u001b[0;34m]\u001b[0m\u001b[0;34m\u001b[0m\u001b[0m\n\u001b[0m\u001b[1;32m      2\u001b[0m \u001b[0;31m#dftest.head()\u001b[0m\u001b[0;34m\u001b[0m\u001b[0;34m\u001b[0m\u001b[0m\n",
      "\u001b[0;32m~/anaconda3/envs/insight/lib/python3.7/site-packages/pandas/core/series.py\u001b[0m in \u001b[0;36m__getitem__\u001b[0;34m(self, key)\u001b[0m\n\u001b[1;32m    806\u001b[0m \u001b[0;34m\u001b[0m\u001b[0m\n\u001b[1;32m    807\u001b[0m         \u001b[0;32mif\u001b[0m \u001b[0mcom\u001b[0m\u001b[0;34m.\u001b[0m\u001b[0mis_bool_indexer\u001b[0m\u001b[0;34m(\u001b[0m\u001b[0mkey\u001b[0m\u001b[0;34m)\u001b[0m\u001b[0;34m:\u001b[0m\u001b[0;34m\u001b[0m\u001b[0m\n\u001b[0;32m--> 808\u001b[0;31m             \u001b[0mkey\u001b[0m \u001b[0;34m=\u001b[0m \u001b[0mcheck_bool_indexer\u001b[0m\u001b[0;34m(\u001b[0m\u001b[0mself\u001b[0m\u001b[0;34m.\u001b[0m\u001b[0mindex\u001b[0m\u001b[0;34m,\u001b[0m \u001b[0mkey\u001b[0m\u001b[0;34m)\u001b[0m\u001b[0;34m\u001b[0m\u001b[0m\n\u001b[0m\u001b[1;32m    809\u001b[0m \u001b[0;34m\u001b[0m\u001b[0m\n\u001b[1;32m    810\u001b[0m         \u001b[0;32mreturn\u001b[0m \u001b[0mself\u001b[0m\u001b[0;34m.\u001b[0m\u001b[0m_get_with\u001b[0m\u001b[0;34m(\u001b[0m\u001b[0mkey\u001b[0m\u001b[0;34m)\u001b[0m\u001b[0;34m\u001b[0m\u001b[0m\n",
      "\u001b[0;32m~/anaconda3/envs/insight/lib/python3.7/site-packages/pandas/core/indexing.py\u001b[0m in \u001b[0;36mcheck_bool_indexer\u001b[0;34m(ax, key)\u001b[0m\n\u001b[1;32m   2354\u001b[0m         \u001b[0mmask\u001b[0m \u001b[0;34m=\u001b[0m \u001b[0misna\u001b[0m\u001b[0;34m(\u001b[0m\u001b[0mresult\u001b[0m\u001b[0;34m.\u001b[0m\u001b[0m_values\u001b[0m\u001b[0;34m)\u001b[0m\u001b[0;34m\u001b[0m\u001b[0m\n\u001b[1;32m   2355\u001b[0m         \u001b[0;32mif\u001b[0m \u001b[0mmask\u001b[0m\u001b[0;34m.\u001b[0m\u001b[0many\u001b[0m\u001b[0;34m(\u001b[0m\u001b[0;34m)\u001b[0m\u001b[0;34m:\u001b[0m\u001b[0;34m\u001b[0m\u001b[0m\n\u001b[0;32m-> 2356\u001b[0;31m             raise IndexingError('Unalignable boolean Series provided as '\n\u001b[0m\u001b[1;32m   2357\u001b[0m                                 \u001b[0;34m'indexer (index of the boolean Series and of '\u001b[0m\u001b[0;34m\u001b[0m\u001b[0m\n\u001b[1;32m   2358\u001b[0m                                 'the indexed object do not match')\n",
      "\u001b[0;31mIndexingError\u001b[0m: Unalignable boolean Series provided as indexer (index of the boolean Series and of the indexed object do not match"
     ]
    }
   ],
   "source": [
    "#dftest = df.violationdescription.value_counts()[df.violationdescription.value_counts()>100]\n",
    "dftest.head()"
   ]
  },
  {
   "cell_type": "code",
   "execution_count": 56,
   "metadata": {},
   "outputs": [],
   "source": [
    "import seaborn as sns\n",
    "from matplotlib import pyplot as plt\n",
    "%matplotlib inline"
   ]
  },
  {
   "cell_type": "code",
   "execution_count": 62,
   "metadata": {},
   "outputs": [
    {
     "data": {
      "text/plain": [
       "967935"
      ]
     },
     "execution_count": 62,
     "metadata": {},
     "output_type": "execute_result"
    }
   ],
   "source": [
    "dfnew['latitude'].nunique()"
   ]
  },
  {
   "cell_type": "code",
   "execution_count": 63,
   "metadata": {},
   "outputs": [
    {
     "data": {
      "image/png": "[encoded data removed]",
      "text/plain": [
       "<Figure size 432x288 with 1 Axes>"
      ]
     },
     "metadata": {},
     "output_type": "display_data"
    }
   ],
   "source": [
    "sns.set()\n",
    "\n",
    "cmap = sns.cubehelix_palette(rot=-.2, as_cmap=True)\n",
    "ax = sns.scatterplot(x=\"latitude\", y=\"longitude\",\n",
    "                     hue=\"violationdescription\", size=\"violationdescription\",\n",
    "                     palette=\"Set2\", sizes=(10, 2000),\n",
    "                     data=dfnew, legend=False)"
   ]
  },
  {
   "cell_type": "code",
   "execution_count": 67,
   "metadata": {},
   "outputs": [
    {
     "data": {
      "image/png": "[encoded data removed]",
      "text/plain": [
       "<Figure size 432x288 with 1 Axes>"
      ]
     },
     "metadata": {},
     "output_type": "display_data"
    }
   ],
   "source": [
    "cmap = sns.cubehelix_palette(dark=.3, light=.8, as_cmap=True)\n",
    "ax = sns.scatterplot(x=\"latitude\", y=\"longitude\",\n",
    "                         hue=\"violationdescription\",\n",
    "                         palette=\"Set2\",\n",
    "                         data=dfnew, legend=False)"
   ]
  },
  {
   "cell_type": "code",
   "execution_count": 74,
   "metadata": {},
   "outputs": [],
   "source": [
    "dfnew.to_csv('dfdownsampled.csv', index=False)"
   ]
  },
  {
   "cell_type": "code",
   "execution_count": 70,
   "metadata": {},
   "outputs": [],
   "source": [
    "dfnewtest = dfnew[dfnew.violationdescription.str.contains(\"NO PARK/STREET CLEAN\") == False]\n",
    "#drop all street cleaning tix\n",
    "#dfnewtest = [dfnew.violationdescription.str.contains(\"NO PARK/STREET CLEAN\") == False]"
   ]
  },
  {
   "cell_type": "code",
   "execution_count": 73,
   "metadata": {},
   "outputs": [],
   "source": [
    "dfnewtest.to_csv('dfnoStClean.csv', index=False)"
   ]
  },
  {
   "cell_type": "code",
   "execution_count": null,
   "metadata": {},
   "outputs": [],
   "source": [
    "dfnewtest"
   ]
  },
  {
   "cell_type": "code",
   "execution_count": 90,
   "metadata": {},
   "outputs": [
    {
     "data": {
      "text/plain": [
       "['22651D',\n",
       " '5200A1',\n",
       " '5201G',\n",
       " 'PRKG PUBL GRNDS',\n",
       " '8606B',\n",
       " '26708A1',\n",
       " 'DP-ALTERED',\n",
       " 'PK-15FT FIRE ST',\n",
       " 'ILGL EXT OF TM',\n",
       " 'PK OVERSIZED 1ST',\n",
       " '22651K',\n",
       " 'PARKING UNHITCHED TR',\n",
       " '4000',\n",
       " '52011C',\n",
       " '22502',\n",
       " 'BLOCK HANDICAP ACCES',\n",
       " 'FOR SALE SIGN',\n",
       " '8306',\n",
       " '8502',\n",
       " '22523A',\n",
       " 'OVERSIZED VEHICLE PARKING',\n",
       " 'ADVERTISING ON VEH',\n",
       " 'REPAIRING VEH/STREET',\n",
       " '57490884',\n",
       " 'DP-SUBPLATE',\n",
       " 'OVERSIZED VEHICLE PA',\n",
       " 'BLOCKING INTERSECTION',\n",
       " '81714',\n",
       " 'DSPLYPLATE B',\n",
       " '5200F',\n",
       " '22523B',\n",
       " 'PARK IN XWALK',\n",
       " 'BLOCKING INTERSECTIO',\n",
       " 'PK OVR 2 SPACES',\n",
       " '2251157',\n",
       " '6344K12',\n",
       " 'STOP/STAND PROHB',\n",
       " 'OVERSIZED VEHICLE PARKING TOPHAM ST',\n",
       " 'PK OVERSIZED 2ND',\n",
       " 'NO COIN DEP IN METER',\n",
       " 'PK OVERSIZED 3RD',\n",
       " 'PARK RESTRCD',\n",
       " '5202A',\n",
       " '22502B',\n",
       " '22500D',\n",
       " '6344K1',\n",
       " '22651B',\n",
       " '22500C',\n",
       " '80741',\n",
       " 'SIGN POSTED - NO PAR',\n",
       " 'PARKING OUTSIDE PARK',\n",
       " '22500E1',\n",
       " 'PARKING OUTSIDE OF S',\n",
       " '5201B',\n",
       " '5201C',\n",
       " '40001A',\n",
       " '22400A',\n",
       " '5204A1',\n",
       " '6644K7',\n",
       " 'ABAND VEH/HIGHWAY',\n",
       " 'PRK IN ELEC VEH SPACE',\n",
       " '6FT OF RR TRACK',\n",
       " 'CATERING VIOLATION',\n",
       " '80703',\n",
       " 'BICYCLE PARKING',\n",
       " 'ANGLE PKD',\n",
       " 'PARK RED FLAG DAY',\n",
       " '8344K2',\n",
       " '8603B',\n",
       " '26101B',\n",
       " 'PARKING/FRONT YARD 2',\n",
       " '8069',\n",
       " 'RV-OVERNIGHT',\n",
       " 'OFF STREET/OVERTIME',\n",
       " '806910',\n",
       " 'MT FIRE RD NO PERMIT',\n",
       " 'FAIL DEP COIN',\n",
       " 'PK TRLR-PUBL AR',\n",
       " 'FR FORGN JURIS',\n",
       " '80692A',\n",
       " 'POSITION OF PLATES',\n",
       " 'MISUSE/DP PRIVILEGE',\n",
       " 'PK ON PRIV ST',\n",
       " '6344K',\n",
       " 'OUTSIDE MARKER',\n",
       " '8049A',\n",
       " '80661',\n",
       " '4204A',\n",
       " 'PARKED ON BRIDGE',\n",
       " 'MORE 18-CURB',\n",
       " '80391B',\n",
       " 'ABAND VEH/PUB/PRIV',\n",
       " '8577',\n",
       " '4464',\n",
       " '22500J',\n",
       " '22515',\n",
       " '8755*',\n",
       " '8606A',\n",
       " '8009H',\n",
       " 'IN PARK AFT HRS',\n",
       " 'OBSTR EXCAVATN',\n",
       " '6803',\n",
       " '572521',\n",
       " '5204C',\n",
       " '22651R',\n",
       " '80361A',\n",
       " '8939B',\n",
       " '22502B2',\n",
       " '2265101A',\n",
       " '8602B',\n",
       " 'PARKED IN ELEC VEHICLE SPACE',\n",
       " '80744',\n",
       " '80714A',\n",
       " 'HANDICPD/ON LINE',\n",
       " '8501B',\n",
       " 'PK TRAILER 2',\n",
       " '8969A',\n",
       " 'STANDING IN ALLEY',\n",
       " '8066',\n",
       " 'DEF WINDSHIELD',\n",
       " 'PARALLEL PK RQD',\n",
       " '26708',\n",
       " 'WRG VEH REGISTR',\n",
       " '8003',\n",
       " '8056',\n",
       " '22500G',\n",
       " '22400H',\n",
       " '2250A',\n",
       " 'YELLOW CURB',\n",
       " 'STATE HIGHWAY PARKNG',\n",
       " 'MOB BILBD ADV DISP',\n",
       " '22523AB',\n",
       " '226515',\n",
       " 'PK TRAILER 3',\n",
       " '5402A',\n",
       " '8003A',\n",
       " '267085',\n",
       " '80704',\n",
       " '8403',\n",
       " '80733',\n",
       " '22651',\n",
       " 'ON RR TRACK/7.5 FT',\n",
       " '22515A',\n",
       " '82732',\n",
       " '26708A',\n",
       " 'BLK INT PROHIB',\n",
       " '22502C',\n",
       " 'VIO-PERM/PARK',\n",
       " 'LOADING ZONES',\n",
       " 'NO PARK STRT CLEAN',\n",
       " '6344B14C',\n",
       " '8960',\n",
       " '22500K',\n",
       " '225022',\n",
       " '6344B14A',\n",
       " '80691O',\n",
       " 'COMMERCIAL - UNDESIG',\n",
       " 'PARK LOT - STRT/ALY',\n",
       " '8709',\n",
       " '8755**',\n",
       " '8805A',\n",
       " '22658A',\n",
       " '24002A',\n",
       " '8009K',\n",
       " 'RESTRCTD ZONES',\n",
       " '8071',\n",
       " '8063',\n",
       " '22669A',\n",
       " '52011E',\n",
       " '2500H',\n",
       " '8056A1',\n",
       " '52011A',\n",
       " '2251175A',\n",
       " '8056E',\n",
       " '40001',\n",
       " '6344B14B',\n",
       " '6644K2',\n",
       " '22651O',\n",
       " '22651E',\n",
       " 'PK NR FIRE HYDR',\n",
       " '225111A',\n",
       " 'UNINCORP AREA',\n",
       " '80723',\n",
       " '29003A',\n",
       " '5402',\n",
       " '80417',\n",
       " '22652',\n",
       " '8969B',\n",
       " '6341K2',\n",
       " '5204F',\n",
       " 'W/I 25 FT. CROSSWALK',\n",
       " '5749089',\n",
       " '22502A2',\n",
       " '6433K7',\n",
       " '22651N',\n",
       " '4463',\n",
       " 'FRONT BUMP REQ',\n",
       " '80371',\n",
       " '57490883',\n",
       " '22521',\n",
       " '26708A2',\n",
       " '6244K2',\n",
       " '44625',\n",
       " '89391',\n",
       " '22400',\n",
       " '26703B',\n",
       " '225115A',\n",
       " '80614',\n",
       " '4755',\n",
       " 'PARKNG IN TUNNEL',\n",
       " '5200H',\n",
       " 'FUEL CAP REQ',\n",
       " '226510A1',\n",
       " '26710A',\n",
       " '80361',\n",
       " '4200A',\n",
       " 'RGSTR CARD RQD',\n",
       " '82714',\n",
       " '22503B',\n",
       " '4461C',\n",
       " '8060',\n",
       " '8055',\n",
       " '22651J',\n",
       " '52011B',\n",
       " '5204B',\n",
       " 'PK BYND TM LMTS',\n",
       " '8303',\n",
       " '22101D',\n",
       " '8062',\n",
       " 'TEMPORARY NO PARKING',\n",
       " '22508A',\n",
       " '22651H',\n",
       " '2250H',\n",
       " '12500H',\n",
       " 'CATERING/W/I 200 FT',\n",
       " 'HAZARDOUS AREA',\n",
       " '26700',\n",
       " '2500E',\n",
       " '80701',\n",
       " 'DISABLED PERSON',\n",
       " '5200J',\n",
       " 'REAR/SD MIR RQD',\n",
       " '8060A',\n",
       " '21657',\n",
       " '226513',\n",
       " '22699A',\n",
       " '70841',\n",
       " '6544K2',\n",
       " '5404',\n",
       " '22651A',\n",
       " '80174',\n",
       " '52001',\n",
       " '225021',\n",
       " 'TRAILER NOT ATTACHED',\n",
       " '57490889',\n",
       " '5000A1',\n",
       " '4201A',\n",
       " '225002A',\n",
       " '522521E',\n",
       " '8753',\n",
       " 'SPEC. PLATE NOT DISP',\n",
       " '890906',\n",
       " '226500',\n",
       " '8071D',\n",
       " '8969',\n",
       " '22523',\n",
       " '2504A',\n",
       " '2504',\n",
       " '8056F1A',\n",
       " '267085A',\n",
       " '21211',\n",
       " '8501A',\n",
       " '5200C',\n",
       " '4461D',\n",
       " '8060C',\n",
       " '25001',\n",
       " '1504A',\n",
       " '8086',\n",
       " '21970A',\n",
       " '2205A',\n",
       " '6342K2',\n",
       " '8630',\n",
       " '22507A',\n",
       " '80734',\n",
       " '4118A',\n",
       " '22511B7B',\n",
       " '226510',\n",
       " 'PARKING-SNOW AREA',\n",
       " '22651C',\n",
       " '22502a',\n",
       " '5344K2',\n",
       " '5749884',\n",
       " 'VETS EXEMPTION',\n",
       " '30FT W/IN INTSC',\n",
       " 'DEFECT WIPERS',\n",
       " '8075',\n",
       " 'PSGR LOADING ZN',\n",
       " '4463A1',\n",
       " '5206',\n",
       " '225078BC',\n",
       " '806911',\n",
       " '8663',\n",
       " 'CLOSED MT FIRE RD',\n",
       " '8302',\n",
       " '225078A2',\n",
       " '8203',\n",
       " '22507',\n",
       " '2250B',\n",
       " '225157A',\n",
       " '225117A',\n",
       " '5344K7',\n",
       " '22450H',\n",
       " '52006',\n",
       " '80714E',\n",
       " '2265B1',\n",
       " '22503A',\n",
       " '21458',\n",
       " '28869B',\n",
       " '8061D',\n",
       " 'PK/PARALL/CURB',\n",
       " '8056A',\n",
       " '6044K7',\n",
       " '22659D',\n",
       " '8094',\n",
       " '17104B',\n",
       " '22052A',\n",
       " '8064',\n",
       " '26708B',\n",
       " '4001A',\n",
       " '8805',\n",
       " 'PARKING/FRONT YARD 3',\n",
       " '806601D',\n",
       " '2000A1',\n",
       " '2251154A',\n",
       " 'METER OFFENSE',\n",
       " '8006',\n",
       " '88661D',\n",
       " '5203B',\n",
       " '4008',\n",
       " '6844',\n",
       " '5201B2',\n",
       " '20500E',\n",
       " '80696',\n",
       " '22507HC2',\n",
       " '5209',\n",
       " '2251155A',\n",
       " 'TM LMT EXCEEDED',\n",
       " '574908',\n",
       " '8949',\n",
       " '221E1',\n",
       " '89696',\n",
       " '8015A',\n",
       " '22615B',\n",
       " '2251156A',\n",
       " '5404A',\n",
       " '63044K2',\n",
       " '8039',\n",
       " '5204D',\n",
       " '225115HL',\n",
       " '80682',\n",
       " '80671O',\n",
       " '5021G',\n",
       " '22659A',\n",
       " '806E',\n",
       " 'PRK FLOOD CNTL CHANL',\n",
       " '8080692',\n",
       " '4000A1B',\n",
       " '8036',\n",
       " '24003',\n",
       " '267086',\n",
       " 'PARK NEAR EMERG VEH',\n",
       " '807141',\n",
       " '8101B',\n",
       " '2265D',\n",
       " 'PK VEH SALE/RNT',\n",
       " 'PARKING UNDESIGATED',\n",
       " '26706',\n",
       " '2265',\n",
       " '5203A',\n",
       " '5201E',\n",
       " '5977A',\n",
       " 'TOW TRUCK/UNAUTH',\n",
       " '6344B4',\n",
       " 'WRG SD-DUAL RWY',\n",
       " '8633',\n",
       " '8644K7',\n",
       " '22300H',\n",
       " '5904A',\n",
       " '572522E',\n",
       " '572821E',\n",
       " '71183',\n",
       " '226581A',\n",
       " 'BLK RAIL PROHIB',\n",
       " '6344KB',\n",
       " '5630',\n",
       " '501B',\n",
       " '8601',\n",
       " '8046',\n",
       " '89694',\n",
       " '5725E',\n",
       " '68714',\n",
       " '216515',\n",
       " '63442',\n",
       " '8049H',\n",
       " 'BALD TIRES',\n",
       " '5749088',\n",
       " '22515B',\n",
       " '89691D',\n",
       " '63447K',\n",
       " '21458A',\n",
       " '225157B',\n",
       " '83722',\n",
       " 'VIOL EMER RULES',\n",
       " '572125D',\n",
       " '522521D',\n",
       " '22504',\n",
       " '4118',\n",
       " '22522B',\n",
       " '5608E1',\n",
       " '80694A',\n",
       " '572521E7',\n",
       " '80691E',\n",
       " '80611',\n",
       " '8040',\n",
       " '9850',\n",
       " \"TRAILER   6' HIGH\",\n",
       " '6349',\n",
       " '8966',\n",
       " '2500J',\n",
       " '22562A',\n",
       " '8813C',\n",
       " '21367C',\n",
       " '25268',\n",
       " '8060E',\n",
       " '231113A',\n",
       " '57252',\n",
       " '4001A1',\n",
       " '2610B',\n",
       " '8604',\n",
       " '226511',\n",
       " '24651D',\n",
       " '8060ABC',\n",
       " '4461L',\n",
       " '6844K8',\n",
       " '5002',\n",
       " '80611D',\n",
       " '22522A',\n",
       " '22502AE',\n",
       " '6341K7',\n",
       " '22503E',\n",
       " '22511A',\n",
       " '1221A8B',\n",
       " '24600E',\n",
       " '5400A',\n",
       " '8014',\n",
       " '8096B',\n",
       " '21113C',\n",
       " '5206A',\n",
       " '21970',\n",
       " '2251137',\n",
       " '8649',\n",
       " 'OFF STR MTR/NO COIN',\n",
       " '22650',\n",
       " '52500',\n",
       " '6049',\n",
       " '801803',\n",
       " '225002E',\n",
       " '88661G',\n",
       " '2251175B',\n",
       " '22500H1',\n",
       " '8344',\n",
       " '87091',\n",
       " '134200',\n",
       " '80609BC',\n",
       " '80712',\n",
       " '80622',\n",
       " '5304A',\n",
       " '22653A',\n",
       " '8814A',\n",
       " '86714',\n",
       " '4457',\n",
       " '24200A',\n",
       " '22009D',\n",
       " '5202C',\n",
       " '6342KZ',\n",
       " '23500E',\n",
       " '27500H',\n",
       " '8069H',\n",
       " '22900',\n",
       " '23333',\n",
       " '8939B1',\n",
       " '22655K',\n",
       " '2202A',\n",
       " '80691K7',\n",
       " '4705',\n",
       " '5200E1',\n",
       " '24252A',\n",
       " '8931B',\n",
       " '86691C',\n",
       " '8066D1',\n",
       " '1564271',\n",
       " '5200O',\n",
       " '22699D',\n",
       " '225004',\n",
       " '4200A1',\n",
       " '24600D',\n",
       " '26708CA1',\n",
       " '4500A',\n",
       " '25000H',\n",
       " '80793',\n",
       " '40001B1',\n",
       " '226078A',\n",
       " '80661B',\n",
       " '4119',\n",
       " '24500H',\n",
       " '21907A',\n",
       " '22101B',\n",
       " '1564052',\n",
       " '22651L',\n",
       " '5200AB',\n",
       " '4001',\n",
       " '5844K7',\n",
       " '16028A',\n",
       " '26100B',\n",
       " '225111',\n",
       " '80693',\n",
       " '2265101',\n",
       " '8073B2B',\n",
       " '26708AE',\n",
       " '226580',\n",
       " '2251657B',\n",
       " '8058',\n",
       " '26700A',\n",
       " '807141A',\n",
       " '6444K',\n",
       " '23112A',\n",
       " '6344B1',\n",
       " '8600',\n",
       " '25502A',\n",
       " '25522',\n",
       " '4000A2',\n",
       " '2500E1',\n",
       " '3000A1',\n",
       " '80721',\n",
       " '22657M',\n",
       " '80774',\n",
       " '22102A',\n",
       " '8363',\n",
       " '5400',\n",
       " '22523AG',\n",
       " '22651F',\n",
       " '27465B1',\n",
       " '80351B',\n",
       " '2250',\n",
       " '22602A',\n",
       " '8690',\n",
       " '8935C',\n",
       " '8052',\n",
       " '81704',\n",
       " '22520E',\n",
       " '225027',\n",
       " '87714',\n",
       " '6344B',\n",
       " '89691A',\n",
       " '2344K7',\n",
       " '5205A',\n",
       " '27900',\n",
       " '6349K2',\n",
       " '11201B',\n",
       " '21458A1',\n",
       " '5608',\n",
       " '25002A',\n",
       " '22511B',\n",
       " '251157A',\n",
       " '4462',\n",
       " '225110',\n",
       " '80764',\n",
       " '8609',\n",
       " '572571E',\n",
       " '2250E',\n",
       " '17104',\n",
       " '2251156',\n",
       " '08062',\n",
       " '3603',\n",
       " '8040A',\n",
       " '8502A2',\n",
       " '8089',\n",
       " '2502A',\n",
       " '5600A1',\n",
       " '572521B',\n",
       " '22651JA',\n",
       " '2501A',\n",
       " '88011',\n",
       " '12500C',\n",
       " '2265101C',\n",
       " '80681D',\n",
       " '801751',\n",
       " '7344K7',\n",
       " '8051H1',\n",
       " '22517',\n",
       " '52000',\n",
       " '6344D4',\n",
       " '80632',\n",
       " '40004A']"
      ]
     },
     "execution_count": 90,
     "metadata": {},
     "output_type": "execute_result"
    }
   ],
   "source": [
    "#exp = pd.DataFrame(['A', 'A', 'A', 'B', 'C', 'D'], columns = ['ex1'])\n",
    "tmp = dfnewtest['violationdescription'].value_counts()\n",
    "var_list = [tmp.index[i] for i in range(0, len(tmp)) if tmp[i] < 100]\n",
    "var_list\n"
   ]
  },
  {
   "cell_type": "code",
   "execution_count": 91,
   "metadata": {},
   "outputs": [],
   "source": [
    "dfnewtest2 = dfnewtest[~dfnewtest['violationdescription'].isin(var_list)]"
   ]
  },
  {
   "cell_type": "code",
   "execution_count": 92,
   "metadata": {},
   "outputs": [
    {
     "data": {
      "text/plain": [
       "[]"
      ]
     },
     "execution_count": 92,
     "metadata": {},
     "output_type": "execute_result"
    }
   ],
   "source": [
    "#remove so nothing has less than 100 instances this checks it- should be nothing returned\n",
    "tmp = dfnewtest2['violationdescription'].value_counts()\n",
    "var_list = [tmp.index[i] for i in range(0, len(tmp)) if tmp[i]< 20]\n",
    "var_list"
   ]
  },
  {
   "cell_type": "code",
   "execution_count": null,
   "metadata": {},
   "outputs": [],
   "source": [
    "['22500H',\n",
    " '22500F',\n",
    " '22514',\n",
    " '22500E',\n",
    " '5200',\n",
    " '5204',\n",
    " '22502A',\n",
    " '2251157A',\n",
    " '4000A',\n",
    " '22500I',\n",
    " '2251157B',\n",
    " '17104h',\n",
    " '22500B',\n",
    " '80581',\n",
    " '80691a',\n",
    " '8755',\n",
    " '225078',\n",
    " '6344',\n",
    " '8709b',\n",
    " '22502E',\n",
    " '22500A',\n",
    " '17104c',\n",
    " '22522',\n",
    " '5201F',\n",
    " '5201A',\n",
    " '8054',\n",
    " '21113A',\n",
    " '2251157C',\n",
    " '22500',\n",
    " '22651D',\n",
    " '5200A1',\n",
    " '5201G',\n",
    " '8606B',\n",
    " '26708A1',\n",
    " '22651K',\n",
    " '4000',\n",
    " '52011C',\n",
    " '22502',\n",
    " '8306',\n",
    " '8502',\n",
    " '22523A',\n",
    " '57490884',\n",
    " '81714',\n",
    " '5200F',\n",
    " '22523B',\n",
    " '6344K12',\n",
    " '2251157',\n",
    " '5202A',\n",
    " '22502B',\n",
    " '22500D',\n",
    " '6344K1',\n",
    " '22651B',\n",
    " '22500C',\n",
    " '80741',\n",
    " '5201B',\n",
    " '5201C',\n",
    " '22400A',\n",
    " '40001A',\n",
    " '5204A1',\n",
    " '6644K7']"
   ]
  },
  {
   "cell_type": "code",
   "execution_count": 94,
   "metadata": {},
   "outputs": [
    {
     "name": "stdout",
     "output_type": "stream",
     "text": [
      "<class 'pandas.core.frame.DataFrame'>\n",
      "Int64Index: 5741065 entries, 0 to 8081870\n",
      "Data columns (total 8 columns):\n",
      "ticketnumber            object\n",
      "markedtime              float64\n",
      "location                object\n",
      "route                   object\n",
      "violationcode           object\n",
      "violationdescription    object\n",
      "latitude                float64\n",
      "longitude               float64\n",
      "dtypes: float64(3), object(5)\n",
      "memory usage: 394.2+ MB\n"
     ]
    }
   ],
   "source": [
    "dfnewtest2.info()"
   ]
  },
  {
   "cell_type": "code",
   "execution_count": 95,
   "metadata": {},
   "outputs": [],
   "source": [
    "dfnewtest2.to_csv('dfnoStCleanorlesshundred.csv', index=False)"
   ]
  },
  {
   "cell_type": "code",
   "execution_count": null,
   "metadata": {},
   "outputs": [],
   "source": []
  },
  {
   "cell_type": "code",
   "execution_count": null,
   "metadata": {},
   "outputs": [],
   "source": [
    "cmap = sns.cubehelix_palette(dark=.3, light=.8, as_cmap=True)\n",
    "    ax = sns.scatterplot(x=\"latitude\", y=\"longitude\",\n",
    "                         hue=\"violationdescription\", size=\"violationdescription\",\n",
    "                         palette=\"Set2\",\n",
    "                         data=df)"
   ]
  },
  {
   "cell_type": "code",
   "execution_count": null,
   "metadata": {},
   "outputs": [],
   "source": [
    "sb.distplot(df['violationdescription'],kde = False)\n",
    "plt.show()"
   ]
  },
  {
   "cell_type": "code",
   "execution_count": null,
   "metadata": {},
   "outputs": [],
   "source": [
    "#this will take about 30 minutes for 1GB of data\n",
    "#rename table and change myfile \n",
    "#c_size = 10\n",
    "#for gm_chunk in pd.read_csv(myfile, chunksize=c_size, low_memory=False):\n",
    " #   gm_chunk.to_sql('manitable', engine, if_exists='append')\n",
    "    #df_list.append(gm_chunk)"
   ]
  },
  {
   "cell_type": "code",
   "execution_count": 62,
   "metadata": {},
   "outputs": [
    {
     "data": {
      "text/html": [
       "<div>\n",
       "<style scoped>\n",
       "    .dataframe tbody tr th:only-of-type {\n",
       "        vertical-align: middle;\n",
       "    }\n",
       "\n",
       "    .dataframe tbody tr th {\n",
       "        vertical-align: top;\n",
       "    }\n",
       "\n",
       "    .dataframe thead th {\n",
       "        text-align: right;\n",
       "    }\n",
       "</style>\n",
       "<table border=\"1\" class=\"dataframe\">\n",
       "  <thead>\n",
       "    <tr style=\"text-align: right;\">\n",
       "      <th></th>\n",
       "      <th>Ticket number</th>\n",
       "      <th>Issue Date</th>\n",
       "      <th>Issue time</th>\n",
       "      <th>Meter Id</th>\n",
       "      <th>Marked Time</th>\n",
       "      <th>Make</th>\n",
       "      <th>Body Style</th>\n",
       "      <th>Color</th>\n",
       "      <th>Location</th>\n",
       "      <th>Route</th>\n",
       "      <th>...</th>\n",
       "      <th>Latitude</th>\n",
       "      <th>Longitude</th>\n",
       "      <th>issueTime</th>\n",
       "      <th>IssueDateNew</th>\n",
       "      <th>dt_issued</th>\n",
       "      <th>dt_issuedNew</th>\n",
       "      <th>IssueDateNew</th>\n",
       "      <th>issueYear</th>\n",
       "      <th>weekday</th>\n",
       "      <th>month</th>\n",
       "    </tr>\n",
       "  </thead>\n",
       "  <tbody>\n",
       "    <tr>\n",
       "      <th>0</th>\n",
       "      <td>1103341116</td>\n",
       "      <td>2015-12-21T00:00:00</td>\n",
       "      <td>1251.0</td>\n",
       "      <td>NaN</td>\n",
       "      <td>NaN</td>\n",
       "      <td>HOND</td>\n",
       "      <td>PA</td>\n",
       "      <td>GY</td>\n",
       "      <td>13147 WELBY WAY</td>\n",
       "      <td>01521</td>\n",
       "      <td>...</td>\n",
       "      <td>99999.0</td>\n",
       "      <td>99999.0</td>\n",
       "      <td>12:51:00</td>\n",
       "      <td>2015-12-21</td>\n",
       "      <td>2015-12-21 1251</td>\n",
       "      <td>2015-12-21 12:51:00</td>\n",
       "      <td>2015-12-21</td>\n",
       "      <td>2015</td>\n",
       "      <td>0</td>\n",
       "      <td>12</td>\n",
       "    </tr>\n",
       "    <tr>\n",
       "      <th>1</th>\n",
       "      <td>1103700150</td>\n",
       "      <td>2015-12-21T00:00:00</td>\n",
       "      <td>1435.0</td>\n",
       "      <td>NaN</td>\n",
       "      <td>NaN</td>\n",
       "      <td>GMC</td>\n",
       "      <td>VN</td>\n",
       "      <td>WH</td>\n",
       "      <td>525 S MAIN ST</td>\n",
       "      <td>1C51</td>\n",
       "      <td>...</td>\n",
       "      <td>99999.0</td>\n",
       "      <td>99999.0</td>\n",
       "      <td>14:35:00</td>\n",
       "      <td>2015-12-21</td>\n",
       "      <td>2015-12-21 1435</td>\n",
       "      <td>2015-12-21 14:35:00</td>\n",
       "      <td>2015-12-21</td>\n",
       "      <td>2015</td>\n",
       "      <td>0</td>\n",
       "      <td>12</td>\n",
       "    </tr>\n",
       "    <tr>\n",
       "      <th>2</th>\n",
       "      <td>1104803000</td>\n",
       "      <td>2015-12-21T00:00:00</td>\n",
       "      <td>2055.0</td>\n",
       "      <td>NaN</td>\n",
       "      <td>NaN</td>\n",
       "      <td>NISS</td>\n",
       "      <td>PA</td>\n",
       "      <td>BK</td>\n",
       "      <td>200 WORLD WAY</td>\n",
       "      <td>2R2</td>\n",
       "      <td>...</td>\n",
       "      <td>6439997.9</td>\n",
       "      <td>1802686.4</td>\n",
       "      <td>20:55:00</td>\n",
       "      <td>2015-12-21</td>\n",
       "      <td>2015-12-21 2055</td>\n",
       "      <td>2015-12-21 20:55:00</td>\n",
       "      <td>2015-12-21</td>\n",
       "      <td>2015</td>\n",
       "      <td>0</td>\n",
       "      <td>12</td>\n",
       "    </tr>\n",
       "    <tr>\n",
       "      <th>3</th>\n",
       "      <td>1104820732</td>\n",
       "      <td>2015-12-26T00:00:00</td>\n",
       "      <td>1515.0</td>\n",
       "      <td>NaN</td>\n",
       "      <td>NaN</td>\n",
       "      <td>ACUR</td>\n",
       "      <td>PA</td>\n",
       "      <td>WH</td>\n",
       "      <td>100 WORLD WAY</td>\n",
       "      <td>2F11</td>\n",
       "      <td>...</td>\n",
       "      <td>6440041.1</td>\n",
       "      <td>1802686.2</td>\n",
       "      <td>15:15:00</td>\n",
       "      <td>2015-12-26</td>\n",
       "      <td>2015-12-26 1515</td>\n",
       "      <td>2015-12-26 15:15:00</td>\n",
       "      <td>2015-12-26</td>\n",
       "      <td>2015</td>\n",
       "      <td>5</td>\n",
       "      <td>12</td>\n",
       "    </tr>\n",
       "    <tr>\n",
       "      <th>4</th>\n",
       "      <td>1105461453</td>\n",
       "      <td>2015-09-15T00:00:00</td>\n",
       "      <td>115.0</td>\n",
       "      <td>NaN</td>\n",
       "      <td>NaN</td>\n",
       "      <td>CHEV</td>\n",
       "      <td>PA</td>\n",
       "      <td>BK</td>\n",
       "      <td>GEORGIA ST/OLYMPIC</td>\n",
       "      <td>1FB70</td>\n",
       "      <td>...</td>\n",
       "      <td>99999.0</td>\n",
       "      <td>99999.0</td>\n",
       "      <td>01:15:00</td>\n",
       "      <td>2015-09-15</td>\n",
       "      <td>2015-09-15 0115</td>\n",
       "      <td>2015-09-15 01:15:00</td>\n",
       "      <td>2015-09-15</td>\n",
       "      <td>2015</td>\n",
       "      <td>1</td>\n",
       "      <td>9</td>\n",
       "    </tr>\n",
       "  </tbody>\n",
       "</table>\n",
       "<p>5 rows × 24 columns</p>\n",
       "</div>"
      ],
      "text/plain": [
       "  Ticket number           Issue Date  Issue time Meter Id  Marked Time  Make  \\\n",
       "0    1103341116  2015-12-21T00:00:00      1251.0      NaN          NaN  HOND   \n",
       "1    1103700150  2015-12-21T00:00:00      1435.0      NaN          NaN   GMC   \n",
       "2    1104803000  2015-12-21T00:00:00      2055.0      NaN          NaN  NISS   \n",
       "3    1104820732  2015-12-26T00:00:00      1515.0      NaN          NaN  ACUR   \n",
       "4    1105461453  2015-09-15T00:00:00       115.0      NaN          NaN  CHEV   \n",
       "\n",
       "  Body Style Color            Location  Route  ...    Latitude  Longitude  \\\n",
       "0         PA    GY     13147 WELBY WAY  01521  ...     99999.0    99999.0   \n",
       "1         VN    WH       525 S MAIN ST   1C51  ...     99999.0    99999.0   \n",
       "2         PA    BK       200 WORLD WAY    2R2  ...   6439997.9  1802686.4   \n",
       "3         PA    WH       100 WORLD WAY   2F11  ...   6440041.1  1802686.2   \n",
       "4         PA    BK  GEORGIA ST/OLYMPIC  1FB70  ...     99999.0    99999.0   \n",
       "\n",
       "  issueTime  IssueDateNew        dt_issued        dt_issuedNew IssueDateNew   \\\n",
       "0  12:51:00    2015-12-21  2015-12-21 1251 2015-12-21 12:51:00    2015-12-21   \n",
       "1  14:35:00    2015-12-21  2015-12-21 1435 2015-12-21 14:35:00    2015-12-21   \n",
       "2  20:55:00    2015-12-21  2015-12-21 2055 2015-12-21 20:55:00    2015-12-21   \n",
       "3  15:15:00    2015-12-26  2015-12-26 1515 2015-12-26 15:15:00    2015-12-26   \n",
       "4  01:15:00    2015-09-15  2015-09-15 0115 2015-09-15 01:15:00    2015-09-15   \n",
       "\n",
       "  issueYear weekday month  \n",
       "0      2015       0    12  \n",
       "1      2015       0    12  \n",
       "2      2015       0    12  \n",
       "3      2015       5    12  \n",
       "4      2015       1     9  \n",
       "\n",
       "[5 rows x 24 columns]"
      ]
     },
     "execution_count": 62,
     "metadata": {},
     "output_type": "execute_result"
    }
   ],
   "source": [
    "df.head()"
   ]
  },
  {
   "cell_type": "markdown",
   "metadata": {},
   "source": [
    "#Plot histograms\n",
    "histogram = plt.figure()\n",
    "bins = np.linspace(0, 366, 30)\n",
    "plt.hist(accept_applydays, bins, alpha=0.5)\n",
    "plt.hist(deny_applydays, bins, alpha=0.5)\n",
    "plt.hist(withdraw_applydays, bins, alpha=0.5)\n",
    "plt.ylabel('# of Cases')\n",
    "plt.xlabel('Day of Year')\n",
    "#plt.hist(all_applydays, bins, alpha=0.5)\n",
    "plotly_fig = tls.mpl_to_plotly( histogram )\n",
    "py.iplot(plotly_fig, filename='histogram-visa-applydays')\n"
   ]
  },
  {
   "cell_type": "code",
   "execution_count": null,
   "metadata": {},
   "outputs": [],
   "source": []
  },
  {
   "cell_type": "code",
   "execution_count": null,
   "metadata": {},
   "outputs": [],
   "source": [
    "import seaborn as sns\n",
    "# Generate a swarm plot of 'Time' grouped horizontally by 'Day'  \n",
    "plt.subplot(2,1,1)\n",
    "sns.swarmplot(x='Day', y= 'Time', data= Data)\n",
    "_ = plt.ylabel('Hours')\n",
    "_ = plt.xlabel('')\n",
    "plt.yticks([0, 2., 4.0, 6.0, 8.0, 10.0, 12.0, 14.0, 16.0])\n",
    "plt.ylim((0, 16.5))\n",
    "plt.margins(0.05) # Keeps data off plot edges\n",
    "plt.tight_layout()\n",
    "# add a horizontal line at 8 hours\n",
    "plt.axhline(y=8, color = 'black', linestyle='dashed', linewidth = .7)\n",
    "#annotate the \"8 hour line\"\n",
    "#arrowprops=dict(facecolor='black') #draws the line#\n",
    "###turn off arrow###\n",
    "###plt.annotate('8-Hour Day', xy= (0,7.75), xytext= (0.25,4.5), arrowprops=dict(facecolor='white', shrink=0.001),\n",
    "            ###horizontalalignment='left')\n",
    "#save figure\n",
    "plt.savefig('jess_swarmplot.png', dpi=200) \n",
    "plt.show()\n",
    "\n"
   ]
  },
  {
   "cell_type": "code",
   "execution_count": 79,
   "metadata": {},
   "outputs": [],
   "source": [
    "import numpy as np\n",
    "import matplotlib.pyplot as plt\n"
   ]
  },
  {
   "cell_type": "code",
   "execution_count": 51,
   "metadata": {},
   "outputs": [],
   "source": [
    "#drop row where issue time is NaN\n",
    "df = df[~df[\"latitude\"].isnull()] \n",
    "df = df[~df[\"longitude\"].isnull()] "
   ]
  },
  {
   "cell_type": "code",
   "execution_count": 52,
   "metadata": {},
   "outputs": [
    {
     "data": {
      "text/plain": [
       "0"
      ]
     },
     "execution_count": 52,
     "metadata": {},
     "output_type": "execute_result"
    }
   ],
   "source": [
    "df[\"longitude\"].isnull().sum()"
   ]
  },
  {
   "cell_type": "code",
   "execution_count": 53,
   "metadata": {},
   "outputs": [
    {
     "data": {
      "text/plain": [
       "0"
      ]
     },
     "execution_count": 53,
     "metadata": {},
     "output_type": "execute_result"
    }
   ],
   "source": [
    "df[\"latitude\"].isnull().sum()"
   ]
  },
  {
   "cell_type": "code",
   "execution_count": null,
   "metadata": {},
   "outputs": [],
   "source": [
    "df_subset = df['ticketnumber', 'latitude', 'longitude' ]"
   ]
  },
  {
   "cell_type": "code",
   "execution_count": 10,
   "metadata": {},
   "outputs": [
    {
     "ename": "NameError",
     "evalue": "name 'df' is not defined",
     "output_type": "error",
     "traceback": [
      "\u001b[0;31m---------------------------------------------------------------------------\u001b[0m",
      "\u001b[0;31mNameError\u001b[0m                                 Traceback (most recent call last)",
      "\u001b[0;32m<ipython-input-10-3ee7d995afa2>\u001b[0m in \u001b[0;36m<module>\u001b[0;34m()\u001b[0m\n\u001b[0;32m----> 1\u001b[0;31m \u001b[0mdf\u001b[0m\u001b[0;34m.\u001b[0m\u001b[0mviolationdescription\u001b[0m\u001b[0;34m.\u001b[0m\u001b[0munique\u001b[0m\u001b[0;34m(\u001b[0m\u001b[0;34m)\u001b[0m\u001b[0;34m\u001b[0m\u001b[0m\n\u001b[0m\u001b[1;32m      2\u001b[0m \u001b[0mdf\u001b[0m\u001b[0;34m.\u001b[0m\u001b[0mviolationdescription\u001b[0m\u001b[0;34m.\u001b[0m\u001b[0mvalue_counts\u001b[0m\u001b[0;34m(\u001b[0m\u001b[0;34m)\u001b[0m\u001b[0;34m\u001b[0m\u001b[0m\n\u001b[1;32m      3\u001b[0m \u001b[0;31m#Plot histograms\u001b[0m\u001b[0;34m\u001b[0m\u001b[0;34m\u001b[0m\u001b[0m\n",
      "\u001b[0;31mNameError\u001b[0m: name 'df' is not defined"
     ]
    }
   ],
   "source": [
    "df.violationdescription.unique()\n",
    "df.violationdescription.value_counts()"
   ]
  },
  {
   "cell_type": "code",
   "execution_count": null,
   "metadata": {},
   "outputs": [],
   "source": [
    "df.violationdescription.unique()\n",
    "#df.violationdescription.value_counts()\n",
    "#"
   ]
  },
  {
   "cell_type": "code",
   "execution_count": null,
   "metadata": {},
   "outputs": [],
   "source": []
  },
  {
   "cell_type": "code",
   "execution_count": null,
   "metadata": {},
   "outputs": [],
   "source": []
  },
  {
   "cell_type": "code",
   "execution_count": null,
   "metadata": {},
   "outputs": [],
   "source": []
  },
  {
   "cell_type": "code",
   "execution_count": null,
   "metadata": {},
   "outputs": [],
   "source": []
  },
  {
   "cell_type": "code",
   "execution_count": null,
   "metadata": {},
   "outputs": [],
   "source": []
  }
 ],
 "metadata": {
  "colab": {
   "name": "parkingViolations.ipynb",
   "provenance": [],
   "version": "0.3.2"
  },
  "kernelspec": {
   "display_name": "Python 3",
   "language": "python",
   "name": "python3"
  },
  "language_info": {
   "codemirror_mode": {
    "name": "ipython",
    "version": 3
   },
   "file_extension": ".py",
   "mimetype": "text/x-python",
   "name": "python",
   "nbconvert_exporter": "python",
   "pygments_lexer": "ipython3",
   "version": "3.5.5"
  }
 },
 "nbformat": 4,
 "nbformat_minor": 1
}
