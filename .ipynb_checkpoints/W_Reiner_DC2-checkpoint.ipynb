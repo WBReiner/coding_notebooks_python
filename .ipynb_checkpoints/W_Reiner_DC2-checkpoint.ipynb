{
 "cells": [
  {
   "cell_type": "markdown",
   "metadata": {},
   "source": [
    "# 18C Data Challenge 2\n",
    "\n",
    "\n",
    "# Two Tables Joinable\n",
    "\n",
    "## Columns (in Table 1 Test_Results:\n",
    "\n",
    "1.) user_id : the Id of the user. Can be joined to user_id in user_table\n",
    "\n",
    "2.) timestamp : the date and time when the user hit for the first time company XYZ webpage. It is in user local time\n",
    "\n",
    "3.) source : \n",
    "\n",
    "marketing channel that led to the user coming to the site.\n",
    "   It can be:\n",
    "            ads-[\"google\", \"facebook\", \"bing\", \"yahoo\", \"other\"]. That is, user coming from google ads, yahoo    ads, etc.\n",
    "            seo - [\"google\", \"facebook\", \"bing\", \"yahoo\", \"other\"]. That is, user coming from google search, yahoo, facebook, etc.\n",
    "\n",
    "friend_referral : user coming from a referral link of another user\n",
    "\n",
    "direct_traffic: user coming by directly typing the address of the site on the browser\n",
    "\n",
    "4.) device : user device. Can be mobile or web\n",
    "\n",
    "5.) operative_system : user operative system. Can be: \"windows\", \"linux\", \"mac\" for web, and \"android\", \"iOS\" for mobile. \"Other\" if it is none of the above\n",
    "\n",
    "6.) test: whether the user was in the test (i.e. 1 -> higher price) or in control (0 -> old, lower price)\n",
    "\n",
    "7.) price : the price the user sees. It should match test\n",
    "\n",
    "8.) converted : whether the user converted (i.e. 1 -> bought the software) or not (0 -> left the site without buying it).\n",
    "\n",
    "##  Table 2 \"user_table\" - Information about the user\n",
    "### Columns: \n",
    "\n",
    "1.) user_id : the Id of the user. Can be joined to user_id in test_results table\n",
    "\n",
    "2.) city : the city where the user is located. Comes from the user ip address\n",
    "\n",
    "3.) country : in which country the city is located\n",
    "\n",
    "4.) lat : city latitude - should match user city\n",
    "\n",
    "5.) long : city longitude - should match user city\n"
   ]
  },
  {
   "cell_type": "markdown",
   "metadata": {},
   "source": [
    "First read in the tables WIHTOUT specifying column names to make sure you know what columns should be there - regardless of what you were told in the prompt."
   ]
  },
  {
   "cell_type": "code",
   "execution_count": 26,
   "metadata": {},
   "outputs": [
    {
     "data": {
      "text/html": [
       "<div>\n",
       "<style scoped>\n",
       "    .dataframe tbody tr th:only-of-type {\n",
       "        vertical-align: middle;\n",
       "    }\n",
       "\n",
       "    .dataframe tbody tr th {\n",
       "        vertical-align: top;\n",
       "    }\n",
       "\n",
       "    .dataframe thead th {\n",
       "        text-align: right;\n",
       "    }\n",
       "</style>\n",
       "<table border=\"1\" class=\"dataframe\">\n",
       "  <thead>\n",
       "    <tr style=\"text-align: right;\">\n",
       "      <th></th>\n",
       "      <th>user_id</th>\n",
       "      <th>timestamp</th>\n",
       "      <th>source</th>\n",
       "      <th>device</th>\n",
       "      <th>op_sys</th>\n",
       "      <th>test</th>\n",
       "      <th>price</th>\n",
       "      <th>converted</th>\n",
       "    </tr>\n",
       "  </thead>\n",
       "  <tbody>\n",
       "    <tr>\n",
       "      <th>0</th>\n",
       "      <td>604839</td>\n",
       "      <td>2015-05-08 03:38:34</td>\n",
       "      <td>ads_facebook</td>\n",
       "      <td>mobile</td>\n",
       "      <td>iOS</td>\n",
       "      <td>0</td>\n",
       "      <td>39.0</td>\n",
       "      <td>0</td>\n",
       "    </tr>\n",
       "    <tr>\n",
       "      <th>1</th>\n",
       "      <td>624057</td>\n",
       "      <td>2015-05-10 21:08:46</td>\n",
       "      <td>seo-google</td>\n",
       "      <td>mobile</td>\n",
       "      <td>android</td>\n",
       "      <td>0</td>\n",
       "      <td>39.0</td>\n",
       "      <td>0</td>\n",
       "    </tr>\n",
       "    <tr>\n",
       "      <th>2</th>\n",
       "      <td>317970</td>\n",
       "      <td>2015-04-04 15:01:23</td>\n",
       "      <td>ads-bing</td>\n",
       "      <td>mobile</td>\n",
       "      <td>android</td>\n",
       "      <td>0</td>\n",
       "      <td>39.0</td>\n",
       "      <td>0</td>\n",
       "    </tr>\n",
       "    <tr>\n",
       "      <th>3</th>\n",
       "      <td>685636</td>\n",
       "      <td>2015-05-07 07:26:01</td>\n",
       "      <td>direct_traffic</td>\n",
       "      <td>mobile</td>\n",
       "      <td>iOS</td>\n",
       "      <td>1</td>\n",
       "      <td>59.0</td>\n",
       "      <td>0</td>\n",
       "    </tr>\n",
       "    <tr>\n",
       "      <th>4</th>\n",
       "      <td>820854</td>\n",
       "      <td>2015-05-24 11:04:40</td>\n",
       "      <td>ads_facebook</td>\n",
       "      <td>web</td>\n",
       "      <td>mac</td>\n",
       "      <td>0</td>\n",
       "      <td>39.0</td>\n",
       "      <td>0</td>\n",
       "    </tr>\n",
       "  </tbody>\n",
       "</table>\n",
       "</div>"
      ],
      "text/plain": [
       "   user_id            timestamp          source  device   op_sys  test  price  \\\n",
       "0   604839  2015-05-08 03:38:34    ads_facebook  mobile      iOS     0   39.0   \n",
       "1   624057  2015-05-10 21:08:46      seo-google  mobile  android     0   39.0   \n",
       "2   317970  2015-04-04 15:01:23        ads-bing  mobile  android     0   39.0   \n",
       "3   685636  2015-05-07 07:26:01  direct_traffic  mobile      iOS     1   59.0   \n",
       "4   820854  2015-05-24 11:04:40    ads_facebook     web      mac     0   39.0   \n",
       "\n",
       "   converted  \n",
       "0          0  \n",
       "1          0  \n",
       "2          0  \n",
       "3          0  \n",
       "4          0  "
      ]
     },
     "execution_count": 26,
     "metadata": {},
     "output_type": "execute_result"
    }
   ],
   "source": [
    "# read the data, set the column names, check out the head\n",
    "import pandas as pd\n",
    "#Test results csv\n",
    "url = 'https://raw.githubusercontent.com/InsightIDX/18C/master/data_challenge_2/test_results.csv?token=AX8jYQMJPZVzEK3oLgs4INTCqR2J8Q5Uks5b2yEQwA%3D%3D'\n",
    "#8 columns\n",
    "colnames= ['user_id', 'timestamp', 'source','device', 'op_sys', 'test', 'price', 'converted']\n",
    "\n",
    "test_results = pd.read_csv(url,  names=colnames, infer_datetime_format= True, header=0)\n",
    "\n",
    "test_results.head()"
   ]
  },
  {
   "cell_type": "code",
   "execution_count": 27,
   "metadata": {},
   "outputs": [
    {
     "data": {
      "text/plain": [
       "(316800, 8)"
      ]
     },
     "execution_count": 27,
     "metadata": {},
     "output_type": "execute_result"
    }
   ],
   "source": [
    "test_results.shape"
   ]
  },
  {
   "cell_type": "code",
   "execution_count": null,
   "metadata": {},
   "outputs": [],
   "source": [
    "#Check for NaNs"
   ]
  },
  {
   "cell_type": "code",
   "execution_count": 30,
   "metadata": {},
   "outputs": [
    {
     "name": "stdout",
     "output_type": "stream",
     "text": [
      "<class 'pandas.core.frame.DataFrame'>\n",
      "Int64Index: 316800 entries, 0 to 316799\n",
      "Data columns (total 8 columns):\n",
      "user_id      316800 non-null int64\n",
      "timestamp    316466 non-null object\n",
      "source       316488 non-null object\n",
      "device       316800 non-null object\n",
      "op_sys       296461 non-null object\n",
      "test         316800 non-null int64\n",
      "price        316800 non-null float64\n",
      "converted    316800 non-null int64\n",
      "dtypes: float64(1), int64(3), object(4)\n",
      "memory usage: 21.8+ MB\n"
     ]
    }
   ],
   "source": [
    "test_results.info()\n",
    "#supposedly no nulls, but there could be null data that weren't automatically read as nulls"
   ]
  },
  {
   "cell_type": "code",
   "execution_count": 38,
   "metadata": {},
   "outputs": [
    {
     "data": {
      "text/plain": [
       "316800"
      ]
     },
     "execution_count": 38,
     "metadata": {},
     "output_type": "execute_result"
    }
   ],
   "source": [
    "# Look at the unique values for each column to make sure they are not null\n",
    "test_results.user_id.nunique()"
   ]
  },
  {
   "cell_type": "code",
   "execution_count": 39,
   "metadata": {},
   "outputs": [
    {
     "data": {
      "text/plain": [
       "0         604839\n",
       "1         624057\n",
       "2         317970\n",
       "3         685636\n",
       "4         820854\n",
       "5         169971\n",
       "6         600150\n",
       "7         798371\n",
       "8         447194\n",
       "9         431639\n",
       "10        590182\n",
       "11        606479\n",
       "12        425567\n",
       "13        460593\n",
       "14        708831\n",
       "15        552048\n",
       "16        444108\n",
       "17        692331\n",
       "18        599771\n",
       "19        817127\n",
       "20        747762\n",
       "21        899236\n",
       "22        672422\n",
       "23        110040\n",
       "24        833161\n",
       "25        418796\n",
       "26        700829\n",
       "27        135703\n",
       "28        560795\n",
       "29        227627\n",
       "           ...  \n",
       "316770     17844\n",
       "316771    738987\n",
       "316772    364315\n",
       "316773    444332\n",
       "316774     41735\n",
       "316775    278137\n",
       "316776    828924\n",
       "316777    190563\n",
       "316778    796427\n",
       "316779    267582\n",
       "316780    444264\n",
       "316781    116281\n",
       "316782    964001\n",
       "316783    757423\n",
       "316784    344235\n",
       "316785    466887\n",
       "316786    300043\n",
       "316787    654257\n",
       "316788    590087\n",
       "316789    345704\n",
       "316790    108465\n",
       "316791     26514\n",
       "316792    874512\n",
       "316793    680578\n",
       "316794    388438\n",
       "316795     17427\n",
       "316796    687787\n",
       "316797    618863\n",
       "316798    154636\n",
       "316799    832372\n",
       "Name: user_id, Length: 316800, dtype: int64"
      ]
     },
     "execution_count": 39,
     "metadata": {},
     "output_type": "execute_result"
    }
   ],
   "source": [
    "#Change to int, if you aren't able to then there is weird or missing data\n",
    "test_results.user_id.astype(int)"
   ]
  },
  {
   "cell_type": "code",
   "execution_count": 40,
   "metadata": {},
   "outputs": [
    {
     "name": "stdout",
     "output_type": "stream",
     "text": [
      "<class 'pandas.core.frame.DataFrame'>\n",
      "Int64Index: 316800 entries, 0 to 316799\n",
      "Data columns (total 8 columns):\n",
      "user_id      316800 non-null int64\n",
      "timestamp    316466 non-null object\n",
      "source       316488 non-null object\n",
      "device       316800 non-null object\n",
      "op_sys       296461 non-null object\n",
      "test         316800 non-null int64\n",
      "price        316800 non-null float64\n",
      "converted    316800 non-null int64\n",
      "dtypes: float64(1), int64(3), object(4)\n",
      "memory usage: 21.8+ MB\n"
     ]
    }
   ],
   "source": [
    "test_results.info()"
   ]
  },
  {
   "cell_type": "code",
   "execution_count": 41,
   "metadata": {},
   "outputs": [
    {
     "data": {
      "text/plain": [
       "array(['iOS', 'android', 'mac', 'windows', nan, 'i0S', 'wnddows',\n",
       "       'anroid', 'apple'], dtype=object)"
      ]
     },
     "execution_count": 41,
     "metadata": {},
     "output_type": "execute_result"
    }
   ],
   "source": [
    "#check the unique values in the 'operative_system' and 'price' columns and make sure they make sense\n",
    "test_results.op_sys.unique()\n",
    "#This is a problem, we have iOS and i0S (the number zero), change i0S to the letter O"
   ]
  },
  {
   "cell_type": "code",
   "execution_count": 46,
   "metadata": {},
   "outputs": [],
   "source": [
    "test_results['op_sys']=test_results.op_sys.replace({'i0S': 'iOS'})"
   ]
  },
  {
   "cell_type": "code",
   "execution_count": 47,
   "metadata": {},
   "outputs": [
    {
     "data": {
      "text/plain": [
       "array(['iOS', 'android', 'mac', 'windows', nan, 'wnddows', 'anroid',\n",
       "       'apple'], dtype=object)"
      ]
     },
     "execution_count": 47,
     "metadata": {},
     "output_type": "execute_result"
    }
   ],
   "source": [
    "test_results.op_sys.unique()"
   ]
  },
  {
   "cell_type": "code",
   "execution_count": 56,
   "metadata": {},
   "outputs": [],
   "source": [
    "test_results['op_sys']=test_results.op_sys.replace({'wnddows': 'windows'})\n",
    "test_results['op_sys']=test_results.op_sys.replace({'anroid': 'android'})\n",
    "#Notice there are NaNs "
   ]
  },
  {
   "cell_type": "code",
   "execution_count": 57,
   "metadata": {},
   "outputs": [
    {
     "data": {
      "text/plain": [
       "array(['iOS', 'android', 'mac', 'windows', nan, 'apple'], dtype=object)"
      ]
     },
     "execution_count": 57,
     "metadata": {},
     "output_type": "execute_result"
    }
   ],
   "source": [
    "test_results.op_sys.unique()"
   ]
  },
  {
   "cell_type": "code",
   "execution_count": 65,
   "metadata": {},
   "outputs": [],
   "source": [
    "#check the unique values in the 'price' columns and make sure they make sense\n",
    "test_results['price']=test_results.price.astype(float)"
   ]
  },
  {
   "cell_type": "code",
   "execution_count": 66,
   "metadata": {},
   "outputs": [
    {
     "data": {
      "text/plain": [
       "39.0           200747\n",
       "59.0           112979\n",
       "536537851.0         1\n",
       "722005503.0         1\n",
       "362003840.0         1\n",
       "361763199.0         1\n",
       "361601300.0         1\n",
       "723198958.0         1\n",
       "361468456.0         1\n",
       "361357237.0         1\n",
       "722266243.0         1\n",
       "361101880.0         1\n",
       "360980365.0         1\n",
       "719974521.0         1\n",
       "721845395.0         1\n",
       "721543996.0         1\n",
       "721022978.0         1\n",
       "720964662.0         1\n",
       "720460363.0         1\n",
       "720433591.0         1\n",
       "720424548.0         1\n",
       "720402017.0         1\n",
       "360126610.0         1\n",
       "724045060.0         1\n",
       "724296096.0         1\n",
       "724581334.0         1\n",
       "725976490.0         1\n",
       "727515407.0         1\n",
       "727478543.0         1\n",
       "727148827.0         1\n",
       "                ...  \n",
       "435371271.0         1\n",
       "870319018.0         1\n",
       "870277127.0         1\n",
       "870099143.0         1\n",
       "435019436.0         1\n",
       "873318420.0         1\n",
       "873722285.0         1\n",
       "877028844.0         1\n",
       "875685698.0         1\n",
       "876646250.0         1\n",
       "876638586.0         1\n",
       "876622876.0         1\n",
       "876405411.0         1\n",
       "876374904.0         1\n",
       "876209052.0         1\n",
       "438022557.0         1\n",
       "437892465.0         1\n",
       "875749564.0         1\n",
       "437802233.0         1\n",
       "436891064.0         1\n",
       "437723944.0         1\n",
       "875156700.0         1\n",
       "437472415.0         1\n",
       "437409266.0         1\n",
       "874802307.0         1\n",
       "874195411.0         1\n",
       "873981330.0         1\n",
       "436979943.0         1\n",
       "873865897.0         1\n",
       "537168484.0         1\n",
       "Name: price, Length: 3076, dtype: int64"
      ]
     },
     "execution_count": 66,
     "metadata": {},
     "output_type": "execute_result"
    }
   ],
   "source": [
    "test_results.price.value_counts()\n",
    "#not sure yet what to do wih these weird numbers"
   ]
  },
  {
   "cell_type": "code",
   "execution_count": 67,
   "metadata": {},
   "outputs": [
    {
     "name": "stdout",
     "output_type": "stream",
     "text": [
      "<class 'pandas.core.frame.DataFrame'>\n",
      "Int64Index: 316800 entries, 0 to 316799\n",
      "Data columns (total 8 columns):\n",
      "user_id      316800 non-null int64\n",
      "timestamp    316466 non-null object\n",
      "source       316488 non-null object\n",
      "device       316800 non-null object\n",
      "op_sys       296461 non-null object\n",
      "test         316800 non-null int64\n",
      "price        316800 non-null float64\n",
      "converted    316800 non-null int64\n",
      "dtypes: float64(1), int64(3), object(4)\n",
      "memory usage: 21.8+ MB\n"
     ]
    }
   ],
   "source": [
    "test_results.info()"
   ]
  },
  {
   "cell_type": "code",
   "execution_count": null,
   "metadata": {},
   "outputs": [],
   "source": [
    "#need to change timestamp to timestamp"
   ]
  },
  {
   "cell_type": "code",
   "execution_count": 68,
   "metadata": {},
   "outputs": [
    {
     "data": {
      "text/plain": [
       "array(['ads_facebook', 'seo-google', 'ads-bing', 'direct_traffic',\n",
       "       'ads-google', 'seo_facebook', 'friend_referral', 'ads_other',\n",
       "       'ads-yahoo', 'seo-yahoo', 'seo-bing', 'seo-other', nan],\n",
       "      dtype=object)"
      ]
     },
     "execution_count": 68,
     "metadata": {},
     "output_type": "execute_result"
    }
   ],
   "source": [
    "test_results.source.unique()\n",
    "#This is okay but there are Nans"
   ]
  },
  {
   "cell_type": "code",
   "execution_count": 69,
   "metadata": {},
   "outputs": [
    {
     "data": {
      "text/plain": [
       "array(['mobile', 'web'], dtype=object)"
      ]
     },
     "execution_count": 69,
     "metadata": {},
     "output_type": "execute_result"
    }
   ],
   "source": [
    "test_results.device.unique() #this is okay"
   ]
  },
  {
   "cell_type": "code",
   "execution_count": 70,
   "metadata": {},
   "outputs": [
    {
     "data": {
      "text/plain": [
       "array([0, 1])"
      ]
     },
     "execution_count": 70,
     "metadata": {},
     "output_type": "execute_result"
    }
   ],
   "source": [
    "test_results.test.unique() #also okay"
   ]
  },
  {
   "cell_type": "code",
   "execution_count": 71,
   "metadata": {},
   "outputs": [
    {
     "data": {
      "text/plain": [
       "array([0, 1])"
      ]
     },
     "execution_count": 71,
     "metadata": {},
     "output_type": "execute_result"
    }
   ],
   "source": [
    "test_results.converted.unique() #also okay"
   ]
  },
  {
   "cell_type": "code",
   "execution_count": null,
   "metadata": {},
   "outputs": [],
   "source": []
  },
  {
   "cell_type": "code",
   "execution_count": null,
   "metadata": {},
   "outputs": [],
   "source": []
  },
  {
   "cell_type": "code",
   "execution_count": null,
   "metadata": {},
   "outputs": [],
   "source": []
  },
  {
   "cell_type": "code",
   "execution_count": null,
   "metadata": {},
   "outputs": [],
   "source": [
    "#Look for missing or weird data in a more general way"
   ]
  },
  {
   "cell_type": "code",
   "execution_count": 72,
   "metadata": {},
   "outputs": [
    {
     "data": {
      "text/plain": [
       "array([604839, 624057, 317970, ..., 618863, 154636, 832372])"
      ]
     },
     "execution_count": 72,
     "metadata": {},
     "output_type": "execute_result"
    }
   ],
   "source": [
    "#each user_id should be unique, so check that there are 316800 unique user Ids\n",
    "test_results.user_id.nunique()"
   ]
  },
  {
   "cell_type": "code",
   "execution_count": null,
   "metadata": {},
   "outputs": [],
   "source": []
  },
  {
   "cell_type": "code",
   "execution_count": null,
   "metadata": {},
   "outputs": [],
   "source": []
  },
  {
   "cell_type": "code",
   "execution_count": null,
   "metadata": {},
   "outputs": [],
   "source": []
  },
  {
   "cell_type": "code",
   "execution_count": null,
   "metadata": {},
   "outputs": [],
   "source": []
  },
  {
   "cell_type": "code",
   "execution_count": null,
   "metadata": {},
   "outputs": [],
   "source": []
  },
  {
   "cell_type": "code",
   "execution_count": 29,
   "metadata": {},
   "outputs": [
    {
     "data": {
      "text/html": [
       "<div>\n",
       "<style scoped>\n",
       "    .dataframe tbody tr th:only-of-type {\n",
       "        vertical-align: middle;\n",
       "    }\n",
       "\n",
       "    .dataframe tbody tr th {\n",
       "        vertical-align: top;\n",
       "    }\n",
       "\n",
       "    .dataframe thead th {\n",
       "        text-align: right;\n",
       "    }\n",
       "</style>\n",
       "<table border=\"1\" class=\"dataframe\">\n",
       "  <thead>\n",
       "    <tr style=\"text-align: right;\">\n",
       "      <th></th>\n",
       "      <th>user_id</th>\n",
       "      <th>city</th>\n",
       "      <th>country</th>\n",
       "      <th>lat</th>\n",
       "      <th>long</th>\n",
       "    </tr>\n",
       "  </thead>\n",
       "  <tbody>\n",
       "    <tr>\n",
       "      <th>0</th>\n",
       "      <td>510335</td>\n",
       "      <td>Peabody</td>\n",
       "      <td>USA</td>\n",
       "      <td>42.53</td>\n",
       "      <td>-70.97</td>\n",
       "    </tr>\n",
       "    <tr>\n",
       "      <th>1</th>\n",
       "      <td>89568</td>\n",
       "      <td>Reno</td>\n",
       "      <td>USA</td>\n",
       "      <td>39.54</td>\n",
       "      <td>-119.82</td>\n",
       "    </tr>\n",
       "    <tr>\n",
       "      <th>2</th>\n",
       "      <td>434134</td>\n",
       "      <td>Rialto</td>\n",
       "      <td>USA</td>\n",
       "      <td>34.11</td>\n",
       "      <td>-117.39</td>\n",
       "    </tr>\n",
       "    <tr>\n",
       "      <th>3</th>\n",
       "      <td>289769</td>\n",
       "      <td>Carson City</td>\n",
       "      <td>USA</td>\n",
       "      <td>39.15</td>\n",
       "      <td>-119.74</td>\n",
       "    </tr>\n",
       "    <tr>\n",
       "      <th>4</th>\n",
       "      <td>939586</td>\n",
       "      <td>Chicago</td>\n",
       "      <td>USA</td>\n",
       "      <td>41.84</td>\n",
       "      <td>-87.68</td>\n",
       "    </tr>\n",
       "  </tbody>\n",
       "</table>\n",
       "</div>"
      ],
      "text/plain": [
       "   user_id         city country    lat    long\n",
       "0   510335      Peabody     USA  42.53  -70.97\n",
       "1    89568         Reno     USA  39.54 -119.82\n",
       "2   434134       Rialto     USA  34.11 -117.39\n",
       "3   289769  Carson City     USA  39.15 -119.74\n",
       "4   939586      Chicago     USA  41.84  -87.68"
      ]
     },
     "execution_count": 29,
     "metadata": {},
     "output_type": "execute_result"
    }
   ],
   "source": [
    "#user data csv\n",
    "# 5 columns\n",
    "url_2='https://raw.githubusercontent.com/InsightIDX/18C/master/data_challenge_2/user_table.csv?token=AX8jYVqNIrzn669mzb8i0kEp7MOr0dwuks5b2yHOwA%3D%3D'\n",
    "\n",
    "colnames= ['user_id', 'city', 'country', 'lat', 'long']\n",
    "user_data = pd.read_csv(url_2, header=0, names=colnames)\n",
    "# header = 0 to use the first row as the header\n",
    "user_data.head()"
   ]
  },
  {
   "cell_type": "code",
   "execution_count": 34,
   "metadata": {},
   "outputs": [
    {
     "name": "stdout",
     "output_type": "stream",
     "text": [
      "<class 'pandas.core.frame.DataFrame'>\n",
      "RangeIndex: 275616 entries, 0 to 275615\n",
      "Data columns (total 5 columns):\n",
      "user_id    275616 non-null int64\n",
      "city       275616 non-null object\n",
      "country    275616 non-null object\n",
      "lat        275616 non-null float64\n",
      "long       275616 non-null float64\n",
      "dtypes: float64(2), int64(1), object(2)\n",
      "memory usage: 10.5+ MB\n"
     ]
    }
   ],
   "source": [
    "#Check for NaNs\n",
    "user_data.info()\n",
    "#supposedly no nulls, but there could be null data that weren't automatically read as nulls"
   ]
  },
  {
   "cell_type": "code",
   "execution_count": 73,
   "metadata": {},
   "outputs": [
    {
     "data": {
      "text/plain": [
       "275616"
      ]
     },
     "execution_count": 73,
     "metadata": {},
     "output_type": "execute_result"
    }
   ],
   "source": [
    "user_data.user_id.nunique() #okay good"
   ]
  },
  {
   "cell_type": "code",
   "execution_count": 78,
   "metadata": {},
   "outputs": [],
   "source": [
    "#sort then see if unique, name it something else to inspect\n",
    "citydata= user_data.city.sort_values()\n"
   ]
  },
  {
   "cell_type": "code",
   "execution_count": 79,
   "metadata": {},
   "outputs": [
    {
     "data": {
      "text/plain": [
       "array(['Abilene', 'Akron', 'Alameda', 'Albany', 'Albuquerque',\n",
       "       'Alexandria', 'Alhambra', 'Aliso Viejo', 'Allen', 'Allentown',\n",
       "       'Aloha', 'Altadena', 'Altamonte Springs', 'Altoona', 'Amarillo',\n",
       "       'Ames', 'Anaheim', 'Anchorage', 'Anderson', 'Andover', 'Ann Arbor',\n",
       "       'Annandale', 'Antioch', 'Apple Valley', 'Appleton', 'Arcadia',\n",
       "       'Arden-Arcade', 'Arlington', 'Arlington Heights', 'Arvada',\n",
       "       'Asheville', 'Aspen Hill', 'Athens-Clarke', 'Atlanta',\n",
       "       'Atlantic City', 'Attleboro', 'Auburn', 'Augusta-Richmond',\n",
       "       'Aurora', 'Austin', 'Avondale', 'Azusa', 'Bakersfield',\n",
       "       'Baldwin Park', 'Baltimore', 'Barnstable Town', 'Bartlett',\n",
       "       'Baton Rouge', 'Battle Creek', 'Bayonne', 'Baytown', 'Beaumont',\n",
       "       'Beavercreek', 'Beaverton', 'Bedford', 'Bel Air South',\n",
       "       'Bell Gardens', 'Belleville', 'Bellevue', 'Bellflower',\n",
       "       'Bellingham', 'Bend', 'Berkeley', 'Berwyn', 'Bethesda',\n",
       "       'Bethlehem', 'Beverly', 'Billerica', 'Billings', 'Binghamton',\n",
       "       'Birmingham', 'Bismarck', 'Blacksburg', 'Blaine', 'Bloomfield',\n",
       "       'Bloomfield Township', 'Bloomington', 'Blue Springs', 'Boca Raton',\n",
       "       'Boise City', 'Bolingbrook', 'Bonita Springs', 'Bossier City',\n",
       "       'Boston', 'Boulder', 'Bountiful', 'Bourne', 'Bowie',\n",
       "       'Bowling Green', 'Boynton Beach', 'Bradenton', 'Brandon', 'Brea',\n",
       "       'Bremerton', 'Brentwood', 'Brewster', 'Brick', 'Bridgeport',\n",
       "       'Bridgewater', 'Bristol', 'Brockton', 'Broken Arrow', 'Brookfield',\n",
       "       'Brookline', 'Brooklyn Park', 'Broomfield', 'Brownsville', 'Bryan',\n",
       "       'Buena Park', 'Buffalo', 'Buffalo Grove', 'Burbank', 'Burke',\n",
       "       'Burlington', 'Burnsville', 'Camarillo', 'Cambridge', 'Camden',\n",
       "       'Canton', 'Cape Coral', 'Carlsbad', 'Carmel', 'Carmichael',\n",
       "       'Carol City', 'Carol Stream', 'Carrollton', 'Carson',\n",
       "       'Carson City', 'Cary', 'Casas Adobes', 'Casper', 'Castle Rock',\n",
       "       'Castro Valley', 'Catalina Foothills', 'Cathedral City',\n",
       "       'Catonsville', 'Cedar Hill', 'Cedar Park', 'Cedar Rapids',\n",
       "       'Centennial', 'Centreville', 'Ceres', 'Cerritos', 'Champaign',\n",
       "       'Chandler', 'Chantilly', 'Chapel Hill', 'Charleston', 'Charlotte',\n",
       "       'Chattanooga', 'Cheektowaga', 'Cherry Hill', 'Chesapeake',\n",
       "       'Chesterfield', 'Cheyenne', 'Chicago', 'Chico', 'Chicopee',\n",
       "       'Chino', 'Chino Hills', 'Chula Vista', 'Cicero', 'Cincinnati',\n",
       "       'Citrus Heights', 'Clarksville', 'Cleveland', 'Cleveland Heights',\n",
       "       'Clifton', 'Clinton', 'Clovis', 'Coconut Creek', \"Coeur d'Alene\",\n",
       "       'College Station', 'Colorado Springs', 'Colton', 'Columbia',\n",
       "       'Columbus', 'Compton', 'Concord', 'Conroe', 'Conway',\n",
       "       'Coon Rapids', 'Coppell', 'Coral Gables', 'Coral Springs',\n",
       "       'Corona', 'Corpus Christi', 'Corvallis', 'Costa Mesa',\n",
       "       'Council Bluffs', 'Country Club', 'Covina', 'Covington',\n",
       "       'Cranston', 'Crystal Lake', 'Culver City', 'Cupertino',\n",
       "       'Cuyahoga Falls', 'Cypress', 'Dale City', 'Dallas', 'Daly City',\n",
       "       'Danbury', 'Danville', 'Davenport', 'Davie', 'Davis', 'Dayton',\n",
       "       'Daytona Beach', 'DeKalb', 'DeSoto', 'Dearborn',\n",
       "       'Dearborn Heights', 'Decatur', 'Deerfield Beach', 'Delano',\n",
       "       'Delray Beach', 'Deltona', 'Dennis', 'Denton', 'Denver',\n",
       "       'Des Moines', 'Des Plaines', 'Detroit', 'Diamond Bar', 'Dothan',\n",
       "       'Downers Grove', 'Downey', 'Dublin', 'Dubuque', 'Duluth',\n",
       "       'Dundalk', 'Durham', 'Duxbury', 'Eagan', 'East Brunswick',\n",
       "       'East Hartford', 'East Lake', 'East Lansing', 'East Los Angeles',\n",
       "       'East Orange', 'East Providence', 'Eau Claire', 'Eden Prairie',\n",
       "       'Edina', 'Edinburg', 'Edison', 'Edmond', 'Edmonds',\n",
       "       'Egypt Lake-Leto', 'El Cajon', 'El Mirage', 'El Monte', 'El Paso',\n",
       "       'Eldersburg', 'Elgin', 'Elizabeth', 'Elk Grove', 'Elkhart',\n",
       "       'Ellicott City', 'Elmhurst', 'Elyria', 'Encinitas', 'Enid', 'Erie',\n",
       "       'Escondido', 'Euclid', 'Eugene', 'Euless', 'Evanston',\n",
       "       'Evansville', 'Everett', 'Fairfield', 'Fall River', 'Falmouth',\n",
       "       'Fargo', 'Farmington', 'Farmington Hills', 'Fayetteville',\n",
       "       'Federal Way', 'Findlay', 'Fishers', 'Fitchburg', 'Flagstaff',\n",
       "       'Flint', 'Florence-Graham', 'Florissant', 'Flower Mound', 'Folsom',\n",
       "       'Fond du Lac', 'Fontana', 'Fort Collins', 'Fort Lauderdale',\n",
       "       'Fort Myers', 'Fort Smith', 'Fort Wayne', 'Fort Worth',\n",
       "       'Fountain Valley', 'Fountainbleau', 'Framingham', 'Franconia',\n",
       "       'Franklin', 'Frederick', 'Freeport', 'Fremont', 'Fresno', 'Frisco',\n",
       "       'Fullerton', 'Gainesville', 'Gaithersburg', 'Galveston',\n",
       "       'Garden Grove', 'Gardena', 'Garland', 'Gary', 'Gastonia',\n",
       "       'Georgetown', 'Germantown', 'Gilbert', 'Gilroy', 'Glen Burnie',\n",
       "       'Glendale', 'Glendora', 'Glenview', 'Goodyear', 'Grand Forks',\n",
       "       'Grand Island', 'Grand Junction', 'Grand Prairie', 'Grand Rapids',\n",
       "       'Grapevine', 'Great Falls', 'Greater Carrollwood', 'Greeley',\n",
       "       'Green Bay', 'Greensboro', 'Greenville', 'Greenwich', 'Greenwood',\n",
       "       'Gresham', 'Gulfport', 'Hacienda Heights', 'Hackensack',\n",
       "       'Haltom City', 'Hamden', 'Hamilton', 'Hammond', 'Hampton',\n",
       "       'Hanford', 'Harlingen', 'Harrisburg', 'Harrisonburg', 'Hartford',\n",
       "       'Hattiesburg', 'Haverhill', 'Hawthorne', 'Hayward', 'Hemet',\n",
       "       'Hempstead', 'Henderson', 'Hendersonville', 'Hesperia', 'Hialeah',\n",
       "       'Hicksville', 'High Point', 'Highland', 'Highlands Ranch',\n",
       "       'Hillsboro', 'Hilo', 'Hingham', 'Hoboken', 'Hoffman Estates',\n",
       "       'Hollywood', 'Holyoke', 'Honolulu', 'Hoover', 'Houston',\n",
       "       'Huntersville', 'Huntington', 'Huntington Beach',\n",
       "       'Huntington Park', 'Huntsville', 'Hutchinson', 'Idaho Falls',\n",
       "       'Independence', 'Indianapolis', 'Indio', 'Inglewood', 'Iowa City',\n",
       "       'Irondequoit', 'Irvine', 'Irving', 'Irvington', 'Jackson',\n",
       "       'Jacksonville', 'Janesville', 'Jersey City', 'Johnson City',\n",
       "       'Joliet', 'Jonesboro', 'Joplin', 'Jupiter', 'Kalamazoo',\n",
       "       'Kansas City', 'Keller', 'Kendale Lakes', 'Kendall', 'Kenner',\n",
       "       'Kennewick', 'Kenosha', 'Kent', 'Kentwood', 'Kettering', 'Killeen',\n",
       "       'Kingsport', 'Kirkland', 'Kissimmee', 'Knoxville', 'Kokomo',\n",
       "       'La Crosse', 'La Habra', 'La Mesa', 'La Mirada', 'La Puente',\n",
       "       'La Quinta', 'Lafayette', 'Laguna', 'Laguna Niguel',\n",
       "       'Lake Charles', 'Lake Elsinore', 'Lake Forest', 'Lake Magdalene',\n",
       "       'Lakeland', 'Lakeville', 'Lakewood', 'Lancaster', 'Lansing',\n",
       "       'Laredo', 'Largo', 'Las Cruces', 'Las Vegas', 'Lauderhill',\n",
       "       'Lawrence', 'Lawton', 'Layton', 'League City', \"Lee's Summit\",\n",
       "       'Lehigh Acres', 'Lenexa', 'Leominster', 'Levittown', 'Lewisville',\n",
       "       'Lexington', 'Lima', 'Lincoln', 'Linden', 'Little Rock',\n",
       "       'Littleton', 'Livermore', 'Livonia', 'Lodi', 'Logan', 'Lombard',\n",
       "       'Lompoc', 'Long Beach', 'Longmont', 'Longview', 'Lorain',\n",
       "       'Los Angeles', 'Louisville', 'Loveland', 'Lowell', 'Lower Merion',\n",
       "       'Lubbock', 'Lynchburg', 'Lynn', 'Lynwood', 'MacAllen', 'MacKinney',\n",
       "       'MacLean', 'Macon', 'Madera', 'Madison', 'Malden', 'Manchester',\n",
       "       'Manhattan', 'Mansfield', 'Manteca', 'Maple Grove', 'Margate',\n",
       "       'Marietta', 'Marshfield', 'Medford', 'Melbourne', 'Memphis',\n",
       "       'Mentor', 'Merced', 'Meriden', 'Meridian', 'Mesa', 'Mesquite',\n",
       "       'Metairie', 'Miami', 'Miami Beach', 'Middletown', 'Midland',\n",
       "       'Midwest City', 'Milford', 'Milpitas', 'Milwaukee', 'Minneapolis',\n",
       "       'Minnetonka', 'Miramar', 'Mishawaka', 'Mission', 'Mission Viejo',\n",
       "       'Missoula', 'Missouri City', 'Mobile', 'Modesto', 'Moline',\n",
       "       'Monroe', 'Montclair', 'Montebello', 'Monterey Park', 'Montgomery',\n",
       "       'Montgomery Village', 'Moore', 'Moreno Valley', 'Mount Pleasant',\n",
       "       'Mount Prospect', 'Mount Vernon', 'Mountain View', 'Muncie',\n",
       "       'Murfreesboro', 'Murray', 'Murrieta', 'Muskegon', 'Nampa', 'Napa',\n",
       "       'Naperville', 'Nashua', 'Nashville', 'National City',\n",
       "       'New Bedford', 'New Braunfels', 'New Britain', 'New Brunswick',\n",
       "       'New Haven', 'New Milford', 'New Orleans', 'New Rochelle',\n",
       "       'New York', 'Newark', 'Newport Beach', 'Newport News', 'Newton',\n",
       "       'Niagara Falls', 'Norfolk', 'Normal', 'Norman', 'North Atlanta',\n",
       "       'North Bergen', 'North Bethesda', 'North Brunswick Township',\n",
       "       'North Charleston', 'North Fort Myers', 'North Highlands',\n",
       "       'North Las Vegas', 'North Little Rock', 'North Miami',\n",
       "       'North Miami Beach', 'North Port', 'North Richland Hills',\n",
       "       'Norwalk', 'Novato', 'Novi', \"O'Fallon\", 'Oak Lawn', 'Oak Park',\n",
       "       'Oakland', 'Ocala', 'Oceanside', 'Odessa', 'Ogden',\n",
       "       'Oklahoma City', 'Olathe', 'Olympia', 'Omaha', 'Ontario', 'Orange',\n",
       "       'Orem', 'Orland Park', 'Orlando', 'Oshkosh', 'Overland Park',\n",
       "       'Owensboro', 'Oxnard', 'Pahrump', 'Palatine', 'Palm Bay',\n",
       "       'Palm Beach Gardens', 'Palm Coast', 'Palm Desert', 'Palm Harbor',\n",
       "       'Palm Springs', 'Palmdale', 'Palo Alto', 'Paradise', 'Paramount',\n",
       "       'Parker', 'Parkway-South Sacramento', 'Parma',\n",
       "       'Parsippany-Troy Hills Township', 'Pasadena', 'Pasco', 'Passaic',\n",
       "       'Paterson', 'Pawtucket', 'Peabody', 'Pearland', 'Pembroke Pines',\n",
       "       'Penn Hills', 'Pensacola', 'Peoria', 'Perris', 'Perth Amboy',\n",
       "       'Petaluma', 'Pharr', 'Philadelphia', 'Phoenix', 'Pico Rivera',\n",
       "       'Pine Bluff', 'Pine Hills', 'Pinellas Park', 'Pittsburg',\n",
       "       'Pittsburgh', 'Pittsfield', 'Placentia', 'Plainfield', 'Plano',\n",
       "       'Plantation', 'Pleasanton', 'Plymouth', 'Pocatello', 'Pomona',\n",
       "       'Pompano Beach', 'Pontiac', 'Port Arthur', 'Port Charlotte',\n",
       "       'Port Orange', 'Port Saint Lucie', 'Portage', 'Porterville',\n",
       "       'Portland', 'Portsmouth', 'Potomac', 'Poway', 'Prescott',\n",
       "       'Providence', 'Provo', 'Pueblo', 'Quincy', 'Racine', 'Raleigh',\n",
       "       'Rancho Cordova', 'Rancho Cucamonga', 'Rancho Palos Verdes',\n",
       "       'Rancho Santa Margarita', 'Rapid City', 'Reading', 'Redan',\n",
       "       'Redding', 'Redford', 'Redlands', 'Redmond', 'Redondo Beach',\n",
       "       'Redwood City', 'Reno', 'Renton', 'Reston', 'Revere', 'Rialto',\n",
       "       'Richardson', 'Richland', 'Richmond', 'Rio Rancho', 'Riverside',\n",
       "       'Roanoke', 'Rochester', 'Rochester Hills', 'Rock Hill', 'Rockford',\n",
       "       'Rocklin', 'Rockville', 'Rocky Mount', 'Rogers', 'Rohnert Park',\n",
       "       'Romeoville', 'Rosemead', 'Roseville', 'Roswell', 'Round Rock',\n",
       "       'Rowland Heights', 'Rowlett', 'Royal Oak', 'Sacramento', 'Saginaw',\n",
       "       'Saint Charles', 'Saint Clair Shores', 'Saint Cloud',\n",
       "       'Saint George', 'Saint Joseph', 'Saint Louis', 'Saint Louis Park',\n",
       "       'Saint Paul', 'Saint Peters', 'Saint Petersburg', 'Salem',\n",
       "       'Salina', 'Salinas', 'Salt Lake City', 'San Angelo', 'San Antonio',\n",
       "       'San Bernardino', 'San Buenaventura', 'San Clemente', 'San Diego',\n",
       "       'San Francisco', 'San Gabriel', 'San Jose', 'San Leandro',\n",
       "       'San Luis Obispo', 'San Marcos', 'San Mateo', 'San Rafael',\n",
       "       'San Ramon', 'Sandwich', 'Sandy', 'Sandy Springs', 'Sanford',\n",
       "       'Santa Ana', 'Santa Barbara', 'Santa Clara', 'Santa Clarita',\n",
       "       'Santa Cruz', 'Santa Fe', 'Santa Maria', 'Santa Monica',\n",
       "       'Santa Rosa', 'Santee', 'Sarasota', 'Savannah', 'Sayreville',\n",
       "       'Schaumburg', 'Schenectady', 'Scottsdale', 'Scranton', 'Seattle',\n",
       "       'Seattle Hill-Silver Firs', 'Severn', 'Shawnee', 'Sheboygan',\n",
       "       'Shelby', 'Shelton', 'Shoreline', 'Shreveport', 'Sierra Vista',\n",
       "       'Silver Spring', 'Simi Valley', 'Sioux City', 'Sioux Falls',\n",
       "       'Skokie', 'Smyrna', 'Somerville', 'South Bend', 'South Gate',\n",
       "       'South Hill', 'South San Francisco', 'South Valley',\n",
       "       'South Whittier', 'Southaven', 'Southfield', 'Southglenn',\n",
       "       'Sparks', 'Spokane', 'Spring Hill', 'Spring Valley', 'Springdale',\n",
       "       'Springfield', 'Stamford', 'State College', 'Sterling',\n",
       "       'Sterling Heights', 'Stillwater', 'Stockton', 'Stratford',\n",
       "       'Strongsville', 'Suffolk', 'Sugar Land', 'Sumter', 'Sun City',\n",
       "       'Sunnyvale', 'Sunrise', 'Sunrise Manor', 'Surprise', 'Syracuse',\n",
       "       'Tacoma', 'Tallahassee', 'Tamarac', 'Tamiami', 'Tampa', 'Taunton',\n",
       "       'Taylor', 'Taylorsville', 'Teaneck', 'Temecula', 'Tempe', 'Temple',\n",
       "       'Terre Haute', 'Texas City', 'The Colony', 'The Hammocks',\n",
       "       'The Woodlands', 'Thornton', 'Thousand Oaks', 'Tigard',\n",
       "       'Tinley Park', 'Titusville', 'Toledo', 'Toms River',\n",
       "       'Tonawanda CDP', 'Topeka', 'Torrance', \"Town'n'Country\", 'Towson',\n",
       "       'Tracy', 'Trenton', 'Troy', 'Tuckahoe', 'Tucson', 'Tulare',\n",
       "       'Tulsa', 'Turlock', 'Tuscaloosa', 'Tustin', 'Twin Falls', 'Tyler',\n",
       "       'Union', 'Union City', 'Upland', 'Urbana', 'Utica', 'Vacaville',\n",
       "       'Valdosta', 'Vallejo', 'Vancouver', 'Vestavia Hills', 'Victoria',\n",
       "       'Victorville', 'Vineland', 'Virginia Beach', 'Visalia', 'Vista',\n",
       "       'Waco', 'Walnut Creek', 'Walpole', 'Waltham', 'Warner Robins',\n",
       "       'Warren', 'Warwick', 'Washington', 'Waterbury', 'Waterford',\n",
       "       'Waterloo', 'Watsonville', 'Waukegan', 'Waukesha', 'Wauwatosa',\n",
       "       'Wayne', 'Wellington', 'West Allis', 'West Babylon',\n",
       "       'West Bloomfield Township', 'West Covina', 'West Des Moines',\n",
       "       'West Hartford', 'West Haven', 'West Jordan', 'West New York',\n",
       "       'West Orange', 'West Palm Beach', 'West Sacramento', 'West Seneca',\n",
       "       'West Valley City', 'Westborough', 'Westfield', 'Westland',\n",
       "       'Westminster', 'Weston', 'Weymouth', 'Wheaton', 'Wheaton-Glenmont',\n",
       "       'White Plains', 'Whittier', 'Wichita', 'Wichita Falls',\n",
       "       'Wilkes-Barre', 'Wilmington', 'Wilson', 'Winston-Salem',\n",
       "       'Woodbury', 'Woodland', 'Woonsocket', 'Worcester', 'Wyoming',\n",
       "       'Yakima', 'Yonkers', 'Yorba Linda', 'Youngstown', 'Yuba City',\n",
       "       'Yucaipa', 'Yuma'], dtype=object)"
      ]
     },
     "execution_count": 79,
     "metadata": {},
     "output_type": "execute_result"
    }
   ],
   "source": [
    "citydata.unique() #looks okay for now but I didn't spend too much time on this"
   ]
  },
  {
   "cell_type": "code",
   "execution_count": 81,
   "metadata": {},
   "outputs": [
    {
     "data": {
      "text/plain": [
       "1"
      ]
     },
     "execution_count": 81,
     "metadata": {},
     "output_type": "execute_result"
    }
   ],
   "source": [
    "user_data.country.unique()\n",
    "user_data.country.nunique() #all from usa\n",
    "#so this column isn't needed and won't be helpful for modeling"
   ]
  },
  {
   "cell_type": "code",
   "execution_count": 82,
   "metadata": {},
   "outputs": [
    {
     "data": {
      "text/plain": [
       "array([ -70.97, -119.82, -117.39, -119.74,  -87.68,  -73.94,  -78.91,\n",
       "        -77.27,  -97.51,  -80.83,  -76.31, -121.71, -122.35, -122.22,\n",
       "        -73.13,  -95.69,  -80.14,  -76.51,  -94.73, -101.82,  -98.42,\n",
       "        -95.39, -110.99,  -73.2 ,  -86.8 ,  -90.01,  -91.39, -118.41,\n",
       "       -122.34, -117.57, -117.46,  -81.52, -111.76,  -83.29,  -93.8 ,\n",
       "        -86.15,  -97.75, -117.3 ,  -72.8 ,  -74.17,  -72.57,  -82.56,\n",
       "        -83.21,  -81.66, -112.32, -117.95,  -83.58,  -97.36, -117.32,\n",
       "        -98.51,  -91.49, -122.02, -118.38, -111.74,  -94.68,  -70.99,\n",
       "        -80.25, -121.29,  -94.38,  -73.87,  -78.8 , -117.93,  -71.5 ,\n",
       "        -83.26,  -86.78,  -81.89,  -90.18,  -90.32,  -77.26, -111.64,\n",
       "        -81.99, -115.  , -121.91,  -74.03,  -85.74,  -89.02,  -92.45,\n",
       "        -96.86,  -82.71,  -87.97,  -76.36, -117.04,  -95.92,  -97.13,\n",
       "        -80.08,  -83.38,  -87.99, -119.  , -118.13,  -96.96,  -80.66,\n",
       "        -84.54, -122.46,  -88.45,  -75.23,  -87.54,  -70.6 ,  -96.69,\n",
       "       -117.96, -102.1 ,  -77.91, -117.21, -118.09,  -71.48,  -83.27,\n",
       "       -115.13, -104.97,  -80.35,  -76.14,  -85.66,  -86.17,  -86.82,\n",
       "        -83.48, -122.64, -117.81,  -94.14,  -87.98,  -80.26,  -80.13,\n",
       "       -108.54,  -84.87, -104.74,  -75.13,  -96.71, -117.13,  -76.04,\n",
       "       -117.17, -117.91, -106.44,  -80.41,  -96.82, -117.82,  -84.06,\n",
       "        -95.3 ,  -82.78, -106.66, -110.89, -122.36,  -87.85,  -81.8 ,\n",
       "        -83.15, -119.79, -106.68,  -86.27, -121.37,  -90.69,  -88.4 ,\n",
       "        -88.08,  -79.83, -117.75,  -82.48, -117.31,  -75.28,  -78.66,\n",
       "        -87.87,  -83.37,  -77.57,  -80.21,  -82.29, -121.85,  -73.25,\n",
       "       -115.05,  -74.19,  -87.35, -119.21,  -83.66, -110.92,  -80.3 ,\n",
       "        -96.97,  -96.98,  -71.42, -149.19,  -82.11, -118.75,  -71.81,\n",
       "        -88.75,  -73.55, -115.22,  -76.24,  -88.14, -117.87, -117.88,\n",
       "        -92.48,  -80.04, -117.76, -117.69, -122.51, -118.18, -122.7 ,\n",
       "        -88.29, -117.4 ,  -89.93,  -83.1 ,  -86.28,  -78.88,  -84.42,\n",
       "        -93.93,  -73.93,  -71.32,  -83.63, -121.74,  -91.13,   30.31,\n",
       "       -104.62,  -80.12,  -97.34,  -95.49, -118.34,  -73.26,  -82.64,\n",
       "        -82.42, -115.99,  -76.86,  -72.54,  -80.11, -105.25,  -93.16,\n",
       "        -82.47,  -77.86, -122.21, -118.25,  -78.87,  -87.76, -118.49,\n",
       "        -97.72,  -86.63,  -81.05, -111.93,  -71.25,  -78.86,  -88.09,\n",
       "        -80.29,  -88.12,  -87.49,  -79.98,  -74.21,  -80.59,  -80.33,\n",
       "        -74.06,  -87.12,  -74.16,  -81.68,  -71.03,  -93.27, -118.01,\n",
       "        -80.  ,  -77.05, -121.64, -105.07,  -96.01,  -70.87,  -77.47,\n",
       "        -71.01,  -87.81,  -89.31,  -82.89, -117.07,  -93.66,  -74.37,\n",
       "        -96.75, -122.08,  -95.79,  -83.03, -122.27,  -96.6 , -112.2 ,\n",
       "       -111.62,  -97.47,  -93.32,  -96.77, -117.29,  -71.56,  -83.73,\n",
       "       -121.3 ,  -97.08, -117.7 ,  -81.4 ,  -80.44, -118.36, -118.26,\n",
       "       -111.97,  -75.11, -111.87,  -79.45,  -81.73,  -87.75, -122.26,\n",
       "       -117.73,  -77.21,  -88.15, -118.19,  -87.38,  -84.16, -117.14,\n",
       "       -112.47,  -82.34,  -94.8 , -122.  ,  -82.37, -122.42,  -77.62,\n",
       "        -78.75,  -81.01,  -97.91,  -73.68,  -70.84,  -82.99,  -81.03,\n",
       "        -77.42,  -81.96,  -93.62,  -77.08,  -71.77,  -93.2 ,  -75.48,\n",
       "       -117.33,  -83.39,  -70.95,  -96.59,  -82.58, -122.04, -118.04,\n",
       "        -89.39, -122.47, -122.44,  -72.94,  -82.  , -118.16,  -83.95,\n",
       "       -121.42,  -84.48,  -82.19, -105.05, -121.97,  -80.09,  -76.88,\n",
       "        -94.13,  -94.17,  -90.71, -110.32,  -78.9 ,  -93.63,  -74.76,\n",
       "        -80.16,  -89.61,  -77.34, -122.45,  -77.44, -121.76, -116.4 ,\n",
       "        -82.92,  -71.24, -121.47,  -77.37, -111.7 , -104.73,  -74.32,\n",
       "       -118.23,  -97.41,  -72.92,  -90.24, -103.23, -122.16,  -73.83,\n",
       "        -89.64,  -84.28, -122.03,  -86.11, -120.85, -104.76,  -73.8 ,\n",
       "        -97.48,  -85.14,  -77.43,  -70.61,  -90.21, -121.24,  -94.5 ,\n",
       "       -104.79,  -73.04, -121.81, -120.99,  -76.64,  -93.29,  -74.45,\n",
       "       -116.46,  -96.89,  -81.56, -104.87,  -88.93,  -87.94,  -71.44,\n",
       "       -116.56, -118.  ,  -82.5 ,  -93.28,  -75.37,  -93.24, -105.06,\n",
       "        -81.37,  -99.49,  -74.42,  -77.02,  -96.9 ,  -75.91,  -80.17,\n",
       "       -104.85,  -98.24,  -96.39,  -83.8 ,  -85.59,  -71.3 ,  -71.36,\n",
       "        -84.46,  -87.79, -120.47,  -85.69, -117.8 ,  -75.93, -122.94,\n",
       "        -94.55, -122.82,  -84.2 , -122.14,  -79.96, -112.41,  -94.82,\n",
       "        -91.54, -121.89, -121.38, -117.97, -118.1 , -118.08,  -81.83,\n",
       "       -122.2 ,  -76.62,  -74.27, -119.34, -117.19,  -96.63,  -97.22,\n",
       "        -93.46, -157.8 , -105.01,  -95.54, -112.03, -115.14, -112.24,\n",
       "        -98.37,  -71.82, -122.1 , -122.3 ,  -94.81, -117.22, -118.51,\n",
       "       -118.87,  -95.15,  -80.4 ,  -85.97, -111.89,  -70.28,  -73.42,\n",
       "       -121.58, -105.11, -118.33,  -83.16,  -76.3 , -111.99,  -74.26,\n",
       "        -75.67,  -87.73,  -73.62,  -70.67,  -81.21,  -70.71,  -94.97,\n",
       "        -95.11,  -88.55,  -80.82, -118.4 ,  -81.41,  -96.73,  -99.74,\n",
       "        -74.11,  -71.16,  -84.36,  -77.15,  -90.  ,  -75.53,  -71.12,\n",
       "       -118.02,  -86.84,  -97.29,  -80.86, -117.  ,  -71.11,  -81.63,\n",
       "        -72.76,  -77.22,  -97.93,  -82.55, -122.77,  -92.46,  -80.39,\n",
       "       -118.17,  -88.04, -120.66, -122.98, -122.85,  -70.3 , -119.03,\n",
       "        -80.64, -117.41, -119.13,  -74.05, -117.66,  -90.58,  -98.12,\n",
       "        -82.52,  -86.79,  -72.64,  -83.14,  -80.89, -117.61, -122.66,\n",
       "        -73.59,  -92.35, -121.15,  -84.15,  -86.6 , -122.56,  -97.18,\n",
       "       -121.8 ,  -81.85,  -85.23, -112.28, -117.1 ,  -76.94, -123.02,\n",
       "       -120.44,  -80.23,  -86.99,  -87.19,  -88.83,  -82.94, -118.14,\n",
       "        -72.68,  -80.65, -117.02,  -84.55,  -86.13,  -83.28,  -86.39,\n",
       "       -120.53,  -71.14, -121.32,  -76.5 ,  -75.  ,  -74.23,  -93.35,\n",
       "       -118.03, -121.31,  -91.23,  -76.74, -121.55, -105.95,  -96.81,\n",
       "        -80.27,  -70.2 , -106.76, -112.45,  -79.86, -117.99,  -83.69,\n",
       "        -70.94,  -93.75, -116.53, -115.24,  -76.29, -122.19,  -94.35,\n",
       "       -123.28,  -84.52,  -94.76,  -90.25,  -82.76,  -76.83, -121.77,\n",
       "        -88.21,  -77.12,  -81.13,  -98.19,  -77.09,  -74.13,  -97.09,\n",
       "       -117.65,  -87.8 ,  -93.1 ,  -82.43,  -95.47,  -77.2 , -118.15,\n",
       "       -112.07,  -88.13,  -98.52, -121.22,  -97.07,  -84.51,  -80.32,\n",
       "        -84.37,  -73.47, -116.23, -118.3 ,  -74.24, -119.65, -102.35,\n",
       "       -119.17,  -80.1 ,  -77.59, -101.88,  -97.02,  -74.01, -119.26,\n",
       "        -74.39,  -92.03,  -93.36,  -71.49,  -88.33,  -88.97,  -77.81,\n",
       "        -70.96,  -71.09,  -80.34, -121.43,  -74.85, -112.01,  -76.32,\n",
       "        -81.28, -116.96, -122.31,  -92.02,  -84.56,  -93.31,  -90.49,\n",
       "        -89.07,  -87.69,  -85.48,  -71.02, -123.09,  -72.62,  -71.1 ,\n",
       "        -89.84,  -86.26,  -86.75,  -73.06, -111.94,  -85.39,  -73.98,\n",
       "        -92.33,  -81.17,  -95.28,  -77.18,  -94.96,  -71.21,  -74.25,\n",
       "        -70.5 ,  -75.88,  -95.62,  -95.26,  -79.19,  -97.69, -117.85,\n",
       "       -118.2 ,  -71.37,  -96.65, -114.62,  -70.08,  -88.03, -106.33,\n",
       "        -96.67,  -71.06,  -88.01,  -97.27, -118.35,  -94.79, -122.05,\n",
       "        -84.11,  -85.26,  -87.74, -118.12,  -72.89,  -82.53, -117.84,\n",
       "       -122.06, -122.15,  -73.58, -111.85, -122.11,  -87.9 , -122.53,\n",
       "        -72.79,  -93.21,  -73.14, -114.01,  -72.65,  -84.18,  -86.44,\n",
       "       -104.53,  -89.  ,  -97.87, -116.38, -119.72,  -97.62, -117.77,\n",
       "        -90.6 ,  -83.49,  -85.7 , -111.29,  -92.12, -116.29,  -94.15,\n",
       "       -118.24, -119.32, -116.78,  -73.76, -121.95,  -71.26,  -77.1 ,\n",
       "       -123.11, -119.29, -122.24,  -87.34, -117.24,  -88.11, -118.22,\n",
       "        -85.99,  -92.92,  -73.36, -108.19,  -74.48, -104.96,  -85.91,\n",
       "        -71.62,  -83.64, -120.96,  -92.26, -111.95, -100.45,  -86.52,\n",
       "       -114.46,  -89.06,  -86.87,  -73.78, -113.58,  -77.35,  -84.23,\n",
       "        -73.53, -120.08, -122.89,  -79.41,  -77.4 ,  -97.67,  -79.99,\n",
       "        -96.99,  -76.69, -120.48,  -87.96,  -79.02, -117.26,  -81.33,\n",
       "        -81.46, -116.98, -108.55,  -76.6 ,  -97.23, -100.77,  -77.41,\n",
       "       -111.84,  -70.89,  -98.16,  -97.83,  -95.86,  -96.31, -119.25,\n",
       "        -82.18,  -79.04,  -84.33,  -80.18,  -72.97,  -94.27, -104.95,\n",
       "        -86.02, -155.09,  -98.32, -121.45,  -88.24, -122.87,  -72.75,\n",
       "        -76.61, -117.89,  -90.61,  -88.26,  -77.92,  -77.19,  -87.82,\n",
       "        -90.52,  -96.37,  -88.02, -121.62, -119.7 ,  -91.67, -117.6 ,\n",
       "        -94.16,  -80.43,  -92.08,  -97.37,  -85.41,  -73.51,  -81.79,\n",
       "        -78.4 , -121.16, -122.37, -118.07, -118.11,  -96.55, -106.62,\n",
       "       -122.63,  -82.38,  -82.13,  -73.41])"
      ]
     },
     "execution_count": 82,
     "metadata": {},
     "output_type": "execute_result"
    }
   ],
   "source": [
    "user_data.long.unique()"
   ]
  },
  {
   "cell_type": "code",
   "execution_count": 83,
   "metadata": {},
   "outputs": [
    {
     "data": {
      "text/plain": [
       "array([42.53, 39.54, 34.11, 39.15, 41.84, 40.67, 35.98, 38.78, 35.47,\n",
       "       35.2 , 36.68, 37.93, 47.62, 37.77, 41.2 , 39.04, 26.14, 37.08,\n",
       "       39.12, 34.6 , 29.77, 32.32, 41.19, 33.53, 35.11, 39.93, 47.31,\n",
       "       34.12, 34.1 , 41.17, 33.33, 42.39, 32.47, 39.78, 30.31, 34.42,\n",
       "       41.54, 39.94, 42.18, 28.48, 42.31, 30.33, 33.42, 33.93, 41.66,\n",
       "       31.1 , 34.06, 29.46, 44.82, 37.6 , 33.86, 38.91, 42.42, 26.66,\n",
       "       38.69, 35.37, 40.95, 35.78, 33.88, 42.  , 42.48, 36.17, 26.71,\n",
       "       30.  , 38.8 , 39.18, 40.25, 33.46, 36.03, 37.72, 40.79, 38.22,\n",
       "       42.68, 35.09, 32.6 , 27.86, 43.06, 36.86, 32.63, 36.13, 32.69,\n",
       "       26.53, 42.32, 44.52, 35.36, 33.94, 32.58, 27.99, 39.33, 47.25,\n",
       "       43.77, 43.1 , 37.98, 41.55, 40.82, 33.78, 32.03, 34.21, 33.56,\n",
       "       34.61, 41.77, 42.23, 36.08, 39.55, 25.77, 43.04, 42.96, 41.67,\n",
       "       33.38, 45.63, 34.  , 30.09, 42.09, 36.1 , 26.24, 45.79, 32.51,\n",
       "       40.42, 40.01, 32.97, 33.5 , 36.74, 34.14, 31.85, 25.71, 46.88,\n",
       "       33.71, 33.81, 39.73, 32.33, 27.91, 35.27, 32.2 , 37.95, 41.61,\n",
       "       41.48, 42.51, 36.78, 33.21, 35.01, 41.68, 38.4 , 42.5 , 44.27,\n",
       "       41.7 , 33.97, 27.96, 33.23, 40.03, 35.82, 42.37, 42.4 , 43.21,\n",
       "       25.78, 27.93, 37.3 , 40.78, 36.19, 36.56, 34.2 , 32.84, 32.3 ,\n",
       "       26.15, 32.86, 33.04, 41.82, 61.18, 26.99, 34.26, 42.27, 41.93,\n",
       "       41.1 , 36.21, 36.92, 42.06, 33.92, 33.74, 44.01, 32.91, 34.01,\n",
       "       34.69, 38.45, 30.07, 42.38, 32.35, 42.98, 33.76, 29.9 , 42.8 ,\n",
       "       42.64, 32.61, 38.55, 30.45, 59.93, 38.27, 34.53, 26.31, 32.75,\n",
       "       30.16, 33.83, 41.59, 42.45, 40.07, 36.2 , 39.2 , 42.12, 26.37,\n",
       "       28.07, 47.3 , 34.18, 38.44, 34.71, 26.13, 29.19, 42.14, 42.89,\n",
       "       30.68, 42.33, 26.08, 34.09, 41.53, 41.62, 40.44, 40.77, 40.09,\n",
       "       35.41, 25.98, 41.99, 40.71, 37.76, 40.91, 42.08, 44.96, 33.69,\n",
       "       39.06, 40.56, 41.26, 37.53, 42.26, 42.73, 31.31, 42.49, 33.14,\n",
       "       32.52, 40.53, 33.05, 37.4 , 36.04, 42.58, 47.14, 32.77, 33.58,\n",
       "       35.19, 35.33, 44.83, 32.79, 43.23, 42.28, 38.6 , 32.85, 33.63,\n",
       "       28.66, 26.27, 25.67, 33.12, 33.84, 41.23, 41.38, 41.72, 33.57,\n",
       "       38.83, 26.75, 41.76, 39.47, 32.81, 33.66, 29.67, 39.02, 37.97,\n",
       "       34.84, 42.57, 37.66, 43.17, 42.91, 29.11, 38.07, 42.56, 39.99,\n",
       "       34.94, 39.43, 28.04, 41.58, 39.09, 42.52, 30.21, 40.6 , 34.52,\n",
       "       33.95, 25.81, 42.21, 39.19, 28.01, 36.97, 34.13, 43.08, 37.69,\n",
       "       41.65, 45.5 , 33.24, 26.64, 33.79, 35.97, 38.42, 42.74, 27.05,\n",
       "       39.88, 37.81, 42.13, 40.28, 36.33, 45.55, 27.28, 33.3 , 33.9 ,\n",
       "       31.57, 35.07, 42.02, 40.22, 25.86, 26.03, 40.74, 37.37, 38.65,\n",
       "       38.85, 43.61, 42.59, 38.57, 35.6 , 37.9 , 40.3 , 39.71, 40.47,\n",
       "       33.89, 35.67, 41.31, 38.64, 44.08, 47.6 , 30.46, 37.39, 39.62,\n",
       "       37.5 , 38.86, 42.67, 25.93, 38.35, 41.07, 39.01, 41.74, 41.15,\n",
       "       41.56, 39.75, 36.7 , 37.2 , 40.49, 33.09, 41.13, 41.51, 39.77,\n",
       "       39.85, 33.6 , 41.9 , 43.58, 28.02, 44.76, 40.63, 44.68, 40.81,\n",
       "       27.53, 40.86, 32.99, 42.1 , 39.38, 26.22, 42.88, 41.8 , 38.04,\n",
       "       34.66, 40.34, 45.53, 40.72, 45.48, 37.28, 33.35, 39.76, 41.08,\n",
       "       38.02, 34.08, 34.07, 47.48, 39.4 , 40.52, 45.02, 21.32, 39.59,\n",
       "       33.87, 29.57, 43.49, 36.27, 40.92, 37.63, 38.3 , 38.89, 34.41,\n",
       "       33.96, 34.19, 29.66, 26.1 , 41.69, 40.65, 43.66, 38.25, 41.09,\n",
       "       37.01, 39.82, 40.57, 40.04, 41.4 , 37.52, 43.75, 40.7 , 42.04,\n",
       "       28.91, 29.75, 29.49, 44.02, 41.24, 28.3 , 43.54, 32.45, 40.06,\n",
       "       37.87, 39.6 , 42.7 , 34.04, 39.08, 38.53, 39.74, 35.93, 27.71,\n",
       "       40.66, 33.73, 37.43, 39.14, 29.88, 35.57, 45.43, 31.29, 34.03,\n",
       "       42.11, 44.05, 42.34, 25.7 , 26.2 , 34.22, 28.11, 47.67, 46.25,\n",
       "       40.89, 28.82, 42.2 , 29.7 , 33.43, 34.05, 27.76, 26.84, 37.67,\n",
       "       41.89, 33.45, 45.54, 41.04, 38.68, 39.7 , 36.29, 38.09, 37.99,\n",
       "       26.63, 42.3 , 33.62, 32.67, 39.41, 44.92, 26.17, 33.61, 34.57,\n",
       "       30.44, 35.63, 40.17, 34.16, 42.84, 43.42, 33.91, 42.66, 42.71,\n",
       "       40.48, 30.85, 42.65, 35.85, 46.59, 38.63, 39.27, 39.46, 45.11,\n",
       "       44.07, 43.83, 38.92, 38.96, 39.9 , 38.56, 28.59, 35.68, 25.94,\n",
       "       41.96, 32.34, 34.58, 32.82, 33.75, 43.02, 41.57, 36.11, 37.05,\n",
       "       47.68, 44.57, 40.43, 29.99, 28.09, 40.11, 32.02, 26.18, 38.82,\n",
       "       33.03, 38.99, 28.5 , 44.95, 38.41, 38.67, 30.32, 39.03, 33.54,\n",
       "       41.92, 37.8 , 47.92, 47.75, 29.3 , 25.95, 33.72, 25.76, 31.87,\n",
       "       46.2 , 26.92, 37.59, 34.27, 30.22, 44.89, 47.96, 42.75, 35.96,\n",
       "       42.47, 42.78, 26.01, 37.74, 40.15, 40.69, 39.5 , 28.79, 32.8 ,\n",
       "       37.56, 39.39, 45.17, 41.49, 30.39, 42.05, 32.59, 41.71, 44.62,\n",
       "       35.22, 34.7 , 39.51, 40.2 , 38.95, 35.25, 29.56, 44.93, 38.94,\n",
       "       29.41, 41.25, 29.62, 30.65, 41.87, 33.2 , 32.68, 42.83, 33.11,\n",
       "       38.11, 36.06, 42.43, 37.31, 38.76, 33.85, 41.37, 40.88, 39.26,\n",
       "       40.76, 34.15, 37.71, 41.16, 42.03, 47.16, 41.3 , 33.82, 46.87,\n",
       "       26.6 , 31.58, 38.12, 33.37, 36.41, 34.43, 47.5 , 46.78, 33.67,\n",
       "       36.18, 34.97, 35.23, 47.7 , 41.02, 39.97, 38.88, 46.29, 47.39,\n",
       "       41.6 , 33.19, 47.55, 41.86, 33.98, 39.87, 44.91, 36.75, 40.45,\n",
       "       39.89, 44.85, 39.21, 42.07, 38.36, 33.39, 34.79, 31.45, 39.17,\n",
       "       25.9 , 33.99, 40.41, 43.62, 47.04, 36.58, 34.76, 27.49, 30.52,\n",
       "       48.74, 32.96, 42.17, 43.09, 28.58, 32.93, 46.81, 42.24, 43.01,\n",
       "       26.3 , 30.51, 30.6 , 35.76, 41.44, 26.28, 44.75, 41.27, 39.95,\n",
       "       19.7 , 26.21, 38.51, 45.49, 39.3 , 35.73, 27.34, 40.62, 38.79,\n",
       "       30.67, 36.82, 41.97, 33.64, 36.07, 37.23, 35.46, 34.72, 31.24,\n",
       "       26.45, 26.34, 40.51, 47.88, 26.25, 47.83, 34.02, 36.53, 35.12,\n",
       "       38.24, 27.98])"
      ]
     },
     "execution_count": 83,
     "metadata": {},
     "output_type": "execute_result"
    }
   ],
   "source": [
    "user_data.lat.unique()"
   ]
  },
  {
   "cell_type": "code",
   "execution_count": 86,
   "metadata": {},
   "outputs": [],
   "source": [
    "#The coordinates are okay but change to floats so have the zeros etc.\n",
    "user_data[['lat','long']]=user_data[['lat','long']].astype(float)"
   ]
  },
  {
   "cell_type": "code",
   "execution_count": 88,
   "metadata": {},
   "outputs": [
    {
     "name": "stdout",
     "output_type": "stream",
     "text": [
      "<class 'pandas.core.frame.DataFrame'>\n",
      "RangeIndex: 275616 entries, 0 to 275615\n",
      "Data columns (total 5 columns):\n",
      "user_id    275616 non-null int64\n",
      "city       275616 non-null object\n",
      "country    275616 non-null object\n",
      "lat        275616 non-null float64\n",
      "long       275616 non-null float64\n",
      "dtypes: float64(2), int64(1), object(2)\n",
      "memory usage: 10.5+ MB\n"
     ]
    }
   ],
   "source": [
    "#check dtypes\n",
    "user_data.info()\n",
    "#good now you can join"
   ]
  },
  {
   "cell_type": "code",
   "execution_count": null,
   "metadata": {},
   "outputs": [],
   "source": [
    "#Join the tables"
   ]
  },
  {
   "cell_type": "code",
   "execution_count": 89,
   "metadata": {},
   "outputs": [
    {
     "data": {
      "text/html": [
       "<div>\n",
       "<style scoped>\n",
       "    .dataframe tbody tr th:only-of-type {\n",
       "        vertical-align: middle;\n",
       "    }\n",
       "\n",
       "    .dataframe tbody tr th {\n",
       "        vertical-align: top;\n",
       "    }\n",
       "\n",
       "    .dataframe thead th {\n",
       "        text-align: right;\n",
       "    }\n",
       "</style>\n",
       "<table border=\"1\" class=\"dataframe\">\n",
       "  <thead>\n",
       "    <tr style=\"text-align: right;\">\n",
       "      <th></th>\n",
       "      <th>user_id</th>\n",
       "      <th>timestamp</th>\n",
       "      <th>source</th>\n",
       "      <th>device</th>\n",
       "      <th>op_sys</th>\n",
       "      <th>test</th>\n",
       "      <th>price</th>\n",
       "      <th>converted</th>\n",
       "      <th>city</th>\n",
       "      <th>country</th>\n",
       "      <th>lat</th>\n",
       "      <th>long</th>\n",
       "    </tr>\n",
       "  </thead>\n",
       "  <tbody>\n",
       "    <tr>\n",
       "      <th>0</th>\n",
       "      <td>604839</td>\n",
       "      <td>2015-05-08 03:38:34</td>\n",
       "      <td>ads_facebook</td>\n",
       "      <td>mobile</td>\n",
       "      <td>iOS</td>\n",
       "      <td>0</td>\n",
       "      <td>39.0</td>\n",
       "      <td>0</td>\n",
       "      <td>Buffalo</td>\n",
       "      <td>USA</td>\n",
       "      <td>42.89</td>\n",
       "      <td>-78.86</td>\n",
       "    </tr>\n",
       "    <tr>\n",
       "      <th>1</th>\n",
       "      <td>624057</td>\n",
       "      <td>2015-05-10 21:08:46</td>\n",
       "      <td>seo-google</td>\n",
       "      <td>mobile</td>\n",
       "      <td>android</td>\n",
       "      <td>0</td>\n",
       "      <td>39.0</td>\n",
       "      <td>0</td>\n",
       "      <td>Lakeville</td>\n",
       "      <td>USA</td>\n",
       "      <td>44.68</td>\n",
       "      <td>-93.24</td>\n",
       "    </tr>\n",
       "    <tr>\n",
       "      <th>2</th>\n",
       "      <td>317970</td>\n",
       "      <td>2015-04-04 15:01:23</td>\n",
       "      <td>ads-bing</td>\n",
       "      <td>mobile</td>\n",
       "      <td>android</td>\n",
       "      <td>0</td>\n",
       "      <td>39.0</td>\n",
       "      <td>0</td>\n",
       "      <td>Parma</td>\n",
       "      <td>USA</td>\n",
       "      <td>41.38</td>\n",
       "      <td>-81.73</td>\n",
       "    </tr>\n",
       "    <tr>\n",
       "      <th>3</th>\n",
       "      <td>685636</td>\n",
       "      <td>2015-05-07 07:26:01</td>\n",
       "      <td>direct_traffic</td>\n",
       "      <td>mobile</td>\n",
       "      <td>iOS</td>\n",
       "      <td>1</td>\n",
       "      <td>59.0</td>\n",
       "      <td>0</td>\n",
       "      <td>Fayetteville</td>\n",
       "      <td>USA</td>\n",
       "      <td>35.07</td>\n",
       "      <td>-78.90</td>\n",
       "    </tr>\n",
       "    <tr>\n",
       "      <th>4</th>\n",
       "      <td>820854</td>\n",
       "      <td>2015-05-24 11:04:40</td>\n",
       "      <td>ads_facebook</td>\n",
       "      <td>web</td>\n",
       "      <td>mac</td>\n",
       "      <td>0</td>\n",
       "      <td>39.0</td>\n",
       "      <td>0</td>\n",
       "      <td>Fishers</td>\n",
       "      <td>USA</td>\n",
       "      <td>39.95</td>\n",
       "      <td>-86.02</td>\n",
       "    </tr>\n",
       "  </tbody>\n",
       "</table>\n",
       "</div>"
      ],
      "text/plain": [
       "   user_id            timestamp          source  device   op_sys  test  price  \\\n",
       "0   604839  2015-05-08 03:38:34    ads_facebook  mobile      iOS     0   39.0   \n",
       "1   624057  2015-05-10 21:08:46      seo-google  mobile  android     0   39.0   \n",
       "2   317970  2015-04-04 15:01:23        ads-bing  mobile  android     0   39.0   \n",
       "3   685636  2015-05-07 07:26:01  direct_traffic  mobile      iOS     1   59.0   \n",
       "4   820854  2015-05-24 11:04:40    ads_facebook     web      mac     0   39.0   \n",
       "\n",
       "   converted          city country    lat   long  \n",
       "0          0       Buffalo     USA  42.89 -78.86  \n",
       "1          0     Lakeville     USA  44.68 -93.24  \n",
       "2          0         Parma     USA  41.38 -81.73  \n",
       "3          0  Fayetteville     USA  35.07 -78.90  \n",
       "4          0       Fishers     USA  39.95 -86.02  "
      ]
     },
     "execution_count": 89,
     "metadata": {},
     "output_type": "execute_result"
    }
   ],
   "source": [
    "df = pd.merge(test_results,\n",
    "                 user_data,\n",
    "                 on='user_id', \n",
    "                 how='left')\n",
    "df.head()"
   ]
  },
  {
   "cell_type": "code",
   "execution_count": 90,
   "metadata": {},
   "outputs": [
    {
     "name": "stdout",
     "output_type": "stream",
     "text": [
      "<class 'pandas.core.frame.DataFrame'>\n",
      "Int64Index: 316800 entries, 0 to 316799\n",
      "Data columns (total 12 columns):\n",
      "user_id      316800 non-null int64\n",
      "timestamp    316466 non-null object\n",
      "source       316488 non-null object\n",
      "device       316800 non-null object\n",
      "op_sys       296461 non-null object\n",
      "test         316800 non-null int64\n",
      "price        316800 non-null float64\n",
      "converted    316800 non-null int64\n",
      "city         275616 non-null object\n",
      "country      275616 non-null object\n",
      "lat          275616 non-null float64\n",
      "long         275616 non-null float64\n",
      "dtypes: float64(3), int64(3), object(6)\n",
      "memory usage: 31.4+ MB\n"
     ]
    }
   ],
   "source": [
    "df.info()"
   ]
  },
  {
   "cell_type": "code",
   "execution_count": null,
   "metadata": {},
   "outputs": [],
   "source": [
    "#make sure converted has normal values in it\n",
    "df['converted'].unique()"
   ]
  },
  {
   "cell_type": "code",
   "execution_count": 93,
   "metadata": {},
   "outputs": [
    {
     "data": {
      "text/plain": [
       "316800"
      ]
     },
     "execution_count": 93,
     "metadata": {},
     "output_type": "execute_result"
    }
   ],
   "source": [
    "df.user_id.nunique()"
   ]
  },
  {
   "cell_type": "code",
   "execution_count": 95,
   "metadata": {},
   "outputs": [
    {
     "data": {
      "text/html": [
       "<div>\n",
       "<style scoped>\n",
       "    .dataframe tbody tr th:only-of-type {\n",
       "        vertical-align: middle;\n",
       "    }\n",
       "\n",
       "    .dataframe tbody tr th {\n",
       "        vertical-align: top;\n",
       "    }\n",
       "\n",
       "    .dataframe thead th {\n",
       "        text-align: right;\n",
       "    }\n",
       "</style>\n",
       "<table border=\"1\" class=\"dataframe\">\n",
       "  <thead>\n",
       "    <tr style=\"text-align: right;\">\n",
       "      <th></th>\n",
       "      <th>user_id</th>\n",
       "      <th>timestamp</th>\n",
       "      <th>source</th>\n",
       "      <th>device</th>\n",
       "      <th>op_sys</th>\n",
       "      <th>test</th>\n",
       "      <th>price</th>\n",
       "      <th>converted</th>\n",
       "      <th>city</th>\n",
       "      <th>country</th>\n",
       "      <th>lat</th>\n",
       "      <th>long</th>\n",
       "    </tr>\n",
       "  </thead>\n",
       "  <tbody>\n",
       "    <tr>\n",
       "      <th>0</th>\n",
       "      <td>604839</td>\n",
       "      <td>2015-05-08 03:38:34</td>\n",
       "      <td>ads_facebook</td>\n",
       "      <td>mobile</td>\n",
       "      <td>iOS</td>\n",
       "      <td>0</td>\n",
       "      <td>39.0</td>\n",
       "      <td>0</td>\n",
       "      <td>Buffalo</td>\n",
       "      <td>USA</td>\n",
       "      <td>42.89</td>\n",
       "      <td>-78.86</td>\n",
       "    </tr>\n",
       "    <tr>\n",
       "      <th>1</th>\n",
       "      <td>624057</td>\n",
       "      <td>2015-05-10 21:08:46</td>\n",
       "      <td>seo-google</td>\n",
       "      <td>mobile</td>\n",
       "      <td>android</td>\n",
       "      <td>0</td>\n",
       "      <td>39.0</td>\n",
       "      <td>0</td>\n",
       "      <td>Lakeville</td>\n",
       "      <td>USA</td>\n",
       "      <td>44.68</td>\n",
       "      <td>-93.24</td>\n",
       "    </tr>\n",
       "    <tr>\n",
       "      <th>2</th>\n",
       "      <td>317970</td>\n",
       "      <td>2015-04-04 15:01:23</td>\n",
       "      <td>ads-bing</td>\n",
       "      <td>mobile</td>\n",
       "      <td>android</td>\n",
       "      <td>0</td>\n",
       "      <td>39.0</td>\n",
       "      <td>0</td>\n",
       "      <td>Parma</td>\n",
       "      <td>USA</td>\n",
       "      <td>41.38</td>\n",
       "      <td>-81.73</td>\n",
       "    </tr>\n",
       "    <tr>\n",
       "      <th>3</th>\n",
       "      <td>685636</td>\n",
       "      <td>2015-05-07 07:26:01</td>\n",
       "      <td>direct_traffic</td>\n",
       "      <td>mobile</td>\n",
       "      <td>iOS</td>\n",
       "      <td>1</td>\n",
       "      <td>59.0</td>\n",
       "      <td>0</td>\n",
       "      <td>Fayetteville</td>\n",
       "      <td>USA</td>\n",
       "      <td>35.07</td>\n",
       "      <td>-78.90</td>\n",
       "    </tr>\n",
       "    <tr>\n",
       "      <th>4</th>\n",
       "      <td>820854</td>\n",
       "      <td>2015-05-24 11:04:40</td>\n",
       "      <td>ads_facebook</td>\n",
       "      <td>web</td>\n",
       "      <td>mac</td>\n",
       "      <td>0</td>\n",
       "      <td>39.0</td>\n",
       "      <td>0</td>\n",
       "      <td>Fishers</td>\n",
       "      <td>USA</td>\n",
       "      <td>39.95</td>\n",
       "      <td>-86.02</td>\n",
       "    </tr>\n",
       "  </tbody>\n",
       "</table>\n",
       "</div>"
      ],
      "text/plain": [
       "   user_id            timestamp          source  device   op_sys  test  price  \\\n",
       "0   604839  2015-05-08 03:38:34    ads_facebook  mobile      iOS     0   39.0   \n",
       "1   624057  2015-05-10 21:08:46      seo-google  mobile  android     0   39.0   \n",
       "2   317970  2015-04-04 15:01:23        ads-bing  mobile  android     0   39.0   \n",
       "3   685636  2015-05-07 07:26:01  direct_traffic  mobile      iOS     1   59.0   \n",
       "4   820854  2015-05-24 11:04:40    ads_facebook     web      mac     0   39.0   \n",
       "\n",
       "   converted          city country    lat   long  \n",
       "0          0       Buffalo     USA  42.89 -78.86  \n",
       "1          0     Lakeville     USA  44.68 -93.24  \n",
       "2          0         Parma     USA  41.38 -81.73  \n",
       "3          0  Fayetteville     USA  35.07 -78.90  \n",
       "4          0       Fishers     USA  39.95 -86.02  "
      ]
     },
     "execution_count": 95,
     "metadata": {},
     "output_type": "execute_result"
    }
   ],
   "source": [
    "#drop the country column\n",
    "df.drop(['country'], axis=1)\n",
    "df.head()\n"
   ]
  },
  {
   "cell_type": "code",
   "execution_count": 144,
   "metadata": {},
   "outputs": [
    {
     "data": {
      "text/plain": [
       "Index(['user_id', 'timestamp', 'source', 'device', 'op_sys', 'test', 'price',\n",
       "       'converted', 'city', 'country', 'lat', 'long'],\n",
       "      dtype='object')"
      ]
     },
     "execution_count": 144,
     "metadata": {},
     "output_type": "execute_result"
    }
   ],
   "source": [
    "df.columns"
   ]
  },
  {
   "cell_type": "code",
   "execution_count": 106,
   "metadata": {},
   "outputs": [],
   "source": [
    "#check out the data because the time stuff is weird\n",
    "df.to_csv('df_challenge2.csv', index=False, encoding='utf-8', date_format='%Y-%m-%d %I:%M:%S')"
   ]
  },
  {
   "cell_type": "code",
   "execution_count": 96,
   "metadata": {},
   "outputs": [],
   "source": [
    "#change timestamp to dtype timestamp \n",
    "import datetime as dt"
   ]
  },
  {
   "cell_type": "code",
   "execution_count": 114,
   "metadata": {},
   "outputs": [
    {
     "data": {
      "text/html": [
       "<div>\n",
       "<style scoped>\n",
       "    .dataframe tbody tr th:only-of-type {\n",
       "        vertical-align: middle;\n",
       "    }\n",
       "\n",
       "    .dataframe tbody tr th {\n",
       "        vertical-align: top;\n",
       "    }\n",
       "\n",
       "    .dataframe thead th {\n",
       "        text-align: right;\n",
       "    }\n",
       "</style>\n",
       "<table border=\"1\" class=\"dataframe\">\n",
       "  <thead>\n",
       "    <tr style=\"text-align: right;\">\n",
       "      <th></th>\n",
       "      <th>user_id</th>\n",
       "      <th>timestamp</th>\n",
       "      <th>source</th>\n",
       "      <th>device</th>\n",
       "      <th>op_sys</th>\n",
       "      <th>test</th>\n",
       "      <th>price</th>\n",
       "      <th>converted</th>\n",
       "      <th>city</th>\n",
       "      <th>country</th>\n",
       "      <th>lat</th>\n",
       "      <th>long</th>\n",
       "    </tr>\n",
       "  </thead>\n",
       "  <tbody>\n",
       "    <tr>\n",
       "      <th>3</th>\n",
       "      <td>685636</td>\n",
       "      <td>2015-05-07 07:26:01</td>\n",
       "      <td>direct_traffic</td>\n",
       "      <td>mobile</td>\n",
       "      <td>iOS</td>\n",
       "      <td>1</td>\n",
       "      <td>59.0</td>\n",
       "      <td>0</td>\n",
       "      <td>Fayetteville</td>\n",
       "      <td>USA</td>\n",
       "      <td>35.07</td>\n",
       "      <td>-78.90</td>\n",
       "    </tr>\n",
       "    <tr>\n",
       "      <th>7</th>\n",
       "      <td>798371</td>\n",
       "      <td>2015-03-15 08:19:29</td>\n",
       "      <td>ads-bing</td>\n",
       "      <td>mobile</td>\n",
       "      <td>android</td>\n",
       "      <td>1</td>\n",
       "      <td>59.0</td>\n",
       "      <td>1</td>\n",
       "      <td>East Orange</td>\n",
       "      <td>USA</td>\n",
       "      <td>40.77</td>\n",
       "      <td>-74.21</td>\n",
       "    </tr>\n",
       "    <tr>\n",
       "      <th>8</th>\n",
       "      <td>447194</td>\n",
       "      <td>2015-03-28 12:28:10</td>\n",
       "      <td>ads_facebook</td>\n",
       "      <td>web</td>\n",
       "      <td>windows</td>\n",
       "      <td>1</td>\n",
       "      <td>59.0</td>\n",
       "      <td>0</td>\n",
       "      <td>Dayton</td>\n",
       "      <td>USA</td>\n",
       "      <td>39.78</td>\n",
       "      <td>-84.20</td>\n",
       "    </tr>\n",
       "    <tr>\n",
       "      <th>9</th>\n",
       "      <td>431639</td>\n",
       "      <td>2015-04-24 12:42:18</td>\n",
       "      <td>ads_facebook</td>\n",
       "      <td>web</td>\n",
       "      <td>windows</td>\n",
       "      <td>1</td>\n",
       "      <td>59.0</td>\n",
       "      <td>0</td>\n",
       "      <td>Richmond</td>\n",
       "      <td>USA</td>\n",
       "      <td>37.53</td>\n",
       "      <td>-77.47</td>\n",
       "    </tr>\n",
       "    <tr>\n",
       "      <th>15</th>\n",
       "      <td>552048</td>\n",
       "      <td>2015-03-22 08:58:32</td>\n",
       "      <td>ads-bing</td>\n",
       "      <td>web</td>\n",
       "      <td>windows</td>\n",
       "      <td>1</td>\n",
       "      <td>59.0</td>\n",
       "      <td>0</td>\n",
       "      <td>Culver City</td>\n",
       "      <td>USA</td>\n",
       "      <td>34.01</td>\n",
       "      <td>-118.40</td>\n",
       "    </tr>\n",
       "  </tbody>\n",
       "</table>\n",
       "</div>"
      ],
      "text/plain": [
       "    user_id            timestamp          source  device   op_sys  test  \\\n",
       "3    685636  2015-05-07 07:26:01  direct_traffic  mobile      iOS     1   \n",
       "7    798371  2015-03-15 08:19:29        ads-bing  mobile  android     1   \n",
       "8    447194  2015-03-28 12:28:10    ads_facebook     web  windows     1   \n",
       "9    431639  2015-04-24 12:42:18    ads_facebook     web  windows     1   \n",
       "15   552048  2015-03-22 08:58:32        ads-bing     web  windows     1   \n",
       "\n",
       "    price  converted          city country    lat    long  \n",
       "3    59.0          0  Fayetteville     USA  35.07  -78.90  \n",
       "7    59.0          1   East Orange     USA  40.77  -74.21  \n",
       "8    59.0          0        Dayton     USA  39.78  -84.20  \n",
       "9    59.0          0      Richmond     USA  37.53  -77.47  \n",
       "15   59.0          0   Culver City     USA  34.01 -118.40  "
      ]
     },
     "execution_count": 114,
     "metadata": {},
     "output_type": "execute_result"
    }
   ],
   "source": [
    "#Compare test to not test\n",
    "#make a new dataframe with just test\n",
    "df_test = df[df.test == 1]\n",
    "df_test.head()"
   ]
  },
  {
   "cell_type": "code",
   "execution_count": 125,
   "metadata": {},
   "outputs": [
    {
     "name": "stdout",
     "output_type": "stream",
     "text": [
      "<class 'pandas.core.frame.DataFrame'>\n",
      "Int64Index: 114073 entries, 3 to 316799\n",
      "Data columns (total 12 columns):\n",
      "user_id      114073 non-null int64\n",
      "timestamp    114073 non-null object\n",
      "source       113952 non-null object\n",
      "device       114073 non-null object\n",
      "op_sys       106439 non-null object\n",
      "test         114073 non-null int64\n",
      "price        114073 non-null float64\n",
      "converted    114073 non-null int64\n",
      "city         99188 non-null object\n",
      "country      99188 non-null object\n",
      "lat          99188 non-null float64\n",
      "long         99188 non-null float64\n",
      "dtypes: float64(3), int64(3), object(6)\n",
      "memory usage: 11.3+ MB\n"
     ]
    },
    {
     "data": {
      "text/plain": [
       "114073"
      ]
     },
     "execution_count": 125,
     "metadata": {},
     "output_type": "execute_result"
    }
   ],
   "source": [
    "df_test.info()\n",
    "df_test.shape\n",
    "test_total=df_test.shape[0]\n",
    "test_total"
   ]
  },
  {
   "cell_type": "code",
   "execution_count": 128,
   "metadata": {},
   "outputs": [
    {
     "data": {
      "text/plain": [
       "112300"
      ]
     },
     "execution_count": 128,
     "metadata": {},
     "output_type": "execute_result"
    }
   ],
   "source": [
    "#how many were NOT converted of the test\n",
    "num_not_conv_test= df_test[df_test.converted== 0].shape[0]\n",
    "num_not_conv_test\n",
    "#112300 of total 114073 in test were converted\n",
    "#What is the %"
   ]
  },
  {
   "cell_type": "code",
   "execution_count": 129,
   "metadata": {},
   "outputs": [
    {
     "data": {
      "text/plain": [
       "98.44573211890632"
      ]
     },
     "execution_count": 129,
     "metadata": {},
     "output_type": "execute_result"
    }
   ],
   "source": [
    "#% NOT converted \n",
    "pct_not_conv_test=(num_not_conv_test/test_total)*100\n",
    "pct_not_conv_test"
   ]
  },
  {
   "cell_type": "code",
   "execution_count": 130,
   "metadata": {},
   "outputs": [
    {
     "data": {
      "text/plain": [
       "1773"
      ]
     },
     "execution_count": 130,
     "metadata": {},
     "output_type": "execute_result"
    }
   ],
   "source": [
    "# converted of test?\n",
    "num_conv_test= df_test[df_test.converted== 1].shape[0]\n",
    "num_conv_test\n"
   ]
  },
  {
   "cell_type": "code",
   "execution_count": 131,
   "metadata": {},
   "outputs": [
    {
     "data": {
      "text/plain": [
       "1.5542678810936856"
      ]
     },
     "execution_count": 131,
     "metadata": {},
     "output_type": "execute_result"
    }
   ],
   "source": [
    "#% conversion rate of test\n",
    "pct_conv_test=(num_conv_test/test_total)*100\n",
    "pct_conv_test"
   ]
  },
  {
   "cell_type": "code",
   "execution_count": 132,
   "metadata": {},
   "outputs": [
    {
     "data": {
      "text/plain": [
       "100.0"
      ]
     },
     "execution_count": 132,
     "metadata": {},
     "output_type": "execute_result"
    }
   ],
   "source": [
    "#check by adding together\n",
    "pct_conv_test+pct_not_conv_test"
   ]
  },
  {
   "cell_type": "code",
   "execution_count": null,
   "metadata": {},
   "outputs": [],
   "source": [
    "#now do the same for the entire non-test group"
   ]
  },
  {
   "cell_type": "code",
   "execution_count": 115,
   "metadata": {},
   "outputs": [
    {
     "data": {
      "text/html": [
       "<div>\n",
       "<style scoped>\n",
       "    .dataframe tbody tr th:only-of-type {\n",
       "        vertical-align: middle;\n",
       "    }\n",
       "\n",
       "    .dataframe tbody tr th {\n",
       "        vertical-align: top;\n",
       "    }\n",
       "\n",
       "    .dataframe thead th {\n",
       "        text-align: right;\n",
       "    }\n",
       "</style>\n",
       "<table border=\"1\" class=\"dataframe\">\n",
       "  <thead>\n",
       "    <tr style=\"text-align: right;\">\n",
       "      <th></th>\n",
       "      <th>user_id</th>\n",
       "      <th>timestamp</th>\n",
       "      <th>source</th>\n",
       "      <th>device</th>\n",
       "      <th>op_sys</th>\n",
       "      <th>test</th>\n",
       "      <th>price</th>\n",
       "      <th>converted</th>\n",
       "      <th>city</th>\n",
       "      <th>country</th>\n",
       "      <th>lat</th>\n",
       "      <th>long</th>\n",
       "    </tr>\n",
       "  </thead>\n",
       "  <tbody>\n",
       "    <tr>\n",
       "      <th>0</th>\n",
       "      <td>604839</td>\n",
       "      <td>2015-05-08 03:38:34</td>\n",
       "      <td>ads_facebook</td>\n",
       "      <td>mobile</td>\n",
       "      <td>iOS</td>\n",
       "      <td>0</td>\n",
       "      <td>39.0</td>\n",
       "      <td>0</td>\n",
       "      <td>Buffalo</td>\n",
       "      <td>USA</td>\n",
       "      <td>42.89</td>\n",
       "      <td>-78.86</td>\n",
       "    </tr>\n",
       "    <tr>\n",
       "      <th>1</th>\n",
       "      <td>624057</td>\n",
       "      <td>2015-05-10 21:08:46</td>\n",
       "      <td>seo-google</td>\n",
       "      <td>mobile</td>\n",
       "      <td>android</td>\n",
       "      <td>0</td>\n",
       "      <td>39.0</td>\n",
       "      <td>0</td>\n",
       "      <td>Lakeville</td>\n",
       "      <td>USA</td>\n",
       "      <td>44.68</td>\n",
       "      <td>-93.24</td>\n",
       "    </tr>\n",
       "    <tr>\n",
       "      <th>2</th>\n",
       "      <td>317970</td>\n",
       "      <td>2015-04-04 15:01:23</td>\n",
       "      <td>ads-bing</td>\n",
       "      <td>mobile</td>\n",
       "      <td>android</td>\n",
       "      <td>0</td>\n",
       "      <td>39.0</td>\n",
       "      <td>0</td>\n",
       "      <td>Parma</td>\n",
       "      <td>USA</td>\n",
       "      <td>41.38</td>\n",
       "      <td>-81.73</td>\n",
       "    </tr>\n",
       "    <tr>\n",
       "      <th>4</th>\n",
       "      <td>820854</td>\n",
       "      <td>2015-05-24 11:04:40</td>\n",
       "      <td>ads_facebook</td>\n",
       "      <td>web</td>\n",
       "      <td>mac</td>\n",
       "      <td>0</td>\n",
       "      <td>39.0</td>\n",
       "      <td>0</td>\n",
       "      <td>Fishers</td>\n",
       "      <td>USA</td>\n",
       "      <td>39.95</td>\n",
       "      <td>-86.02</td>\n",
       "    </tr>\n",
       "    <tr>\n",
       "      <th>5</th>\n",
       "      <td>169971</td>\n",
       "      <td>2015-04-13 12:07:08</td>\n",
       "      <td>ads-google</td>\n",
       "      <td>mobile</td>\n",
       "      <td>iOS</td>\n",
       "      <td>0</td>\n",
       "      <td>39.0</td>\n",
       "      <td>0</td>\n",
       "      <td>New York</td>\n",
       "      <td>USA</td>\n",
       "      <td>40.67</td>\n",
       "      <td>-73.94</td>\n",
       "    </tr>\n",
       "  </tbody>\n",
       "</table>\n",
       "</div>"
      ],
      "text/plain": [
       "   user_id            timestamp        source  device   op_sys  test  price  \\\n",
       "0   604839  2015-05-08 03:38:34  ads_facebook  mobile      iOS     0   39.0   \n",
       "1   624057  2015-05-10 21:08:46    seo-google  mobile  android     0   39.0   \n",
       "2   317970  2015-04-04 15:01:23      ads-bing  mobile  android     0   39.0   \n",
       "4   820854  2015-05-24 11:04:40  ads_facebook     web      mac     0   39.0   \n",
       "5   169971  2015-04-13 12:07:08    ads-google  mobile      iOS     0   39.0   \n",
       "\n",
       "   converted       city country    lat   long  \n",
       "0          0    Buffalo     USA  42.89 -78.86  \n",
       "1          0  Lakeville     USA  44.68 -93.24  \n",
       "2          0      Parma     USA  41.38 -81.73  \n",
       "4          0    Fishers     USA  39.95 -86.02  \n",
       "5          0   New York     USA  40.67 -73.94  "
      ]
     },
     "execution_count": 115,
     "metadata": {},
     "output_type": "execute_result"
    }
   ],
   "source": [
    "#make a new df with just non-test\n",
    "df_non_test = df[df.test == 0]\n",
    "df_non_test.head()\n"
   ]
  },
  {
   "cell_type": "code",
   "execution_count": 133,
   "metadata": {},
   "outputs": [
    {
     "name": "stdout",
     "output_type": "stream",
     "text": [
      "<class 'pandas.core.frame.DataFrame'>\n",
      "Int64Index: 202727 entries, 0 to 316798\n",
      "Data columns (total 12 columns):\n",
      "user_id      202727 non-null int64\n",
      "timestamp    202727 non-null object\n",
      "source       202536 non-null object\n",
      "device       202727 non-null object\n",
      "op_sys       190022 non-null object\n",
      "test         202727 non-null int64\n",
      "price        202727 non-null float64\n",
      "converted    202727 non-null int64\n",
      "city         176428 non-null object\n",
      "country      176428 non-null object\n",
      "lat          176428 non-null float64\n",
      "long         176428 non-null float64\n",
      "dtypes: float64(3), int64(3), object(6)\n",
      "memory usage: 20.1+ MB\n"
     ]
    },
    {
     "data": {
      "text/plain": [
       "202727"
      ]
     },
     "execution_count": 133,
     "metadata": {},
     "output_type": "execute_result"
    }
   ],
   "source": [
    "df_non_test.info()\n",
    "df_non_test.shape\n",
    "non_test_total=df_non_test.shape[0]\n",
    "non_test_total"
   ]
  },
  {
   "cell_type": "code",
   "execution_count": 134,
   "metadata": {},
   "outputs": [
    {
     "data": {
      "text/plain": [
       "198692"
      ]
     },
     "execution_count": 134,
     "metadata": {},
     "output_type": "execute_result"
    }
   ],
   "source": [
    "#how many were NOT converted of the non_test\n",
    "num_not_conv_non_test= df_non_test[df_non_test.converted== 0].shape[0]\n",
    "num_not_conv_non_test\n",
    "#112300 of total 114073 in test were converted\n",
    "#What is the %"
   ]
  },
  {
   "cell_type": "code",
   "execution_count": 135,
   "metadata": {},
   "outputs": [
    {
     "data": {
      "text/plain": [
       "98.00963857798912"
      ]
     },
     "execution_count": 135,
     "metadata": {},
     "output_type": "execute_result"
    }
   ],
   "source": [
    "#% NOT converted \n",
    "pct_not_conv_non_test=(num_not_conv_non_test/non_test_total)*100\n",
    "pct_not_conv_non_test"
   ]
  },
  {
   "cell_type": "code",
   "execution_count": 136,
   "metadata": {},
   "outputs": [
    {
     "data": {
      "text/plain": [
       "4035"
      ]
     },
     "execution_count": 136,
     "metadata": {},
     "output_type": "execute_result"
    }
   ],
   "source": [
    "# converted of non_test?\n",
    "num_conv_non_test= df_non_test[df_non_test.converted== 1].shape[0]\n",
    "num_conv_non_test"
   ]
  },
  {
   "cell_type": "code",
   "execution_count": 137,
   "metadata": {},
   "outputs": [
    {
     "data": {
      "text/plain": [
       "1.9903614220108816"
      ]
     },
     "execution_count": 137,
     "metadata": {},
     "output_type": "execute_result"
    }
   ],
   "source": [
    "#% conversion rate of test\n",
    "pct_conv_non_test=(num_conv_non_test/non_test_total)*100\n",
    "pct_conv_non_test"
   ]
  },
  {
   "cell_type": "code",
   "execution_count": 138,
   "metadata": {},
   "outputs": [
    {
     "data": {
      "text/plain": [
       "100.0"
      ]
     },
     "execution_count": 138,
     "metadata": {},
     "output_type": "execute_result"
    }
   ],
   "source": [
    "#check by adding together\n",
    "pct_conv_non_test+pct_not_conv_non_test"
   ]
  },
  {
   "cell_type": "code",
   "execution_count": null,
   "metadata": {},
   "outputs": [],
   "source": [
    "# conversion rate for test = 1.55%\n",
    "# conversion rate for non-test = 1.99%\n",
    "#but are there differences based on location? os? device? source? Let's make some plots to:\n",
    "#Figure out how to segment user data"
   ]
  },
  {
   "cell_type": "code",
   "execution_count": 141,
   "metadata": {},
   "outputs": [
    {
     "data": {
      "text/plain": [
       "<matplotlib.axes._subplots.AxesSubplot at 0x130f781d0>"
      ]
     },
     "execution_count": 141,
     "metadata": {},
     "output_type": "execute_result"
    },
    {
     "data": {
      "image/png": "[encoded data removed]",
      "text/plain": [
       "<Figure size 432x288 with 1 Axes>"
      ]
     },
     "metadata": {
      "needs_background": "light"
     },
     "output_type": "display_data"
    }
   ],
   "source": [
    "#All the histograms!\n",
    "\n",
    "import seaborn as sns\n",
    "import matplotlib.pyplot as plt\n",
    "% matplotlib inline\n",
    "\n",
    "plt.figure()\n",
    "sns.countplot(x=\"converted\", data=df_test)"
   ]
  },
  {
   "cell_type": "code",
   "execution_count": 142,
   "metadata": {},
   "outputs": [
    {
     "data": {
      "text/plain": [
       "<matplotlib.axes._subplots.AxesSubplot at 0x130f67d30>"
      ]
     },
     "execution_count": 142,
     "metadata": {},
     "output_type": "execute_result"
    },
    {
     "data": {
      "image/png": "[encoded data removed]",
      "text/plain": [
       "<Figure size 432x288 with 1 Axes>"
      ]
     },
     "metadata": {
      "needs_background": "light"
     },
     "output_type": "display_data"
    }
   ],
   "source": [
    "plt.figure()\n",
    "sns.countplot(x=\"converted\", data=df_non_test)"
   ]
  },
  {
   "cell_type": "code",
   "execution_count": null,
   "metadata": {},
   "outputs": [],
   "source": [
    "#get conversion rate by city in test and non test sets"
   ]
  },
  {
   "cell_type": "code",
   "execution_count": null,
   "metadata": {},
   "outputs": [],
   "source": [
    "#how many were NOT converted of the non_test\n",
    "num_not_conv_non_test= df_non_test[df_non_test.converted== 0].shape[0]\n",
    "num_not_conv_non_test\n",
    "#112300 of total 114073 in test were converted\n",
    "#What is the %"
   ]
  },
  {
   "cell_type": "code",
   "execution_count": 184,
   "metadata": {},
   "outputs": [],
   "source": [
    "#for cities in non-test\n",
    "def get_conv_rate(data):\n",
    "    city = []\n",
    "    rate= []\n",
    "    for i in data:\n",
    "        city= data['city']\n",
    "        for i in city:\n",
    "            num_conv_non_test= data[data.converted== 1].shape[0]\n",
    "            rate =(num_conv_non_test/non_test_total)*100\n",
    "            return city,rate\n",
    "#I dont think this will work"
   ]
  },
  {
   "cell_type": "code",
   "execution_count": 185,
   "metadata": {},
   "outputs": [
    {
     "data": {
      "text/plain": [
       "(1               Lakeville\n",
       " 2                   Parma\n",
       " 4                 Fishers\n",
       " 5                New York\n",
       " 6                     NaN\n",
       " 10    Bloomfield Township\n",
       " 11            Des Plaines\n",
       " 12                    NaN\n",
       " 13                Hampton\n",
       " Name: city, dtype: object, 0.0004932742061984837)"
      ]
     },
     "execution_count": 185,
     "metadata": {},
     "output_type": "execute_result"
    }
   ],
   "source": [
    "get_conv_rate(df_non_test.iloc[1:10,:])"
   ]
  },
  {
   "cell_type": "code",
   "execution_count": 166,
   "metadata": {},
   "outputs": [
    {
     "data": {
      "text/html": [
       "<div>\n",
       "<style scoped>\n",
       "    .dataframe tbody tr th:only-of-type {\n",
       "        vertical-align: middle;\n",
       "    }\n",
       "\n",
       "    .dataframe tbody tr th {\n",
       "        vertical-align: top;\n",
       "    }\n",
       "\n",
       "    .dataframe thead th {\n",
       "        text-align: right;\n",
       "    }\n",
       "</style>\n",
       "<table border=\"1\" class=\"dataframe\">\n",
       "  <thead>\n",
       "    <tr style=\"text-align: right;\">\n",
       "      <th></th>\n",
       "      <th>user_id</th>\n",
       "      <th>timestamp</th>\n",
       "      <th>source</th>\n",
       "      <th>device</th>\n",
       "      <th>op_sys</th>\n",
       "      <th>test</th>\n",
       "      <th>price</th>\n",
       "      <th>converted</th>\n",
       "      <th>city</th>\n",
       "      <th>country</th>\n",
       "      <th>lat</th>\n",
       "      <th>long</th>\n",
       "    </tr>\n",
       "  </thead>\n",
       "  <tbody>\n",
       "    <tr>\n",
       "      <th>1</th>\n",
       "      <td>624057</td>\n",
       "      <td>2015-05-10 21:08:46</td>\n",
       "      <td>seo-google</td>\n",
       "      <td>mobile</td>\n",
       "      <td>android</td>\n",
       "      <td>0</td>\n",
       "      <td>39.0</td>\n",
       "      <td>0</td>\n",
       "      <td>Lakeville</td>\n",
       "      <td>USA</td>\n",
       "      <td>44.68</td>\n",
       "      <td>-93.24</td>\n",
       "    </tr>\n",
       "    <tr>\n",
       "      <th>2</th>\n",
       "      <td>317970</td>\n",
       "      <td>2015-04-04 15:01:23</td>\n",
       "      <td>ads-bing</td>\n",
       "      <td>mobile</td>\n",
       "      <td>android</td>\n",
       "      <td>0</td>\n",
       "      <td>39.0</td>\n",
       "      <td>0</td>\n",
       "      <td>Parma</td>\n",
       "      <td>USA</td>\n",
       "      <td>41.38</td>\n",
       "      <td>-81.73</td>\n",
       "    </tr>\n",
       "    <tr>\n",
       "      <th>4</th>\n",
       "      <td>820854</td>\n",
       "      <td>2015-05-24 11:04:40</td>\n",
       "      <td>ads_facebook</td>\n",
       "      <td>web</td>\n",
       "      <td>mac</td>\n",
       "      <td>0</td>\n",
       "      <td>39.0</td>\n",
       "      <td>0</td>\n",
       "      <td>Fishers</td>\n",
       "      <td>USA</td>\n",
       "      <td>39.95</td>\n",
       "      <td>-86.02</td>\n",
       "    </tr>\n",
       "    <tr>\n",
       "      <th>5</th>\n",
       "      <td>169971</td>\n",
       "      <td>2015-04-13 12:07:08</td>\n",
       "      <td>ads-google</td>\n",
       "      <td>mobile</td>\n",
       "      <td>iOS</td>\n",
       "      <td>0</td>\n",
       "      <td>39.0</td>\n",
       "      <td>0</td>\n",
       "      <td>New York</td>\n",
       "      <td>USA</td>\n",
       "      <td>40.67</td>\n",
       "      <td>-73.94</td>\n",
       "    </tr>\n",
       "    <tr>\n",
       "      <th>6</th>\n",
       "      <td>600150</td>\n",
       "      <td>2015-03-04 14:45:44</td>\n",
       "      <td>seo_facebook</td>\n",
       "      <td>web</td>\n",
       "      <td>windows</td>\n",
       "      <td>0</td>\n",
       "      <td>39.0</td>\n",
       "      <td>0</td>\n",
       "      <td>NaN</td>\n",
       "      <td>NaN</td>\n",
       "      <td>NaN</td>\n",
       "      <td>NaN</td>\n",
       "    </tr>\n",
       "    <tr>\n",
       "      <th>10</th>\n",
       "      <td>590182</td>\n",
       "      <td>2015-04-17 13:30:04</td>\n",
       "      <td>ads-google</td>\n",
       "      <td>web</td>\n",
       "      <td>windows</td>\n",
       "      <td>0</td>\n",
       "      <td>39.0</td>\n",
       "      <td>0</td>\n",
       "      <td>Bloomfield Township</td>\n",
       "      <td>USA</td>\n",
       "      <td>42.58</td>\n",
       "      <td>-83.27</td>\n",
       "    </tr>\n",
       "    <tr>\n",
       "      <th>11</th>\n",
       "      <td>606479</td>\n",
       "      <td>2015-05-15 12:36:46</td>\n",
       "      <td>direct_traffic</td>\n",
       "      <td>web</td>\n",
       "      <td>mac</td>\n",
       "      <td>0</td>\n",
       "      <td>39.0</td>\n",
       "      <td>0</td>\n",
       "      <td>Des Plaines</td>\n",
       "      <td>USA</td>\n",
       "      <td>42.03</td>\n",
       "      <td>-87.90</td>\n",
       "    </tr>\n",
       "    <tr>\n",
       "      <th>12</th>\n",
       "      <td>425567</td>\n",
       "      <td>2015-04-24 10:09:04</td>\n",
       "      <td>ads_facebook</td>\n",
       "      <td>web</td>\n",
       "      <td>windows</td>\n",
       "      <td>0</td>\n",
       "      <td>39.0</td>\n",
       "      <td>0</td>\n",
       "      <td>NaN</td>\n",
       "      <td>NaN</td>\n",
       "      <td>NaN</td>\n",
       "      <td>NaN</td>\n",
       "    </tr>\n",
       "    <tr>\n",
       "      <th>13</th>\n",
       "      <td>460593</td>\n",
       "      <td>2015-03-21 09:43:51</td>\n",
       "      <td>friend_referral</td>\n",
       "      <td>mobile</td>\n",
       "      <td>iOS</td>\n",
       "      <td>0</td>\n",
       "      <td>39.0</td>\n",
       "      <td>1</td>\n",
       "      <td>Hampton</td>\n",
       "      <td>USA</td>\n",
       "      <td>37.05</td>\n",
       "      <td>-76.29</td>\n",
       "    </tr>\n",
       "  </tbody>\n",
       "</table>\n",
       "</div>"
      ],
      "text/plain": [
       "    user_id            timestamp           source  device   op_sys  test  \\\n",
       "1    624057  2015-05-10 21:08:46       seo-google  mobile  android     0   \n",
       "2    317970  2015-04-04 15:01:23         ads-bing  mobile  android     0   \n",
       "4    820854  2015-05-24 11:04:40     ads_facebook     web      mac     0   \n",
       "5    169971  2015-04-13 12:07:08       ads-google  mobile      iOS     0   \n",
       "6    600150  2015-03-04 14:45:44     seo_facebook     web  windows     0   \n",
       "10   590182  2015-04-17 13:30:04       ads-google     web  windows     0   \n",
       "11   606479  2015-05-15 12:36:46   direct_traffic     web      mac     0   \n",
       "12   425567  2015-04-24 10:09:04     ads_facebook     web  windows     0   \n",
       "13   460593  2015-03-21 09:43:51  friend_referral  mobile      iOS     0   \n",
       "\n",
       "    price  converted                 city country    lat   long  \n",
       "1    39.0          0            Lakeville     USA  44.68 -93.24  \n",
       "2    39.0          0                Parma     USA  41.38 -81.73  \n",
       "4    39.0          0              Fishers     USA  39.95 -86.02  \n",
       "5    39.0          0             New York     USA  40.67 -73.94  \n",
       "6    39.0          0                  NaN     NaN    NaN    NaN  \n",
       "10   39.0          0  Bloomfield Township     USA  42.58 -83.27  \n",
       "11   39.0          0          Des Plaines     USA  42.03 -87.90  \n",
       "12   39.0          0                  NaN     NaN    NaN    NaN  \n",
       "13   39.0          1              Hampton     USA  37.05 -76.29  "
      ]
     },
     "execution_count": 166,
     "metadata": {},
     "output_type": "execute_result"
    }
   ],
   "source": [
    "df_non_test.iloc[1:10,:]"
   ]
  },
  {
   "cell_type": "code",
   "execution_count": null,
   "metadata": {},
   "outputs": [],
   "source": [
    "# converted of non_test?\n",
    "num_conv_non_test= df_non_test[df_non_test.converted== 1].shape[0]\n",
    "num_conv_non_test\n",
    "\n",
    "#% conversion rate of test\n",
    "pct_conv_non_test=(num_conv_non_test/non_test_total)*100\n",
    "pct_conv_non_test"
   ]
  },
  {
   "cell_type": "code",
   "execution_count": null,
   "metadata": {},
   "outputs": [],
   "source": []
  },
  {
   "cell_type": "code",
   "execution_count": null,
   "metadata": {},
   "outputs": [],
   "source": []
  },
  {
   "cell_type": "code",
   "execution_count": null,
   "metadata": {},
   "outputs": [],
   "source": []
  },
  {
   "cell_type": "code",
   "execution_count": null,
   "metadata": {},
   "outputs": [],
   "source": []
  },
  {
   "cell_type": "code",
   "execution_count": null,
   "metadata": {},
   "outputs": [],
   "source": []
  },
  {
   "cell_type": "code",
   "execution_count": null,
   "metadata": {},
   "outputs": [],
   "source": []
  },
  {
   "cell_type": "code",
   "execution_count": null,
   "metadata": {},
   "outputs": [],
   "source": []
  },
  {
   "cell_type": "code",
   "execution_count": null,
   "metadata": {},
   "outputs": [],
   "source": []
  },
  {
   "cell_type": "code",
   "execution_count": null,
   "metadata": {},
   "outputs": [],
   "source": []
  },
  {
   "cell_type": "code",
   "execution_count": null,
   "metadata": {},
   "outputs": [],
   "source": []
  },
  {
   "cell_type": "code",
   "execution_count": null,
   "metadata": {},
   "outputs": [],
   "source": []
  },
  {
   "cell_type": "code",
   "execution_count": null,
   "metadata": {},
   "outputs": [],
   "source": []
  },
  {
   "cell_type": "code",
   "execution_count": null,
   "metadata": {},
   "outputs": [],
   "source": []
  },
  {
   "cell_type": "code",
   "execution_count": null,
   "metadata": {},
   "outputs": [],
   "source": []
  },
  {
   "cell_type": "code",
   "execution_count": null,
   "metadata": {},
   "outputs": [],
   "source": [
    "vars=['source', 'device', 'op_sys', 'test', 'price','converted', 'city', 'lat', 'long']"
   ]
  },
  {
   "cell_type": "code",
   "execution_count": 152,
   "metadata": {},
   "outputs": [
    {
     "name": "stdout",
     "output_type": "stream",
     "text": [
      "<class 'pandas.core.frame.DataFrame'>\n",
      "Int64Index: 316800 entries, 0 to 316799\n",
      "Data columns (total 12 columns):\n",
      "user_id      316800 non-null int64\n",
      "timestamp    316800 non-null object\n",
      "source       316488 non-null object\n",
      "device       316800 non-null object\n",
      "op_sys       296461 non-null object\n",
      "test         316800 non-null int64\n",
      "price        316800 non-null float64\n",
      "converted    316800 non-null int64\n",
      "city         275616 non-null object\n",
      "country      275616 non-null object\n",
      "lat          275616 non-null float64\n",
      "long         275616 non-null float64\n",
      "dtypes: float64(3), int64(3), object(6)\n",
      "memory usage: 41.4+ MB\n"
     ]
    }
   ],
   "source": [
    "df.info()"
   ]
  },
  {
   "cell_type": "code",
   "execution_count": 156,
   "metadata": {},
   "outputs": [],
   "source": [
    "df['city_code']=df.city.astype(\"category\").cat.codes"
   ]
  },
  {
   "cell_type": "code",
   "execution_count": 157,
   "metadata": {},
   "outputs": [
    {
     "data": {
      "text/html": [
       "<div>\n",
       "<style scoped>\n",
       "    .dataframe tbody tr th:only-of-type {\n",
       "        vertical-align: middle;\n",
       "    }\n",
       "\n",
       "    .dataframe tbody tr th {\n",
       "        vertical-align: top;\n",
       "    }\n",
       "\n",
       "    .dataframe thead th {\n",
       "        text-align: right;\n",
       "    }\n",
       "</style>\n",
       "<table border=\"1\" class=\"dataframe\">\n",
       "  <thead>\n",
       "    <tr style=\"text-align: right;\">\n",
       "      <th></th>\n",
       "      <th>user_id</th>\n",
       "      <th>timestamp</th>\n",
       "      <th>source</th>\n",
       "      <th>device</th>\n",
       "      <th>op_sys</th>\n",
       "      <th>test</th>\n",
       "      <th>price</th>\n",
       "      <th>converted</th>\n",
       "      <th>city</th>\n",
       "      <th>country</th>\n",
       "      <th>lat</th>\n",
       "      <th>long</th>\n",
       "      <th>city_code</th>\n",
       "    </tr>\n",
       "  </thead>\n",
       "  <tbody>\n",
       "    <tr>\n",
       "      <th>0</th>\n",
       "      <td>604839</td>\n",
       "      <td>2015-05-08 03:38:34</td>\n",
       "      <td>ads_facebook</td>\n",
       "      <td>mobile</td>\n",
       "      <td>iOS</td>\n",
       "      <td>0</td>\n",
       "      <td>39.0</td>\n",
       "      <td>0</td>\n",
       "      <td>Buffalo</td>\n",
       "      <td>USA</td>\n",
       "      <td>42.89</td>\n",
       "      <td>-78.86</td>\n",
       "      <td>109</td>\n",
       "    </tr>\n",
       "    <tr>\n",
       "      <th>1</th>\n",
       "      <td>624057</td>\n",
       "      <td>2015-05-10 21:08:46</td>\n",
       "      <td>seo-google</td>\n",
       "      <td>mobile</td>\n",
       "      <td>android</td>\n",
       "      <td>0</td>\n",
       "      <td>39.0</td>\n",
       "      <td>0</td>\n",
       "      <td>Lakeville</td>\n",
       "      <td>USA</td>\n",
       "      <td>44.68</td>\n",
       "      <td>-93.24</td>\n",
       "      <td>433</td>\n",
       "    </tr>\n",
       "    <tr>\n",
       "      <th>2</th>\n",
       "      <td>317970</td>\n",
       "      <td>2015-04-04 15:01:23</td>\n",
       "      <td>ads-bing</td>\n",
       "      <td>mobile</td>\n",
       "      <td>android</td>\n",
       "      <td>0</td>\n",
       "      <td>39.0</td>\n",
       "      <td>0</td>\n",
       "      <td>Parma</td>\n",
       "      <td>USA</td>\n",
       "      <td>41.38</td>\n",
       "      <td>-81.73</td>\n",
       "      <td>612</td>\n",
       "    </tr>\n",
       "    <tr>\n",
       "      <th>3</th>\n",
       "      <td>685636</td>\n",
       "      <td>2015-05-07 07:26:01</td>\n",
       "      <td>direct_traffic</td>\n",
       "      <td>mobile</td>\n",
       "      <td>iOS</td>\n",
       "      <td>1</td>\n",
       "      <td>59.0</td>\n",
       "      <td>0</td>\n",
       "      <td>Fayetteville</td>\n",
       "      <td>USA</td>\n",
       "      <td>35.07</td>\n",
       "      <td>-78.90</td>\n",
       "      <td>278</td>\n",
       "    </tr>\n",
       "    <tr>\n",
       "      <th>4</th>\n",
       "      <td>820854</td>\n",
       "      <td>2015-05-24 11:04:40</td>\n",
       "      <td>ads_facebook</td>\n",
       "      <td>web</td>\n",
       "      <td>mac</td>\n",
       "      <td>0</td>\n",
       "      <td>39.0</td>\n",
       "      <td>0</td>\n",
       "      <td>Fishers</td>\n",
       "      <td>USA</td>\n",
       "      <td>39.95</td>\n",
       "      <td>-86.02</td>\n",
       "      <td>281</td>\n",
       "    </tr>\n",
       "  </tbody>\n",
       "</table>\n",
       "</div>"
      ],
      "text/plain": [
       "   user_id            timestamp          source  device   op_sys  test  price  \\\n",
       "0   604839  2015-05-08 03:38:34    ads_facebook  mobile      iOS     0   39.0   \n",
       "1   624057  2015-05-10 21:08:46      seo-google  mobile  android     0   39.0   \n",
       "2   317970  2015-04-04 15:01:23        ads-bing  mobile  android     0   39.0   \n",
       "3   685636  2015-05-07 07:26:01  direct_traffic  mobile      iOS     1   59.0   \n",
       "4   820854  2015-05-24 11:04:40    ads_facebook     web      mac     0   39.0   \n",
       "\n",
       "   converted          city country    lat   long  city_code  \n",
       "0          0       Buffalo     USA  42.89 -78.86        109  \n",
       "1          0     Lakeville     USA  44.68 -93.24        433  \n",
       "2          0         Parma     USA  41.38 -81.73        612  \n",
       "3          0  Fayetteville     USA  35.07 -78.90        278  \n",
       "4          0       Fishers     USA  39.95 -86.02        281  "
      ]
     },
     "execution_count": 157,
     "metadata": {},
     "output_type": "execute_result"
    }
   ],
   "source": [
    "df.head()"
   ]
  },
  {
   "cell_type": "code",
   "execution_count": 158,
   "metadata": {},
   "outputs": [
    {
     "ename": "LinAlgError",
     "evalue": "singular matrix",
     "output_type": "error",
     "traceback": [
      "\u001b[0;31m---------------------------------------------------------------------------\u001b[0m",
      "\u001b[0;31mLinAlgError\u001b[0m                               Traceback (most recent call last)",
      "\u001b[0;32m<ipython-input-158-77ee94eeb691>\u001b[0m in \u001b[0;36m<module>\u001b[0;34m()\u001b[0m\n\u001b[1;32m      3\u001b[0m \u001b[0mplt\u001b[0m\u001b[0;34m.\u001b[0m\u001b[0mfigure\u001b[0m\u001b[0;34m(\u001b[0m\u001b[0;34m)\u001b[0m\u001b[0;34m\u001b[0m\u001b[0m\n\u001b[1;32m      4\u001b[0m \u001b[0;34m\u001b[0m\u001b[0m\n\u001b[0;32m----> 5\u001b[0;31m \u001b[0msns\u001b[0m\u001b[0;34m.\u001b[0m\u001b[0mpairplot\u001b[0m\u001b[0;34m(\u001b[0m\u001b[0mdf\u001b[0m\u001b[0;34m,\u001b[0m \u001b[0mvars\u001b[0m\u001b[0;34m=\u001b[0m\u001b[0;34m[\u001b[0m\u001b[0;34m'test'\u001b[0m\u001b[0;34m,\u001b[0m\u001b[0;34m'city_code'\u001b[0m\u001b[0;34m,\u001b[0m \u001b[0;34m'price'\u001b[0m\u001b[0;34m,\u001b[0m\u001b[0;34m'converted'\u001b[0m\u001b[0;34m]\u001b[0m\u001b[0;34m,\u001b[0m \u001b[0mhue\u001b[0m\u001b[0;34m=\u001b[0m\u001b[0;34m\"converted\"\u001b[0m\u001b[0;34m,\u001b[0m \u001b[0mpalette\u001b[0m\u001b[0;34m=\u001b[0m\u001b[0;34m'coolwarm'\u001b[0m\u001b[0;34m)\u001b[0m\u001b[0;34m\u001b[0m\u001b[0m\n\u001b[0m\u001b[1;32m      6\u001b[0m \u001b[0;34m\u001b[0m\u001b[0m\n\u001b[1;32m      7\u001b[0m \u001b[0;31m#must have a numeric datatype, so let's code everything\u001b[0m\u001b[0;34m\u001b[0m\u001b[0;34m\u001b[0m\u001b[0m\n",
      "\u001b[0;32m~/anaconda3/envs/insight/lib/python3.5/site-packages/seaborn/axisgrid.py\u001b[0m in \u001b[0;36mpairplot\u001b[0;34m(data, hue, hue_order, palette, vars, x_vars, y_vars, kind, diag_kind, markers, height, aspect, dropna, plot_kws, diag_kws, grid_kws, size)\u001b[0m\n\u001b[1;32m   2109\u001b[0m             \u001b[0mdiag_kws\u001b[0m\u001b[0;34m.\u001b[0m\u001b[0msetdefault\u001b[0m\u001b[0;34m(\u001b[0m\u001b[0;34m\"shade\"\u001b[0m\u001b[0;34m,\u001b[0m \u001b[0;32mTrue\u001b[0m\u001b[0;34m)\u001b[0m\u001b[0;34m\u001b[0m\u001b[0m\n\u001b[1;32m   2110\u001b[0m             \u001b[0mdiag_kws\u001b[0m\u001b[0;34m[\u001b[0m\u001b[0;34m\"legend\"\u001b[0m\u001b[0;34m]\u001b[0m \u001b[0;34m=\u001b[0m \u001b[0;32mFalse\u001b[0m\u001b[0;34m\u001b[0m\u001b[0m\n\u001b[0;32m-> 2111\u001b[0;31m             \u001b[0mgrid\u001b[0m\u001b[0;34m.\u001b[0m\u001b[0mmap_diag\u001b[0m\u001b[0;34m(\u001b[0m\u001b[0mkdeplot\u001b[0m\u001b[0;34m,\u001b[0m \u001b[0;34m**\u001b[0m\u001b[0mdiag_kws\u001b[0m\u001b[0;34m)\u001b[0m\u001b[0;34m\u001b[0m\u001b[0m\n\u001b[0m\u001b[1;32m   2112\u001b[0m \u001b[0;34m\u001b[0m\u001b[0m\n\u001b[1;32m   2113\u001b[0m     \u001b[0;31m# Maybe plot on the off-diagonals\u001b[0m\u001b[0;34m\u001b[0m\u001b[0;34m\u001b[0m\u001b[0m\n",
      "\u001b[0;32m~/anaconda3/envs/insight/lib/python3.5/site-packages/seaborn/axisgrid.py\u001b[0m in \u001b[0;36mmap_diag\u001b[0;34m(self, func, **kwargs)\u001b[0m\n\u001b[1;32m   1397\u001b[0m                     \u001b[0mcolor\u001b[0m \u001b[0;34m=\u001b[0m \u001b[0mfixed_color\u001b[0m\u001b[0;34m\u001b[0m\u001b[0m\n\u001b[1;32m   1398\u001b[0m \u001b[0;34m\u001b[0m\u001b[0m\n\u001b[0;32m-> 1399\u001b[0;31m                 \u001b[0mfunc\u001b[0m\u001b[0;34m(\u001b[0m\u001b[0mdata_k\u001b[0m\u001b[0;34m,\u001b[0m \u001b[0mlabel\u001b[0m\u001b[0;34m=\u001b[0m\u001b[0mlabel_k\u001b[0m\u001b[0;34m,\u001b[0m \u001b[0mcolor\u001b[0m\u001b[0;34m=\u001b[0m\u001b[0mcolor\u001b[0m\u001b[0;34m,\u001b[0m \u001b[0;34m**\u001b[0m\u001b[0mkwargs\u001b[0m\u001b[0;34m)\u001b[0m\u001b[0;34m\u001b[0m\u001b[0m\n\u001b[0m\u001b[1;32m   1400\u001b[0m \u001b[0;34m\u001b[0m\u001b[0m\n\u001b[1;32m   1401\u001b[0m             \u001b[0mself\u001b[0m\u001b[0;34m.\u001b[0m\u001b[0m_clean_axis\u001b[0m\u001b[0;34m(\u001b[0m\u001b[0max\u001b[0m\u001b[0;34m)\u001b[0m\u001b[0;34m\u001b[0m\u001b[0m\n",
      "\u001b[0;32m~/anaconda3/envs/insight/lib/python3.5/site-packages/seaborn/distributions.py\u001b[0m in \u001b[0;36mkdeplot\u001b[0;34m(data, data2, shade, vertical, kernel, bw, gridsize, cut, clip, legend, cumulative, shade_lowest, cbar, cbar_ax, cbar_kws, ax, **kwargs)\u001b[0m\n\u001b[1;32m    689\u001b[0m         ax = _univariate_kdeplot(data, shade, vertical, kernel, bw,\n\u001b[1;32m    690\u001b[0m                                  \u001b[0mgridsize\u001b[0m\u001b[0;34m,\u001b[0m \u001b[0mcut\u001b[0m\u001b[0;34m,\u001b[0m \u001b[0mclip\u001b[0m\u001b[0;34m,\u001b[0m \u001b[0mlegend\u001b[0m\u001b[0;34m,\u001b[0m \u001b[0max\u001b[0m\u001b[0;34m,\u001b[0m\u001b[0;34m\u001b[0m\u001b[0m\n\u001b[0;32m--> 691\u001b[0;31m                                  cumulative=cumulative, **kwargs)\n\u001b[0m\u001b[1;32m    692\u001b[0m \u001b[0;34m\u001b[0m\u001b[0m\n\u001b[1;32m    693\u001b[0m     \u001b[0;32mreturn\u001b[0m \u001b[0max\u001b[0m\u001b[0;34m\u001b[0m\u001b[0m\n",
      "\u001b[0;32m~/anaconda3/envs/insight/lib/python3.5/site-packages/seaborn/distributions.py\u001b[0m in \u001b[0;36m_univariate_kdeplot\u001b[0;34m(data, shade, vertical, kernel, bw, gridsize, cut, clip, legend, ax, cumulative, **kwargs)\u001b[0m\n\u001b[1;32m    292\u001b[0m                               \u001b[0;34m\"only implemented in statsmodels.\"\u001b[0m\u001b[0;34m\u001b[0m\u001b[0m\n\u001b[1;32m    293\u001b[0m                               \"Please install statsmodels.\")\n\u001b[0;32m--> 294\u001b[0;31m         \u001b[0mx\u001b[0m\u001b[0;34m,\u001b[0m \u001b[0my\u001b[0m \u001b[0;34m=\u001b[0m \u001b[0m_scipy_univariate_kde\u001b[0m\u001b[0;34m(\u001b[0m\u001b[0mdata\u001b[0m\u001b[0;34m,\u001b[0m \u001b[0mbw\u001b[0m\u001b[0;34m,\u001b[0m \u001b[0mgridsize\u001b[0m\u001b[0;34m,\u001b[0m \u001b[0mcut\u001b[0m\u001b[0;34m,\u001b[0m \u001b[0mclip\u001b[0m\u001b[0;34m)\u001b[0m\u001b[0;34m\u001b[0m\u001b[0m\n\u001b[0m\u001b[1;32m    295\u001b[0m \u001b[0;34m\u001b[0m\u001b[0m\n\u001b[1;32m    296\u001b[0m     \u001b[0;31m# Make sure the density is nonnegative\u001b[0m\u001b[0;34m\u001b[0m\u001b[0;34m\u001b[0m\u001b[0m\n",
      "\u001b[0;32m~/anaconda3/envs/insight/lib/python3.5/site-packages/seaborn/distributions.py\u001b[0m in \u001b[0;36m_scipy_univariate_kde\u001b[0;34m(data, bw, gridsize, cut, clip)\u001b[0m\n\u001b[1;32m    364\u001b[0m     \u001b[0;34m\"\"\"Compute a univariate kernel density estimate using scipy.\"\"\"\u001b[0m\u001b[0;34m\u001b[0m\u001b[0m\n\u001b[1;32m    365\u001b[0m     \u001b[0;32mtry\u001b[0m\u001b[0;34m:\u001b[0m\u001b[0;34m\u001b[0m\u001b[0m\n\u001b[0;32m--> 366\u001b[0;31m         \u001b[0mkde\u001b[0m \u001b[0;34m=\u001b[0m \u001b[0mstats\u001b[0m\u001b[0;34m.\u001b[0m\u001b[0mgaussian_kde\u001b[0m\u001b[0;34m(\u001b[0m\u001b[0mdata\u001b[0m\u001b[0;34m,\u001b[0m \u001b[0mbw_method\u001b[0m\u001b[0;34m=\u001b[0m\u001b[0mbw\u001b[0m\u001b[0;34m)\u001b[0m\u001b[0;34m\u001b[0m\u001b[0m\n\u001b[0m\u001b[1;32m    367\u001b[0m     \u001b[0;32mexcept\u001b[0m \u001b[0mTypeError\u001b[0m\u001b[0;34m:\u001b[0m\u001b[0;34m\u001b[0m\u001b[0m\n\u001b[1;32m    368\u001b[0m         \u001b[0mkde\u001b[0m \u001b[0;34m=\u001b[0m \u001b[0mstats\u001b[0m\u001b[0;34m.\u001b[0m\u001b[0mgaussian_kde\u001b[0m\u001b[0;34m(\u001b[0m\u001b[0mdata\u001b[0m\u001b[0;34m)\u001b[0m\u001b[0;34m\u001b[0m\u001b[0m\n",
      "\u001b[0;32m~/anaconda3/envs/insight/lib/python3.5/site-packages/scipy/stats/kde.py\u001b[0m in \u001b[0;36m__init__\u001b[0;34m(self, dataset, bw_method)\u001b[0m\n\u001b[1;32m    170\u001b[0m \u001b[0;34m\u001b[0m\u001b[0m\n\u001b[1;32m    171\u001b[0m         \u001b[0mself\u001b[0m\u001b[0;34m.\u001b[0m\u001b[0md\u001b[0m\u001b[0;34m,\u001b[0m \u001b[0mself\u001b[0m\u001b[0;34m.\u001b[0m\u001b[0mn\u001b[0m \u001b[0;34m=\u001b[0m \u001b[0mself\u001b[0m\u001b[0;34m.\u001b[0m\u001b[0mdataset\u001b[0m\u001b[0;34m.\u001b[0m\u001b[0mshape\u001b[0m\u001b[0;34m\u001b[0m\u001b[0m\n\u001b[0;32m--> 172\u001b[0;31m         \u001b[0mself\u001b[0m\u001b[0;34m.\u001b[0m\u001b[0mset_bandwidth\u001b[0m\u001b[0;34m(\u001b[0m\u001b[0mbw_method\u001b[0m\u001b[0;34m=\u001b[0m\u001b[0mbw_method\u001b[0m\u001b[0;34m)\u001b[0m\u001b[0;34m\u001b[0m\u001b[0m\n\u001b[0m\u001b[1;32m    173\u001b[0m \u001b[0;34m\u001b[0m\u001b[0m\n\u001b[1;32m    174\u001b[0m     \u001b[0;32mdef\u001b[0m \u001b[0mevaluate\u001b[0m\u001b[0;34m(\u001b[0m\u001b[0mself\u001b[0m\u001b[0;34m,\u001b[0m \u001b[0mpoints\u001b[0m\u001b[0;34m)\u001b[0m\u001b[0;34m:\u001b[0m\u001b[0;34m\u001b[0m\u001b[0m\n",
      "\u001b[0;32m~/anaconda3/envs/insight/lib/python3.5/site-packages/scipy/stats/kde.py\u001b[0m in \u001b[0;36mset_bandwidth\u001b[0;34m(self, bw_method)\u001b[0m\n\u001b[1;32m    497\u001b[0m             \u001b[0;32mraise\u001b[0m \u001b[0mValueError\u001b[0m\u001b[0;34m(\u001b[0m\u001b[0mmsg\u001b[0m\u001b[0;34m)\u001b[0m\u001b[0;34m\u001b[0m\u001b[0m\n\u001b[1;32m    498\u001b[0m \u001b[0;34m\u001b[0m\u001b[0m\n\u001b[0;32m--> 499\u001b[0;31m         \u001b[0mself\u001b[0m\u001b[0;34m.\u001b[0m\u001b[0m_compute_covariance\u001b[0m\u001b[0;34m(\u001b[0m\u001b[0;34m)\u001b[0m\u001b[0;34m\u001b[0m\u001b[0m\n\u001b[0m\u001b[1;32m    500\u001b[0m \u001b[0;34m\u001b[0m\u001b[0m\n\u001b[1;32m    501\u001b[0m     \u001b[0;32mdef\u001b[0m \u001b[0m_compute_covariance\u001b[0m\u001b[0;34m(\u001b[0m\u001b[0mself\u001b[0m\u001b[0;34m)\u001b[0m\u001b[0;34m:\u001b[0m\u001b[0;34m\u001b[0m\u001b[0m\n",
      "\u001b[0;32m~/anaconda3/envs/insight/lib/python3.5/site-packages/scipy/stats/kde.py\u001b[0m in \u001b[0;36m_compute_covariance\u001b[0;34m(self)\u001b[0m\n\u001b[1;32m    508\u001b[0m             self._data_covariance = atleast_2d(np.cov(self.dataset, rowvar=1,\n\u001b[1;32m    509\u001b[0m                                                bias=False))\n\u001b[0;32m--> 510\u001b[0;31m             \u001b[0mself\u001b[0m\u001b[0;34m.\u001b[0m\u001b[0m_data_inv_cov\u001b[0m \u001b[0;34m=\u001b[0m \u001b[0mlinalg\u001b[0m\u001b[0;34m.\u001b[0m\u001b[0minv\u001b[0m\u001b[0;34m(\u001b[0m\u001b[0mself\u001b[0m\u001b[0;34m.\u001b[0m\u001b[0m_data_covariance\u001b[0m\u001b[0;34m)\u001b[0m\u001b[0;34m\u001b[0m\u001b[0m\n\u001b[0m\u001b[1;32m    511\u001b[0m \u001b[0;34m\u001b[0m\u001b[0m\n\u001b[1;32m    512\u001b[0m         \u001b[0mself\u001b[0m\u001b[0;34m.\u001b[0m\u001b[0mcovariance\u001b[0m \u001b[0;34m=\u001b[0m \u001b[0mself\u001b[0m\u001b[0;34m.\u001b[0m\u001b[0m_data_covariance\u001b[0m \u001b[0;34m*\u001b[0m \u001b[0mself\u001b[0m\u001b[0;34m.\u001b[0m\u001b[0mfactor\u001b[0m\u001b[0;34m**\u001b[0m\u001b[0;36m2\u001b[0m\u001b[0;34m\u001b[0m\u001b[0m\n",
      "\u001b[0;32m~/anaconda3/envs/insight/lib/python3.5/site-packages/scipy/linalg/basic.py\u001b[0m in \u001b[0;36minv\u001b[0;34m(a, overwrite_a, check_finite)\u001b[0m\n\u001b[1;32m    973\u001b[0m         \u001b[0minv_a\u001b[0m\u001b[0;34m,\u001b[0m \u001b[0minfo\u001b[0m \u001b[0;34m=\u001b[0m \u001b[0mgetri\u001b[0m\u001b[0;34m(\u001b[0m\u001b[0mlu\u001b[0m\u001b[0;34m,\u001b[0m \u001b[0mpiv\u001b[0m\u001b[0;34m,\u001b[0m \u001b[0mlwork\u001b[0m\u001b[0;34m=\u001b[0m\u001b[0mlwork\u001b[0m\u001b[0;34m,\u001b[0m \u001b[0moverwrite_lu\u001b[0m\u001b[0;34m=\u001b[0m\u001b[0;36m1\u001b[0m\u001b[0;34m)\u001b[0m\u001b[0;34m\u001b[0m\u001b[0m\n\u001b[1;32m    974\u001b[0m     \u001b[0;32mif\u001b[0m \u001b[0minfo\u001b[0m \u001b[0;34m>\u001b[0m \u001b[0;36m0\u001b[0m\u001b[0;34m:\u001b[0m\u001b[0;34m\u001b[0m\u001b[0m\n\u001b[0;32m--> 975\u001b[0;31m         \u001b[0;32mraise\u001b[0m \u001b[0mLinAlgError\u001b[0m\u001b[0;34m(\u001b[0m\u001b[0;34m\"singular matrix\"\u001b[0m\u001b[0;34m)\u001b[0m\u001b[0;34m\u001b[0m\u001b[0m\n\u001b[0m\u001b[1;32m    976\u001b[0m     \u001b[0;32mif\u001b[0m \u001b[0minfo\u001b[0m \u001b[0;34m<\u001b[0m \u001b[0;36m0\u001b[0m\u001b[0;34m:\u001b[0m\u001b[0;34m\u001b[0m\u001b[0m\n\u001b[1;32m    977\u001b[0m         raise ValueError('illegal value in %d-th argument of internal '\n",
      "\u001b[0;31mLinAlgError\u001b[0m: singular matrix"
     ]
    },
    {
     "data": {
      "text/plain": [
       "<Figure size 432x288 with 0 Axes>"
      ]
     },
     "metadata": {},
     "output_type": "display_data"
    },
    {
     "data": {
      "image/png": "[encoded data removed]",
      "text/plain": [
       "<Figure size 720x720 with 20 Axes>"
      ]
     },
     "metadata": {},
     "output_type": "display_data"
    }
   ],
   "source": [
    "#Not working\n",
    "import matplotlib.pyplot as plt\n",
    "#not including timestamp yet\n",
    "plt.figure()\n",
    "\n",
    "sns.pairplot(df, vars=['test','city_code', 'price','converted'], hue=\"converted\", palette='coolwarm')\n",
    "\n",
    "#must have a numeric datatype, so let's code everything"
   ]
  },
  {
   "cell_type": "code",
   "execution_count": 163,
   "metadata": {},
   "outputs": [
    {
     "data": {
      "text/plain": [
       "<matplotlib.axes._subplots.AxesSubplot at 0x1a731c9c50>"
      ]
     },
     "execution_count": 163,
     "metadata": {},
     "output_type": "execute_result"
    },
    {
     "data": {
      "image/png": "[encoded data removed]",
      "text/plain": [
       "<Figure size 432x288 with 1 Axes>"
      ]
     },
     "metadata": {},
     "output_type": "display_data"
    }
   ],
   "source": [
    "sns.countplot(y=\"converted\", hue=\"city_code\", data=df, palette=\"Greens_d\",\n",
    "              )"
   ]
  },
  {
   "cell_type": "code",
   "execution_count": null,
   "metadata": {},
   "outputs": [],
   "source": [
    "#if want to order variables\n",
    "order=df.violationdescription.value_counts().iloc[:20].index"
   ]
  },
  {
   "cell_type": "code",
   "execution_count": 160,
   "metadata": {},
   "outputs": [
    {
     "data": {
      "text/plain": [
       "<matplotlib.axes._subplots.AxesSubplot at 0x1a6b758390>"
      ]
     },
     "execution_count": 160,
     "metadata": {},
     "output_type": "execute_result"
    },
    {
     "data": {
      "image/png": "[encoded data removed]",
      "text/plain": [
       "<Figure size 432x288 with 1 Axes>"
      ]
     },
     "metadata": {},
     "output_type": "display_data"
    }
   ],
   "source": [
    "#histogram of the city dist\n",
    "plt.figure()\n",
    "sns.countplot(x=\"city_code\", data=df)"
   ]
  }
 ],
 "metadata": {
  "kernelspec": {
   "display_name": "Python 3",
   "language": "python",
   "name": "python3"
  },
  "language_info": {
   "codemirror_mode": {
    "name": "ipython",
    "version": 3
   },
   "file_extension": ".py",
   "mimetype": "text/x-python",
   "name": "python",
   "nbconvert_exporter": "python",
   "pygments_lexer": "ipython3",
   "version": "3.5.5"
  }
 },
 "nbformat": 4,
 "nbformat_minor": 2
}
