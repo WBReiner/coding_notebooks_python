{
 "cells": [
  {
   "cell_type": "markdown",
   "metadata": {},
   "source": [
    "# Cleaning & Wrangling"
   ]
  },
  {
   "cell_type": "markdown",
   "metadata": {},
   "source": [
    "## SECTION I. Read in the data"
   ]
  },
  {
   "cell_type": "code",
   "execution_count": null,
   "metadata": {},
   "outputs": [],
   "source": [
    "# Import dependencies\n",
    "import pandas as pd\n",
    "import numpy as np\n",
    "import seaborn as sns\n",
    "import matplotlib.pyplot as plt\n",
    "\n",
    "# Set display options\n",
    "%matplotlib inline\n",
    "pd.options.display.max_columns = 150"
   ]
  },
  {
   "cell_type": "code",
   "execution_count": null,
   "metadata": {},
   "outputs": [],
   "source": [
    "# If a document:\n",
    "df = pd.read_csv(\"document.csv\", #specific things youd like to include based on the data in csv)\n",
    "\n",
    "#naming columns for a dataframe\n",
    "colnames= ['column1', 'column2', 'etc']\n",
    "\n",
    "# If a url\n",
    "url = 'https://entire_url'\n",
    "test_data = pd.read_csv(url)\n",
    "\n",
    "df = pd.read_csv(url #can also specify arguments in here like colnames)\n",
    "\n",
    "display(df)"
   ]
  },
  {
   "cell_type": "code",
   "execution_count": null,
   "metadata": {},
   "outputs": [],
   "source": [
    "# Count the number of rows in your data\n",
    "number_of_samples = df.count()\n",
    "\n",
    "# View it\n",
    "print(\"Number of samples:\", str(number_of_samples))"
   ]
  },
  {
   "cell_type": "markdown",
   "metadata": {},
   "source": [
    "## Section II: Loops/file manipulation\n",
    "\n",
    "This section from: https://github.com/lkahre/practice_notebooks/blob/master/file_manip_looping.ipynb\n",
    "\n",
    "      Pandas documentation: https://pandas.pydata.org/pandas-docs/stable/\n",
    "\n",
    "      NumPy documentation: https://docs.scipy.org/doc/numpy/"
   ]
  },
  {
   "cell_type": "markdown",
   "metadata": {},
   "source": [
    "Pandas"
   ]
  },
  {
   "cell_type": "code",
   "execution_count": null,
   "metadata": {},
   "outputs": [],
   "source": [
    "#Pandas is easy. It's possible to use other methods, but hard with mixed datatypes.\n",
    "import pandas as pd\n",
    "\n",
    "filename = 'filename.csv'\n",
    "data = pd.read_csv(filename)  # Can specify separators\n",
    "display(data)"
   ]
  },
  {
   "cell_type": "markdown",
   "metadata": {},
   "source": [
    "NumPy"
   ]
  },
  {
   "cell_type": "code",
   "execution_count": null,
   "metadata": {},
   "outputs": [],
   "source": [
    "import numpy as np\n",
    "#Gives you a structured array\n",
    "filename = 'filename.csv'\n",
    "NumPy = np.genfromtxt(filename, delimiter=',', names=True, dtype=None)  \n",
    "    #names=True tells us there's a header\n",
    "    #dtype=None let's you work with mixed datatypes\n",
    "\n",
    "#Check\n",
    "display(NumPy[:50])"
   ]
  },
  {
   "cell_type": "markdown",
   "metadata": {},
   "source": [
    "Basic Python Lists"
   ]
  },
  {
   "cell_type": "code",
   "execution_count": null,
   "metadata": {},
   "outputs": [],
   "source": [
    "#Basic Python file\n",
    "import csv\n",
    "\n",
    "filename = 'filename.csv'\n",
    "f = open(filename)\n",
    "csv_f = csv.reader(f)\n",
    "\n",
    "data_basic = []  #Generate list to dump data into\n",
    "\n",
    "#Check file input\n",
    "for row in csv_f:\n",
    "    data_basic.append(row)\n",
    "f.close()\n",
    "print(data_basic[:5])"
   ]
  },
  {
   "cell_type": "markdown",
   "metadata": {},
   "source": [
    "Looping"
   ]
  },
  {
   "cell_type": "markdown",
   "metadata": {},
   "source": [
    "For Loops\n",
    "\n",
    "Can loop using index numbers or patterns.\n",
    "Python supports single-line looping- the most common use is in \"lambda\" (anonymous) functions."
   ]
  },
  {
   "cell_type": "code",
   "execution_count": null,
   "metadata": {},
   "outputs": [],
   "source": [
    "#Pandas:\n",
    "#Using iterrows:\n",
    "for index, row in data_pandas.iterrows():\n",
    "    #do things- gonna tell it to do nothing for now, but print statement in comment\n",
    "    #print (row['state'], row['jail'])\n",
    "    pass\n",
    "\n",
    "#Using itertuples\n",
    "for row in data_pandas.itertuples(index=True, name='Pandas'):\n",
    "    #do things- gonna tell it to do nothing for now, but print statement in comment\n",
    "    #print (getattr(row, 'state'), getattr(row, 'jail'))\n",
    "    pass\n",
    "\n",
    "#Single-line apply changes with lambda function\n",
    "def replace_blanks(x):\n",
    "    import math\n",
    "    if math.isnan(x):\n",
    "        return 0\n",
    "    else:\n",
    "        pass\n",
    "\n",
    "data_pandas['column'] = data_pandas.apply(lambda row: replace_blanks(row['jail']), axis=1)"
   ]
  },
  {
   "cell_type": "code",
   "execution_count": null,
   "metadata": {},
   "outputs": [],
   "source": [
    "#Numpy:\n",
    "num_rows = data_numpy.shape[0]\n",
    "for i in range(num_rows):    #Loop through using index numbers and range()\n",
    "    #do things- gonna tell it to do nothing for now, but print statement in comment\n",
    "    #print (data_numpy[i])    #if trying to print specific columns, access via \n",
    "                                #data_numpy['colname'][i]\n",
    "    pass\n",
    "#This is set up for the structured array to access row-by-row. Can iterate through columns\n",
    "#in a basic 2d array via array[colnum, rownum]."
   ]
  },
  {
   "cell_type": "code",
   "execution_count": null,
   "metadata": {},
   "outputs": [],
   "source": [
    "#Basic lists:\n",
    "for row in data_basic:       #Loop through using pattern loops\n",
    "    #do things- gonna tell it to do nothing for now, but print statement in comment\n",
    "    #print (row)\n",
    "    pass"
   ]
  },
  {
   "cell_type": "markdown",
   "metadata": {},
   "source": [
    "While Loops"
   ]
  },
  {
   "cell_type": "code",
   "execution_count": null,
   "metadata": {},
   "outputs": [],
   "source": [
    "#Should be similar with all data types- careful, it's possible to build an infinite loop.\n",
    "#Slower than for-loops. Use only if you can't reframe it into a for-loop without break \n",
    "#statement shenanigans. The following example is a bad example for syntax reference only- \n",
    "#this iteration should be a for-loop.\n",
    "\n",
    "end = False\n",
    "n = len(data_basic)\n",
    "i = 0\n",
    "\n",
    "while end != True:\n",
    "    #do things- gonna tell it to do nothing for now, but print statement in comment\n",
    "    #print(data_basic[i])\n",
    "    i += 1\n",
    "    if i == n:\n",
    "        end = True\n",
    "    else:\n",
    "        end = False"
   ]
  },
  {
   "cell_type": "markdown",
   "metadata": {},
   "source": [
    "Loop Control\n",
    "\n",
    "- Break statements terminate loop that contains it. If in nested structure, will only terminiate innermost loop. - Continue statements skip remaining loop commands then proceed to the next iteration. - Pass statements do nothing. Can be used when syntax requires a statement, but program requires no action."
   ]
  },
  {
   "cell_type": "code",
   "execution_count": null,
   "metadata": {},
   "outputs": [],
   "source": [
    "for row in data_basic:\n",
    "    value = row[3]\n",
    "    if len(value) == 0:  #If value does not exist in that column for current row, end loop\n",
    "        break\n",
    "    else:\n",
    "        print(value)"
   ]
  },
  {
   "cell_type": "code",
   "execution_count": null,
   "metadata": {},
   "outputs": [],
   "source": [
    "for row in data_basic:\n",
    "    value = row[3]\n",
    "    if len(value) == 0:  #If value does not exist in that column for current row, skip to next iteration\n",
    "        continue\n",
    "    else:\n",
    "        print(value)"
   ]
  },
  {
   "cell_type": "code",
   "execution_count": null,
   "metadata": {},
   "outputs": [],
   "source": [
    "totrows = 0\n",
    "fullrows = 0\n",
    "\n",
    "for row in data_basic:\n",
    "    value = row[3]\n",
    "    if len(value) == 0:  #If value does not exist in that column for current row, do nothing.\n",
    "        pass\n",
    "    else:\n",
    "        fullrows += 1\n",
    "    totrows += 1\n",
    "print(\"Number of rows:\", str(totrows))\n",
    "print(\"Full rows:\", str(fullrows))"
   ]
  },
  {
   "cell_type": "markdown",
   "metadata": {},
   "source": [
    "File Output"
   ]
  },
  {
   "cell_type": "code",
   "execution_count": null,
   "metadata": {},
   "outputs": [],
   "source": [
    "#First, with pandas:\n",
    "data_pandas.to_csv('resave_felon_disenfranchisement_pandas.csv')\n",
    "\n",
    "#NumPy:\n",
    "\n",
    "#np.tofile('resave_felon_disenfranchisement_numpy.csv', data_numpy, sep=',')\n",
    "data_numpy.tofile('resave_felon_disenfranchisement.csv', sep=',')\n",
    "\n",
    "#Now basic list:\n",
    "\n",
    "with open('resave_felon_disenfranchisement_basic.csv', 'w+') as myfile:\n",
    "    wr = csv.writer(myfile, delimiter=',')\n",
    "    wr.writerows(data_basic)"
   ]
  },
  {
   "cell_type": "markdown",
   "metadata": {},
   "source": [
    "## Section III: Check out the data"
   ]
  },
  {
   "cell_type": "code",
   "execution_count": null,
   "metadata": {},
   "outputs": [],
   "source": [
    "df.shape #number of rows X # columns"
   ]
  },
  {
   "cell_type": "code",
   "execution_count": null,
   "metadata": {},
   "outputs": [],
   "source": [
    "df.info() #all the info (col names, dtypes, row #, missing values) \n",
    "# remember that nulls may still be present but just not detectable as such by Pandas (e.g. a \"?\")"
   ]
  },
  {
   "cell_type": "code",
   "execution_count": null,
   "metadata": {},
   "outputs": [],
   "source": [
    "df.head(10) #first ten rows\n",
    "df.tail(100) #last 100 rows"
   ]
  },
  {
   "cell_type": "code",
   "execution_count": null,
   "metadata": {},
   "outputs": [],
   "source": [
    "df.describe #descriptive stats for the df"
   ]
  },
  {
   "cell_type": "code",
   "execution_count": null,
   "metadata": {},
   "outputs": [],
   "source": [
    "df.columns #what are the column names"
   ]
  },
  {
   "cell_type": "code",
   "execution_count": null,
   "metadata": {},
   "outputs": [],
   "source": [
    "df.count() #count for each column"
   ]
  },
  {
   "cell_type": "code",
   "execution_count": null,
   "metadata": {},
   "outputs": [],
   "source": [
    "df.column_name.max()\n",
    "df.column_name.min()\n",
    "df.column_name.mean()\n",
    "df.column_name.median()\n",
    "df.column_name.mode()\n",
    "df.column_name.sum()"
   ]
  },
  {
   "cell_type": "code",
   "execution_count": null,
   "metadata": {},
   "outputs": [],
   "source": [
    "# print every unique thing using python's built-in set\n",
    "print(set(df['column']))"
   ]
  },
  {
   "cell_type": "markdown",
   "metadata": {},
   "source": [
    "## Section IV: Series, DataFrames and Indices\n",
    "\n",
    "Pandas Series: Basically it is one column of the DataFrame. (An indexed, one-dimensional array with a dtype (int, float, str, etc.).\n",
    "\n",
    "Conversely, a Pandas DF is a collection of Series with a common index (or joined on the index if you join series to a df or join multiple series to create a df). Each series can have a diff. dtype.\n"
   ]
  },
  {
   "cell_type": "code",
   "execution_count": null,
   "metadata": {},
   "outputs": [],
   "source": [
    "# checking out a series from a df\n",
    "df['column_name'].head(5)\n",
    "\n",
    "#checking out more than one from a df\n",
    "df[['colName', 'colName']].head(10)"
   ]
  },
  {
   "cell_type": "code",
   "execution_count": null,
   "metadata": {},
   "outputs": [],
   "source": [
    "#converting index to list to see first 10 elements\n",
    "list(df.index)[:10]"
   ]
  },
  {
   "cell_type": "code",
   "execution_count": null,
   "metadata": {},
   "outputs": [],
   "source": [
    "#look at rows 3-9\n",
    "df[3:10]"
   ]
  },
  {
   "cell_type": "code",
   "execution_count": null,
   "metadata": {},
   "outputs": [],
   "source": [
    "# look at specific columns and rows using their numerical (indexed) location (iloc)\n",
    "# dataframe.iloc[start_row_index:not_inclusive_end_row_index, start_col_index:not_inclusive_end_col_index,]\n",
    "df.iloc[3:5, 2:4]"
   ]
  },
  {
   "cell_type": "code",
   "execution_count": null,
   "metadata": {},
   "outputs": [],
   "source": [
    "# BUT WAIT This one is odd for python, the end of the range IS inclusive in this case (when you use .loc)\n",
    "#mixing it up with row numbers and column names wooooooiiiieee\n",
    "df.loc[3:5, ['colName','colName2']]"
   ]
  },
  {
   "cell_type": "markdown",
   "metadata": {},
   "source": [
    "## Section V: Filtering to view specific data"
   ]
  },
  {
   "cell_type": "markdown",
   "metadata": {},
   "source": [
    "Filtering is done by passing a Boolean Series to the DataFrame. \n",
    "This Boolean Series can be generated by applying operations to other Series in the DataFrame and can be combined in many ways.\n",
    "\n",
    "AND is given by &\n",
    "OR is given by |\n",
    "NOT is given by ~\n",
    "\n",
    "Parentheses are important --these operators take precedence. \n",
    "A > 1 & B > 2 will be parsed as A > (1 & B) > 2 , this will fail because 1 & B doesn't mean anything alone."
   ]
  },
  {
   "cell_type": "code",
   "execution_count": null,
   "metadata": {},
   "outputs": [],
   "source": [
    "(df.year > 2014 ).head() #returns a Boolean for every value of rows in the head for which the year column is > 2014"
   ]
  },
  {
   "cell_type": "code",
   "execution_count": null,
   "metadata": {},
   "outputs": [],
   "source": [
    "#But, if you do this:\n",
    "\n",
    "df[df.year >= 2014].head(15)\n",
    "\n",
    "#You will get a df (with all the columns) with the first 15 rows of the dataframe for which the year column\n",
    "is >= 2014"
   ]
  },
  {
   "cell_type": "code",
   "execution_count": null,
   "metadata": {},
   "outputs": [],
   "source": [
    "#combining filters\n",
    "\n",
    "df[(df.year >= 2014) & (df.species == 'Gorilla gorilla') & ~(df.subspecies == 'berengei')].head(10)\n",
    "# Give me the first ten rows in the df where the year is >= 2014 AND the species is Gorilla gorilla \n",
    "# AND the subspecies is NOT berengei \n",
    "# G.g. berengei are Mountain Gorillas :)"
   ]
  },
  {
   "cell_type": "code",
   "execution_count": null,
   "metadata": {},
   "outputs": [],
   "source": [
    "#change values using a filter\n",
    "#AHH 2024 should have been 2014, here is how I fix this\n",
    "myfilter = (df.year == 2024)\n",
    "df.loc[myfilter, 'year'] = 2014 "
   ]
  },
  {
   "cell_type": "markdown",
   "metadata": {},
   "source": [
    "## Section VI: Drop it like it's hot"
   ]
  },
  {
   "cell_type": "code",
   "execution_count": null,
   "metadata": {},
   "outputs": [],
   "source": [
    "df.drop(['year'], axis=1).head(5) #show me first 5 rows with year column dropped\n",
    "df=df.drop(['year'], axis=1) #drop the entire year column from the whole df\n"
   ]
  },
  {
   "cell_type": "code",
   "execution_count": null,
   "metadata": {},
   "outputs": [],
   "source": [
    "# Drop duplicates in a column\n",
    "df[['year']].drop_duplicates().head(10) # show me first 10 unique years in the df"
   ]
  },
  {
   "cell_type": "code",
   "execution_count": null,
   "metadata": {},
   "outputs": [],
   "source": [
    "# Drop all rows with Na values\n",
    "df.dropna(axis=0)"
   ]
  },
  {
   "cell_type": "markdown",
   "metadata": {},
   "source": [
    "## Section VII: Sort_values"
   ]
  },
  {
   "cell_type": "code",
   "execution_count": null,
   "metadata": {},
   "outputs": [],
   "source": [
    "# sort by these columns first by the column values then by the rows (the [1,0])\n",
    "df.sort_values(by = ['year', 'species'], ascending = [1, 0]).head()"
   ]
  },
  {
   "cell_type": "markdown",
   "metadata": {},
   "source": [
    "## Section VIII: Fill NA - Missing values"
   ]
  },
  {
   "cell_type": "code",
   "execution_count": null,
   "metadata": {},
   "outputs": [],
   "source": [
    "df.fillna(-1).head() #fill missing values with -1"
   ]
  },
  {
   "cell_type": "code",
   "execution_count": null,
   "metadata": {},
   "outputs": [],
   "source": [
    "# are there any missing values? returns boolean\n",
    "df.isna()\n",
    "df.isnull()"
   ]
  },
  {
   "cell_type": "markdown",
   "metadata": {},
   "source": [
    "## Section IX: Grouping & Merging"
   ]
  },
  {
   "cell_type": "code",
   "execution_count": null,
   "metadata": {},
   "outputs": [],
   "source": [
    "# Pandas aggregation with only one function:\n",
    "df_by_color = df_nn.groupby(['color'])['yc_g', 'yr_g', 'rc_g', 'red'].mean()\n",
    "                                                \n",
    "# to convert hierarchical index to normal dataframe\n",
    "df_by_color = df_by_color.reset_index()"
   ]
  },
  {
   "cell_type": "code",
   "execution_count": null,
   "metadata": {},
   "outputs": [],
   "source": [
    "# Merging data frames\n",
    "combined_df = pd.merge(df1, df2, on='column_with_matching_data_in_both_dfs', how='outer')\n",
    "\n",
    "# outer keeps all rows\n",
    "# and will fill in missing data with NaNs, inner will only have rows of df1 and the matches that were in df2 \n",
    "# (anything in df2 that isn't in the column you matched on in df1 will not be included)\n",
    "\n",
    "# good to check and make sure you did this correctly, e.g. if you want ALL the samples, make sure the new (merged) \n",
    "# df has the same count as the df (df1 or df2) with the larger # of rows\n",
    "\n",
    "#check\n",
    "num_combined = combined_df.count()\n",
    "print('Number of combined:', str(num_combined))"
   ]
  },
  {
   "cell_type": "markdown",
   "metadata": {},
   "source": [
    "## Section X: Other DataFrame Manipulations"
   ]
  },
  {
   "cell_type": "code",
   "execution_count": null,
   "metadata": {},
   "outputs": [],
   "source": [
    "# make a column with new values based on values in another column \n",
    "\n",
    "def label_col (row):\n",
    "   if row['up_to_date'] == 1 :\n",
    "      return 0\n",
    "   if row['up_to_date'] == 0 :\n",
    "      return 1\n",
    "   \n",
    "df.apply (lambda row: label_col (row),axis=1)\n",
    "#if you like the results then run it again and create a new col in the df with the results:\n",
    "df['new_col'] = df.apply (lambda row: label_col (row),axis=1)"
   ]
  },
  {
   "cell_type": "code",
   "execution_count": null,
   "metadata": {},
   "outputs": [],
   "source": [
    "# One-Hot Encoding for continuous variables because they cannot be sorted and you need this for many ML algorithms"
   ]
  },
  {
   "cell_type": "code",
   "execution_count": null,
   "metadata": {},
   "outputs": [],
   "source": [
    "#change to str if not already\n",
    "df['continuous_var_col'] = df['continuous_var_col'].astype(str)\n",
    "df_wide = pd.get_dummies(df[['cont_var_col_1','cont_var_col_2', 'cont_var_col_n']])\n",
    "df = pd.merge(df, df_wide, left_index=True, right_index=True)\n",
    "df_wide.head()"
   ]
  },
  {
   "cell_type": "markdown",
   "metadata": {},
   "source": [
    "DateTime"
   ]
  },
  {
   "cell_type": "code",
   "execution_count": 9,
   "metadata": {
    "colab": {},
    "colab_type": "code",
    "id": "ej8zKbr6DSPS"
   },
   "outputs": [],
   "source": [
    "#Change data types to datetime formats\n",
    "#import datetime package\n",
    "import datetime as dt\n",
    "from datetime import date\n",
    "from datetime import time\n",
    "from datetime import datetime\n"
   ]
  },
  {
   "cell_type": "code",
   "execution_count": 10,
   "metadata": {
    "colab": {},
    "colab_type": "code",
    "id": "itqNn5mRDSP3"
   },
   "outputs": [],
   "source": [
    "#adding padded zeros to 3-digit times\n",
    "#first convert to a str\n",
    "df['issueTime'] = df['issueTime'].astype(str)\n",
    "\n",
    "df['issueTime'] = df['issueTime'].apply(lambda x: x.zfill(4))"
   ]
  },
  {
   "cell_type": "code",
   "execution_count": 11,
   "metadata": {
    "colab": {},
    "colab_type": "code",
    "id": "eq7TFGDvDSQD",
    "outputId": "a0fe20a2-3105-4552-b9e0-03f0700f3c51"
   },
   "outputs": [
    {
     "data": {
      "text/html": [
       "<div>\n",
       "<style scoped>\n",
       "    .dataframe tbody tr th:only-of-type {\n",
       "        vertical-align: middle;\n",
       "    }\n",
       "\n",
       "    .dataframe tbody tr th {\n",
       "        vertical-align: top;\n",
       "    }\n",
       "\n",
       "    .dataframe thead th {\n",
       "        text-align: right;\n",
       "    }\n",
       "</style>\n",
       "<table border=\"1\" class=\"dataframe\">\n",
       "  <thead>\n",
       "    <tr style=\"text-align: right;\">\n",
       "      <th></th>\n",
       "      <th>Ticket number</th>\n",
       "      <th>Issue Date</th>\n",
       "      <th>Issue time</th>\n",
       "      <th>Marked Time</th>\n",
       "      <th>Make</th>\n",
       "      <th>Location</th>\n",
       "      <th>Route</th>\n",
       "      <th>Agency</th>\n",
       "      <th>Violation code</th>\n",
       "      <th>Violation Description</th>\n",
       "      <th>Fine amount</th>\n",
       "      <th>Latitude</th>\n",
       "      <th>Longitude</th>\n",
       "      <th>issueTime</th>\n",
       "    </tr>\n",
       "  </thead>\n",
       "  <tbody>\n",
       "    <tr>\n",
       "      <th>0</th>\n",
       "      <td>1103341116</td>\n",
       "      <td>2015-12-21T00:00:00</td>\n",
       "      <td>1251.0</td>\n",
       "      <td>NaN</td>\n",
       "      <td>HOND</td>\n",
       "      <td>13147 WELBY WAY</td>\n",
       "      <td>01521</td>\n",
       "      <td>1.0</td>\n",
       "      <td>4000A1</td>\n",
       "      <td>NO EVIDENCE OF REG</td>\n",
       "      <td>50.0</td>\n",
       "      <td>99999.0</td>\n",
       "      <td>99999.0</td>\n",
       "      <td>1251</td>\n",
       "    </tr>\n",
       "    <tr>\n",
       "      <th>1</th>\n",
       "      <td>1103700150</td>\n",
       "      <td>2015-12-21T00:00:00</td>\n",
       "      <td>1435.0</td>\n",
       "      <td>NaN</td>\n",
       "      <td>GMC</td>\n",
       "      <td>525 S MAIN ST</td>\n",
       "      <td>1C51</td>\n",
       "      <td>1.0</td>\n",
       "      <td>4000A1</td>\n",
       "      <td>NO EVIDENCE OF REG</td>\n",
       "      <td>50.0</td>\n",
       "      <td>99999.0</td>\n",
       "      <td>99999.0</td>\n",
       "      <td>1435</td>\n",
       "    </tr>\n",
       "    <tr>\n",
       "      <th>2</th>\n",
       "      <td>1104803000</td>\n",
       "      <td>2015-12-21T00:00:00</td>\n",
       "      <td>2055.0</td>\n",
       "      <td>NaN</td>\n",
       "      <td>NISS</td>\n",
       "      <td>200 WORLD WAY</td>\n",
       "      <td>2R2</td>\n",
       "      <td>2.0</td>\n",
       "      <td>8939</td>\n",
       "      <td>WHITE CURB</td>\n",
       "      <td>58.0</td>\n",
       "      <td>6439997.9</td>\n",
       "      <td>1802686.4</td>\n",
       "      <td>2055</td>\n",
       "    </tr>\n",
       "    <tr>\n",
       "      <th>3</th>\n",
       "      <td>1104820732</td>\n",
       "      <td>2015-12-26T00:00:00</td>\n",
       "      <td>1515.0</td>\n",
       "      <td>NaN</td>\n",
       "      <td>ACUR</td>\n",
       "      <td>100 WORLD WAY</td>\n",
       "      <td>2F11</td>\n",
       "      <td>2.0</td>\n",
       "      <td>000</td>\n",
       "      <td>17104h</td>\n",
       "      <td>NaN</td>\n",
       "      <td>6440041.1</td>\n",
       "      <td>1802686.2</td>\n",
       "      <td>1515</td>\n",
       "    </tr>\n",
       "    <tr>\n",
       "      <th>4</th>\n",
       "      <td>1105461453</td>\n",
       "      <td>2015-09-15T00:00:00</td>\n",
       "      <td>115.0</td>\n",
       "      <td>NaN</td>\n",
       "      <td>CHEV</td>\n",
       "      <td>GEORGIA ST/OLYMPIC</td>\n",
       "      <td>1FB70</td>\n",
       "      <td>1.0</td>\n",
       "      <td>8069A</td>\n",
       "      <td>NO STOPPING/STANDING</td>\n",
       "      <td>93.0</td>\n",
       "      <td>99999.0</td>\n",
       "      <td>99999.0</td>\n",
       "      <td>0115</td>\n",
       "    </tr>\n",
       "  </tbody>\n",
       "</table>\n",
       "</div>"
      ],
      "text/plain": [
       "  Ticket number           Issue Date  Issue time  Marked Time  Make  \\\n",
       "0    1103341116  2015-12-21T00:00:00      1251.0          NaN  HOND   \n",
       "1    1103700150  2015-12-21T00:00:00      1435.0          NaN   GMC   \n",
       "2    1104803000  2015-12-21T00:00:00      2055.0          NaN  NISS   \n",
       "3    1104820732  2015-12-26T00:00:00      1515.0          NaN  ACUR   \n",
       "4    1105461453  2015-09-15T00:00:00       115.0          NaN  CHEV   \n",
       "\n",
       "             Location  Route  Agency Violation code Violation Description  \\\n",
       "0     13147 WELBY WAY  01521     1.0         4000A1    NO EVIDENCE OF REG   \n",
       "1       525 S MAIN ST   1C51     1.0         4000A1    NO EVIDENCE OF REG   \n",
       "2       200 WORLD WAY    2R2     2.0           8939            WHITE CURB   \n",
       "3       100 WORLD WAY   2F11     2.0            000                17104h   \n",
       "4  GEORGIA ST/OLYMPIC  1FB70     1.0          8069A  NO STOPPING/STANDING   \n",
       "\n",
       "   Fine amount   Latitude  Longitude issueTime  \n",
       "0         50.0    99999.0    99999.0      1251  \n",
       "1         50.0    99999.0    99999.0      1435  \n",
       "2         58.0  6439997.9  1802686.4      2055  \n",
       "3          NaN  6440041.1  1802686.2      1515  \n",
       "4         93.0    99999.0    99999.0      0115  "
      ]
     },
     "execution_count": 11,
     "metadata": {},
     "output_type": "execute_result"
    }
   ],
   "source": [
    "df.head()"
   ]
  },
  {
   "cell_type": "code",
   "execution_count": 12,
   "metadata": {},
   "outputs": [],
   "source": [
    "#delete everything but the date from the issue date and put in a new column\n",
    "\n",
    "df['IssueDateNew'] = df['Issue Date'].apply(lambda x: x.replace('T00:00:00', ''))"
   ]
  },
  {
   "cell_type": "code",
   "execution_count": 19,
   "metadata": {},
   "outputs": [],
   "source": [
    "#combine issue date and issue time\n",
    "# name is dt_issued\n",
    "#first make sure it will work by printing : print(df.IssueDateNew + ' ' + df.issueTime )"
   ]
  },
  {
   "cell_type": "code",
   "execution_count": 15,
   "metadata": {},
   "outputs": [],
   "source": [
    "df['datetime_issued'] = (df['IssueDateNew'] + ' ' + df['issueTime'])"
   ]
  },
  {
   "cell_type": "code",
   "execution_count": 16,
   "metadata": {},
   "outputs": [
    {
     "data": {
      "text/plain": [
       "0    2015-12-21 1251\n",
       "1    2015-12-21 1435\n",
       "2    2015-12-21 2055\n",
       "3    2015-12-26 1515\n",
       "4    2015-09-15 0115\n",
       "Name: datetime_issued, dtype: object"
      ]
     },
     "execution_count": 16,
     "metadata": {},
     "output_type": "execute_result"
    }
   ],
   "source": [
    "df.datetime_issued.head()\n"
   ]
  },
  {
   "cell_type": "code",
   "execution_count": 17,
   "metadata": {
    "colab": {},
    "colab_type": "code",
    "id": "65FBJ_LADSQZ"
   },
   "outputs": [],
   "source": [
    "#Convert to date time format\n",
    "df['datetime_issued']=pd.to_datetime(df['datetime_issued'], format='%Y-%m-%d %H%M')"
   ]
  },
  {
   "cell_type": "code",
   "execution_count": 19,
   "metadata": {},
   "outputs": [],
   "source": [
    "# convert IssueDateNew to a date\n",
    "df['IssueDateNew '] = pd.to_datetime(df['IssueDateNew'])"
   ]
  },
  {
   "cell_type": "code",
   "execution_count": 20,
   "metadata": {},
   "outputs": [],
   "source": [
    "df['issueTime']=pd.to_datetime(df['issueTime'], format='%H%M').dt.time"
   ]
  },
  {
   "cell_type": "code",
   "execution_count": 23,
   "metadata": {
    "colab": {},
    "colab_type": "code",
    "id": "A2jHYYT_DSRT",
    "outputId": "c81e858d-b628-4be2-a8ee-c75a6cf7e76b"
   },
   "outputs": [
    {
     "data": {
      "text/plain": [
       "Ticket number                    object\n",
       "Issue Date                       object\n",
       "Issue time                      float64\n",
       "Marked Time                     float64\n",
       "Make                             object\n",
       "Location                         object\n",
       "Route                            object\n",
       "Agency                          float64\n",
       "Violation code                   object\n",
       "Violation Description            object\n",
       "Fine amount                     float64\n",
       "Latitude                        float64\n",
       "Longitude                       float64\n",
       "issueTime                        object\n",
       "IssueDateNew                     object\n",
       "datetime_issued          datetime64[ns]\n",
       "IssueDateNew             datetime64[ns]\n",
       "dtype: object"
      ]
     },
     "execution_count": 23,
     "metadata": {},
     "output_type": "execute_result"
    }
   ],
   "source": [
    "df.dtypes"
   ]
  },
  {
   "cell_type": "code",
   "execution_count": 24,
   "metadata": {
    "colab": {},
    "colab_type": "code",
    "id": "RuBCa3BxDSRr",
    "outputId": "c8d27479-49ab-4372-a845-95e65aa2e113"
   },
   "outputs": [
    {
     "name": "stdout",
     "output_type": "stream",
     "text": [
      "51\n"
     ]
    }
   ],
   "source": [
    "#to check and make sure conversion worked\n",
    "print(df['issueTime'][0].minute)    #should print just the minute\n",
    "#print(df['Issue time'][0].hour)    #should print just the hour"
   ]
  },
  {
   "cell_type": "code",
   "execution_count": 25,
   "metadata": {
    "colab": {},
    "colab_type": "code",
    "id": "ZzHfnse5DSTk"
   },
   "outputs": [],
   "source": [
    "#take year from the Issue Date column and make it into a new separate column\n",
    "df['issueYear'] = pd.DatetimeIndex(df['Issue Date']).year"
   ]
  },
  {
   "cell_type": "code",
   "execution_count": 24,
   "metadata": {
    "colab": {},
    "colab_type": "code",
    "id": "RuBCa3BxDSRr",
    "outputId": "c8d27479-49ab-4372-a845-95e65aa2e113"
   },
   "outputs": [
    {
     "name": "stdout",
     "output_type": "stream",
     "text": [
      "51\n"
     ]
    }
   ],
   "source": [
    "#to check and make sure conversion worked\n",
    "print(df['issueTime'][0].minute)    #should print just the minute\n",
    "#print(df['Issue time'][0].hour)    #should print just the hour"
   ]
  },
  {
   "cell_type": "code",
   "execution_count": 25,
   "metadata": {
    "colab": {},
    "colab_type": "code",
    "id": "ZzHfnse5DSTk"
   },
   "outputs": [],
   "source": [
    "#take year from the Issue Date column and make it into a new separate column\n",
    "df['issueYear'] = pd.DatetimeIndex(df['Issue Date']).year"
   ]
  },
  {
   "cell_type": "code",
   "execution_count": 27,
   "metadata": {
    "colab": {},
    "colab_type": "code",
    "id": "Sqq9HbiaDSUl"
   },
   "outputs": [],
   "source": [
    "# make a new column with the day of the week the ticket was issued\n",
    "df['weekday'] = pd.DatetimeIndex(df['Issue Date']).dayofweek"
   ]
  },
  {
   "cell_type": "code",
   "execution_count": 28,
   "metadata": {
    "colab": {},
    "colab_type": "code",
    "id": "7c1TmksbDSUv"
   },
   "outputs": [],
   "source": [
    "df['month'] = pd.DatetimeIndex(df['Issue Date']).month"
   ]
  },
  {
   "cell_type": "code",
   "execution_count": 30,
   "metadata": {},
   "outputs": [
    {
     "name": "stdout",
     "output_type": "stream",
     "text": [
      "51\n"
     ]
    }
   ],
   "source": [
    "#go through one by one to VERIFY which columns to drop and keep and mark them below\n",
    "#print(df['Issue Date'][0].day)    #should print just the day\n",
    "#print(df['Issue time'][0].hour)    #should print just the hour\n",
    "#print(df['issueTime'][0].minute)    #should print just the minute\n",
    "#print(df['IssueDateNew'][0].day)    #should print just the day\n",
    "#print(df['dt_issued'][0].minute)    #should print just the minute\n",
    "print(df['datetime_issued'][0].minute)    #should print just the minute\n"
   ]
  },
  {
   "cell_type": "code",
   "execution_count": 47,
   "metadata": {},
   "outputs": [],
   "source": [
    "####### Issue Date                       object #DROP\n",
    "####### Issue time                       object #DROP\n",
    "####### IssueDateNew                     object #DROP\n",
    "####### dt_issued                        object #DROP\n"
   ]
  },
  {
   "cell_type": "code",
   "execution_count": 31,
   "metadata": {},
   "outputs": [],
   "source": [
    "\n",
    "#fix the column names\n",
    "df.columns = df.columns.str.lower()\n",
    "df.columns = df.columns.str.replace(' ','')\n"
   ]
  },
  {
   "cell_type": "code",
   "execution_count": 51,
   "metadata": {},
   "outputs": [],
   "source": [
    "columns = ['issuedate', 'issuedatenew']\n",
    "df = df.drop(columns, axis=1)\n",
    "#df.drop(columntodrop, axis=1)\n",
    "#columntodrop = df.iloc[:,14]"
   ]
  },
  {
   "cell_type": "code",
   "execution_count": 56,
   "metadata": {},
   "outputs": [
    {
     "data": {
      "text/plain": [
       "0"
      ]
     },
     "execution_count": 56,
     "metadata": {},
     "output_type": "execute_result"
    }
   ],
   "source": [
    "df[\"violationdescription\"].isnull().sum()"
   ]
  },
  {
   "cell_type": "code",
   "execution_count": 34,
   "metadata": {},
   "outputs": [],
   "source": [
    "df = df[~df[\"violationdescription\"].isnull()] "
   ]
  },
  {
   "cell_type": "code",
   "execution_count": 51,
   "metadata": {},
   "outputs": [],
   "source": [
    "#to put in prep for scatterplot sheet\n",
    "#dfnew.head()\n",
    "columns = ['Issue Date', 'Issue time', \"Meter Id\", \"RP State Plate\", \"Plate Expiry Date\", \"VIN\", \"Make\", \"Body Style\", \"Color\", \"Agency\", \"Fine amount\"]\n",
    "\n",
    "dfnew = dfnew.drop(columns, axis=1)"
   ]
  },
  {
   "cell_type": "code",
   "execution_count": 54,
   "metadata": {},
   "outputs": [
    {
     "data": {
      "text/html": [
       "<div>\n",
       "<style scoped>\n",
       "    .dataframe tbody tr th:only-of-type {\n",
       "        vertical-align: middle;\n",
       "    }\n",
       "\n",
       "    .dataframe tbody tr th {\n",
       "        vertical-align: top;\n",
       "    }\n",
       "\n",
       "    .dataframe thead th {\n",
       "        text-align: right;\n",
       "    }\n",
       "</style>\n",
       "<table border=\"1\" class=\"dataframe\">\n",
       "  <thead>\n",
       "    <tr style=\"text-align: right;\">\n",
       "      <th></th>\n",
       "      <th>ticketnumber</th>\n",
       "      <th>markedtime</th>\n",
       "      <th>location</th>\n",
       "      <th>route</th>\n",
       "      <th>violationcode</th>\n",
       "      <th>violationdescription</th>\n",
       "      <th>latitude</th>\n",
       "      <th>longitude</th>\n",
       "    </tr>\n",
       "  </thead>\n",
       "  <tbody>\n",
       "    <tr>\n",
       "      <th>0</th>\n",
       "      <td>1103341116</td>\n",
       "      <td>NaN</td>\n",
       "      <td>13147 WELBY WAY</td>\n",
       "      <td>01521</td>\n",
       "      <td>4000A1</td>\n",
       "      <td>NO EVIDENCE OF REG</td>\n",
       "      <td>99999.0</td>\n",
       "      <td>99999.0</td>\n",
       "    </tr>\n",
       "    <tr>\n",
       "      <th>1</th>\n",
       "      <td>1103700150</td>\n",
       "      <td>NaN</td>\n",
       "      <td>525 S MAIN ST</td>\n",
       "      <td>1C51</td>\n",
       "      <td>4000A1</td>\n",
       "      <td>NO EVIDENCE OF REG</td>\n",
       "      <td>99999.0</td>\n",
       "      <td>99999.0</td>\n",
       "    </tr>\n",
       "    <tr>\n",
       "      <th>2</th>\n",
       "      <td>1104803000</td>\n",
       "      <td>NaN</td>\n",
       "      <td>200 WORLD WAY</td>\n",
       "      <td>2R2</td>\n",
       "      <td>8939</td>\n",
       "      <td>WHITE CURB</td>\n",
       "      <td>6439997.9</td>\n",
       "      <td>1802686.4</td>\n",
       "    </tr>\n",
       "    <tr>\n",
       "      <th>3</th>\n",
       "      <td>1104820732</td>\n",
       "      <td>NaN</td>\n",
       "      <td>100 WORLD WAY</td>\n",
       "      <td>2F11</td>\n",
       "      <td>000</td>\n",
       "      <td>17104h</td>\n",
       "      <td>6440041.1</td>\n",
       "      <td>1802686.2</td>\n",
       "    </tr>\n",
       "    <tr>\n",
       "      <th>4</th>\n",
       "      <td>1105461453</td>\n",
       "      <td>NaN</td>\n",
       "      <td>GEORGIA ST/OLYMPIC</td>\n",
       "      <td>1FB70</td>\n",
       "      <td>8069A</td>\n",
       "      <td>NO STOPPING/STANDING</td>\n",
       "      <td>99999.0</td>\n",
       "      <td>99999.0</td>\n",
       "    </tr>\n",
       "  </tbody>\n",
       "</table>\n",
       "</div>"
      ],
      "text/plain": [
       "  ticketnumber  markedtime            location  route violationcode  \\\n",
       "0   1103341116         NaN     13147 WELBY WAY  01521        4000A1   \n",
       "1   1103700150         NaN       525 S MAIN ST   1C51        4000A1   \n",
       "2   1104803000         NaN       200 WORLD WAY    2R2          8939   \n",
       "3   1104820732         NaN       100 WORLD WAY   2F11           000   \n",
       "4   1105461453         NaN  GEORGIA ST/OLYMPIC  1FB70         8069A   \n",
       "\n",
       "   violationdescription   latitude  longitude  \n",
       "0    NO EVIDENCE OF REG    99999.0    99999.0  \n",
       "1    NO EVIDENCE OF REG    99999.0    99999.0  \n",
       "2            WHITE CURB  6439997.9  1802686.4  \n",
       "3                17104h  6440041.1  1802686.2  \n",
       "4  NO STOPPING/STANDING    99999.0    99999.0  "
      ]
     },
     "execution_count": 54,
     "metadata": {},
     "output_type": "execute_result"
    }
   ],
   "source": [
    "\n",
    "\n",
    "#fix the column names\n",
    "dfnew.columns = dfnew.columns.str.lower()\n",
    "dfnew.columns = dfnew.columns.str.replace(' ','')\n",
    "\n",
    "dfnew.head()"
   ]
  },
  {
   "cell_type": "code",
   "execution_count": 76,
   "metadata": {},
   "outputs": [
    {
     "data": {
      "text/plain": [
       "<matplotlib.axes._subplots.AxesSubplot at 0x1aaf31080>"
      ]
     },
     "execution_count": 76,
     "metadata": {},
     "output_type": "execute_result"
    },
    {
     "data": {
      "image/png": "[encoded data removed]",
      "text/plain": [
       "<Figure size 432x288 with 1 Axes>"
      ]
     },
     "metadata": {
      "needs_background": "light"
     },
     "output_type": "display_data"
    }
   ],
   "source": [
    "\n",
    "sns.countplot(y=\"violationdescription\", hue=\"issueyear\", data=df, palette=\"Greens_d\",\n",
    "              order=df.violationdescription.value_counts().iloc[:20].index)"
   ]
  },
  {
   "cell_type": "markdown",
   "metadata": {},
   "source": []
  },
  {
   "cell_type": "markdown",
   "metadata": {},
   "source": []
  },
  {
   "cell_type": "code",
   "execution_count": null,
   "metadata": {},
   "outputs": [],
   "source": []
  }
 ],
 "metadata": {
  "kernelspec": {
   "display_name": "Python 3",
   "language": "python",
   "name": "python3"
  },
  "language_info": {
   "codemirror_mode": {
    "name": "ipython",
    "version": 3
   },
   "file_extension": ".py",
   "mimetype": "text/x-python",
   "name": "python",
   "nbconvert_exporter": "python",
   "pygments_lexer": "ipython3",
   "version": "3.6.6"
  }
 },
 "nbformat": 4,
 "nbformat_minor": 2
}
