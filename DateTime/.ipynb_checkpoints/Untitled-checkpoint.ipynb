{
 "cells": [
  {
   "cell_type": "markdown",
   "metadata": {},
   "source": [
    "### DateTime Practice"
   ]
  },
  {
   "cell_type": "markdown",
   "metadata": {},
   "source": [
    "https://docs.python.org/2/library/datetime.html\n",
    "\n",
    "https://www.w3resource.com/python-exercises/date-time-exercise/"
   ]
  },
  {
   "cell_type": "code",
   "execution_count": 1,
   "metadata": {},
   "outputs": [],
   "source": [
    "import time\n",
    "import datetime"
   ]
  },
  {
   "cell_type": "code",
   "execution_count": 2,
   "metadata": {},
   "outputs": [
    {
     "name": "stdout",
     "output_type": "stream",
     "text": [
      "Current date and time:  2018-12-04 15:09:26.340273\n",
      "Current year:  2018\n",
      "Month of year:  December\n",
      "Week number of the year:  49\n",
      "Weekday of the week:  2\n",
      "Day of year:  338\n",
      "Day of the month :  04\n",
      "Day of week:  Tuesday\n"
     ]
    }
   ],
   "source": [
    "#Print current date and time\n",
    "print(\"Current date and time: \" , datetime.datetime.now())\n",
    "print(\"Current year: \", datetime.date.today().strftime(\"%Y\"))\n",
    "print(\"Month of year: \", datetime.date.today().strftime(\"%B\"))\n",
    "print(\"Week number of the year: \", datetime.date.today().strftime(\"%W\"))\n",
    "print(\"Weekday of the week: \", datetime.date.today().strftime(\"%w\"))\n",
    "print(\"Day of year: \", datetime.date.today().strftime(\"%j\"))\n",
    "print(\"Day of the month : \", datetime.date.today().strftime(\"%d\"))\n",
    "print(\"Day of week: \", datetime.date.today().strftime(\"%A\"))"
   ]
  },
  {
   "cell_type": "code",
   "execution_count": 21,
   "metadata": {},
   "outputs": [],
   "source": [
    "# Write a Python program to determine whether a given year is a leap year.\n",
    "# What is a leap year?\n",
    "# a year, occurring once every four years, that has 366 days\n",
    "# What is a leap year and how is it calculated?\n",
    "#Start off using the year you want to calculate.\n",
    "# If it is evenly divisible by 4 (a whole number with no remainder) it MIGHT be a leap year\n",
    "# if so, see if the year is divisible by 100. if it is NOT then it is a leap year\n",
    "# if it is evenly divisible by 4 and 100 AND 400, it is a leap year, otherwise, it isn't"
   ]
  },
  {
   "cell_type": "markdown",
   "metadata": {},
   "source": [
    "To determine whether a year is a leap year, follow these steps: \n",
    "1. If the year is evenly divisible by 4, go to step 2. Otherwise, go to step 5.\n",
    "2. If the year is evenly divisible by 100, go to step 3. Otherwise, go to step 4.\n",
    "3. If the year is evenly divisible by 400, go to step 4. Otherwise, go to step 5.\n",
    "4. The year is a leap year (it has 366 days).\n",
    "5. The year is not a leap year (it has 365 days).\n"
   ]
  },
  {
   "cell_type": "code",
   "execution_count": 22,
   "metadata": {},
   "outputs": [
    {
     "name": "stdout",
     "output_type": "stream",
     "text": [
      "True\n",
      "False\n",
      "False\n",
      "True\n"
     ]
    }
   ],
   "source": [
    "def isleapyear(year):\n",
    "    if year%4==0:\n",
    "        if year%100==0:\n",
    "            if year % 400==0:\n",
    "                return True\n",
    "        else:\n",
    "            return True\n",
    "   \n",
    "    return False\n",
    "    \n",
    "\n",
    "year_not_leap=1998 # This is not a leap year.\n",
    "leap_year=2016 # This is a leap year.\n",
    "print(isleapyear(leap_year)) # False\n",
    "print(isleapyear(year_not_leap)) # False\n",
    "print(isleapyear(1900)) # False\n",
    "print(isleapyear(2004)) # True"
   ]
  },
  {
   "cell_type": "markdown",
   "metadata": {},
   "source": [
    "Write a Python program to convert a string to datetime.\n",
    "\n",
    "\n",
    "Sample String : Jan 1 2014 2:43PM \n",
    "\n",
    "Expected Output : 2014-07-01 14:43:00"
   ]
  },
  {
   "cell_type": "code",
   "execution_count": 28,
   "metadata": {},
   "outputs": [
    {
     "name": "stdout",
     "output_type": "stream",
     "text": [
      "2014-01-01 14:43:00\n"
     ]
    }
   ],
   "source": [
    "sample = \"Jan 1 2014 2:43PM\"\n",
    "\n",
    "from datetime import datetime\n",
    "print(datetime.strptime(sample, '%b %d %Y %I:%M%p'))\n",
    "# Without printing it, it won't be displayed in the output format expected."
   ]
  },
  {
   "cell_type": "code",
   "execution_count": 34,
   "metadata": {},
   "outputs": [
    {
     "name": "stdout",
     "output_type": "stream",
     "text": [
      "15:29:21.715383\n"
     ]
    }
   ],
   "source": [
    "# Write a Python program to get the current time in Python.\n",
    "#Sample Format :  13:19:49.078205\n",
    "print(datetime.now().time())"
   ]
  },
  {
   "cell_type": "code",
   "execution_count": 41,
   "metadata": {},
   "outputs": [
    {
     "name": "stdout",
     "output_type": "stream",
     "text": [
      "2018-12-04\n",
      "Current Date : 2018-12-04\n",
      "5 days before Current Date : 2018-11-29\n"
     ]
    }
   ],
   "source": [
    "# Write a Python program to subtract five days from current date. Go to the editor\n",
    "# e.g.:\n",
    "#  Current Date : 2015-06-22\n",
    "#  5 days before Current Date : 2015-06-17\n",
    " \n",
    "## Need timedelta for this!\n",
    "\n",
    "from datetime import date, timedelta\n",
    "\n",
    "dtminus5 = date.today() - timedelta(5)\n",
    "print(datetime.now().date()) # gives current date\n",
    "print('Current Date :',date.today())\n",
    "print('5 days before Current Date :',dtminus5)"
   ]
  },
  {
   "cell_type": "code",
   "execution_count": 42,
   "metadata": {},
   "outputs": [
    {
     "name": "stdout",
     "output_type": "stream",
     "text": [
      "2010-09-10 01:01:22\n"
     ]
    }
   ],
   "source": [
    "# Write a Python program to convert unix timestamp string to readable date.\n",
    "# Sample Unix timestamp string : 1284105682\n",
    "# Expected Output : 2010-09-10 13:31:22\n",
    "\n",
    "# import datetime\n",
    "print(datetime.datetime.fromtimestamp(int(\"1284105682\")).strftime('%Y-%m-%d %H:%M:%S'))"
   ]
  },
  {
   "cell_type": "code",
   "execution_count": 43,
   "metadata": {},
   "outputs": [
    {
     "name": "stdout",
     "output_type": "stream",
     "text": [
      "Yesterday :  2018-12-03\n",
      "Today :  2018-12-04\n",
      "Tomorrow :  2018-12-05\n"
     ]
    }
   ],
   "source": [
    "# Print yesterday, today, and tomorrow\n",
    "# import datetime \n",
    "today = datetime.date.today()\n",
    "yesterday = today - datetime.timedelta(days = 1)\n",
    "tomorrow = today + datetime.timedelta(days = 1) \n",
    "\n",
    "print('Yesterday : ',yesterday)\n",
    "print('Today : ',today)\n",
    "print('Tomorrow : ',tomorrow)"
   ]
  },
  {
   "cell_type": "code",
   "execution_count": 45,
   "metadata": {},
   "outputs": [
    {
     "name": "stdout",
     "output_type": "stream",
     "text": [
      "2018-12-04 00:00:00\n"
     ]
    }
   ],
   "source": [
    "# Convert the date to datetime (midnight of the date)\n",
    "from datetime import date\n",
    "from datetime import datetime\n",
    "dt = date.today()\n",
    "print(datetime.combine(dt, datetime.min.time())) # .min because that is the start of the date"
   ]
  },
  {
   "cell_type": "code",
   "execution_count": 64,
   "metadata": {},
   "outputs": [
    {
     "name": "stdout",
     "output_type": "stream",
     "text": [
      "2018-12-04 17:58:19.083136\n",
      "2018-12-05 17:58:19.083136\n",
      "2018-12-06 17:58:19.083136\n",
      "2018-12-07 17:58:19.083136\n",
      "2018-12-08 17:58:19.083136\n"
     ]
    }
   ],
   "source": [
    "# Print next 5 days starting from today.\n",
    "import datetime\n",
    "\n",
    "for x in range (0,5):\n",
    "    print(baseday+datetime.timedelta(days=x))\n",
    "\n",
    "baseday= datetime.datetime.today()"
   ]
  },
  {
   "cell_type": "code",
   "execution_count": 92,
   "metadata": {},
   "outputs": [
    {
     "name": "stdout",
     "output_type": "stream",
     "text": [
      "18:09:39.714952\n",
      "18:09:42.714952\n"
     ]
    }
   ],
   "source": [
    "# add 5 seconds with the current time.\n",
    "\n",
    "# import datetime\n",
    "x= datetime.datetime.now()\n",
    "y = x + datetime.timedelta(1,3)\n",
    "print(x.time())\n",
    "print(y.time())"
   ]
  },
  {
   "cell_type": "code",
   "execution_count": 96,
   "metadata": {},
   "outputs": [
    {
     "name": "stdout",
     "output_type": "stream",
     "text": [
      "1543976013.0\n",
      "2018-12-04 18:13:33.721681\n"
     ]
    }
   ],
   "source": [
    "# Convert a date to the timestamp. \n",
    "import time\n",
    "import datetime\n",
    "now = datetime.datetime.now()\n",
    "print(time.mktime(now.timetuple()))\n",
    "print(now)"
   ]
  },
  {
   "cell_type": "code",
   "execution_count": 98,
   "metadata": {},
   "outputs": [
    {
     "name": "stdout",
     "output_type": "stream",
     "text": [
      "\n",
      "2016-05-12 00:00:00\n",
      "\n"
     ]
    }
   ],
   "source": [
    "# Convert a string into datetime\n",
    "\n",
    "from datetime import datetime\n",
    "\n",
    "date_obj = datetime.strptime('May 12 2016  2:25AM', '%b %d %Y %I:%M%p')\n",
    "print()\n",
    "print(date_obj)\n",
    "print()"
   ]
  },
  {
   "cell_type": "code",
   "execution_count": 100,
   "metadata": {},
   "outputs": [
    {
     "name": "stdout",
     "output_type": "stream",
     "text": [
      "2014-12-04\n"
     ]
    }
   ],
   "source": [
    "# Convert a date string only\n",
    "from datetime import datetime\n",
    "print(datetime.strptime('2014-12-04', '%Y-%m-%d').date())"
   ]
  },
  {
   "cell_type": "code",
   "execution_count": 108,
   "metadata": {},
   "outputs": [
    {
     "name": "stdout",
     "output_type": "stream",
     "text": [
      "02:25:00\n"
     ]
    }
   ],
   "source": [
    "# Convert a time string only\n",
    "from datetime import datetime\n",
    "print(datetime.strptime('2:25AM', '%I:%M%p').time())"
   ]
  },
  {
   "cell_type": "code",
   "execution_count": 127,
   "metadata": {},
   "outputs": [
    {
     "name": "stdout",
     "output_type": "stream",
     "text": [
      "1900-01-01 02:25:00\n",
      "versus\n",
      "02:25AM\n"
     ]
    }
   ],
   "source": [
    "# without seconds\n",
    "Hrs =datetime.strptime(('2:25AM'), \"%H:%M%p\")\n",
    "print(Hrs)\n",
    "print(\"versus\")\n",
    "print(Hrs.strftime(\"%H:%M%p\"))"
   ]
  }
 ],
 "metadata": {
  "kernelspec": {
   "display_name": "Python 3",
   "language": "python",
   "name": "python3"
  },
  "language_info": {
   "codemirror_mode": {
    "name": "ipython",
    "version": 3
   },
   "file_extension": ".py",
   "mimetype": "text/x-python",
   "name": "python",
   "nbconvert_exporter": "python",
   "pygments_lexer": "ipython3",
   "version": "3.6.6"
  }
 },
 "nbformat": 4,
 "nbformat_minor": 2
}
