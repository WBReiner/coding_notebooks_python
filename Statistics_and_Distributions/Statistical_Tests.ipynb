{
 "cells": [
  {
   "cell_type": "markdown",
   "metadata": {},
   "source": [
    "T-test for the difference of two means"
   ]
  },
  {
   "cell_type": "code",
   "execution_count": null,
   "metadata": {},
   "outputs": [],
   "source": [
    "from scipy import stats\n",
    "import numpy as np\n",
    "\n",
    "s0 = df.loc[(df['col']=='var_in_col') & (df['another_column']==0)]\n",
    "s0 = s0['column_to_comp']\n",
    "s1 = df.loc[(df['col']=='var_in_col') & (df['another_column']==1)]   \n",
    "s1 = s1['column_to_comp']\n",
    "\n",
    "print(\"Title:\",stats.ttest_ind( s0.dropna(), s1.dropna(), equal_var = False))"
   ]
  },
  {
   "cell_type": "code",
   "execution_count": null,
   "metadata": {},
   "outputs": [],
   "source": [
    "# correlation matrix\n",
    "corr = df.corr()\n",
    "sns.heatmap(corr, \n",
    "            xticklabels=corr.columns.values,\n",
    "            yticklabels=corr.columns.values)\n",
    "#plt.show()"
   ]
  },
  {
   "cell_type": "markdown",
   "metadata": {},
   "source": [
    "There are two types of probability distributions, discrete and continuous probability distributions.\n",
    "Discrete probability distributions are also called as probability mass functions. Some examples of discrete probability distributions are  Bernoulli distribution,  Binomial distribution, Poisson distribution and Geometric distribution.\n",
    "Continuous probability distributions also known as probability density functions, they are functions that take on continuous values (e.g. values on the real line). Examples include the normal distribution, the exponential distribution and the beta distribution.\n",
    "To understand more about discrete and continuous random variables, watch Khan academies probability distribution videos."
   ]
  },
  {
   "cell_type": "markdown",
   "metadata": {},
   "source": [
    "## CDF\n",
    "\n",
    "https://seaborn.pydata.org/generated/seaborn.distplot.html\n",
    "\n",
    "Example description:\n",
    "\n",
    "Probability of red cards with respect to players within each skin rating.\n",
    "Plotting CUmulative Distribution Function of the distribution of players in each skin rating with respect to the number of red cards they recieved.\n",
    "\n",
    "Upon visual inspection of the CDF plots for both rater one and rater two, the median number of red cards is slightely higher for skin=5 compared to the other skin ratings. Although there is a slight visual difference for skin=5 compared to the rest, the difference looks quite small. Therefore I deceded to test these distributions."
   ]
  },
  {
   "cell_type": "code",
   "execution_count": null,
   "metadata": {},
   "outputs": [],
   "source": [
    "import seaborn as sns\n",
    "\n",
    "sns.distplot(rater1['1'],kde_kws={'cumulative':True, 'clip':(-.5,6), \"label\": \"skin=1\"}, hist=False)\n",
    "sns.distplot(rater1['2'],kde_kws={'cumulative':True, 'clip':(-.5,6), \"label\": \"skin=2\"}, hist=False)\n",
    "sns.distplot(rater1['3'],kde_kws={'cumulative':True, 'clip':(-.5,6), \"label\": \"skin=3\"}, hist=False)\n",
    "sns.distplot(rater1['4'],kde_kws={'cumulative':True, 'clip':(-.5,6), \"label\": \"skin=4\"}, hist=False)\n",
    "sns.distplot(rater1['5'],kde_kws={'cumulative':True, 'clip':(-.5,6), \"label\": \"skin=5\"}, hist=False)\n",
    "\n",
    "\n",
    "sns.plt.show()"
   ]
  },
  {
   "cell_type": "markdown",
   "metadata": {},
   "source": [
    "Normality\n",
    "A T-test assumes that the sample distribution is normal. The histogram plot below shows that the sample distribution is not normal. A Box-Cox power transform could be used if all values were positive. An alternative method that does not make this assumption is the Yeo-Johnson transformation. For now I will resort to using a non-parametric test."
   ]
  },
  {
   "cell_type": "code",
   "execution_count": null,
   "metadata": {},
   "outputs": [],
   "source": [
    "data = df.groupby(['playerShort']).sum()['redCards']\n",
    "sns.distplot(data,kde_kws={'clip':(-.5,6), \"label\": \"ALL data for rater 1\"})"
   ]
  },
  {
   "cell_type": "markdown",
   "metadata": {},
   "source": [
    "Mann-Whitney U Test\n",
    "The Mann-Whitney U test is a non-parametric statistical significance test for determining whether two independent samples were drawn from a population with the same distribution. In This case, the null hypothesis is that there is no difference between the distributions of sampled red cards for different skin ratings. Rejection of this hypothesis suggests that there is likely some difference between the samples. We reject the null hypothesis if the p-value <= 0.05.\n",
    "\n",
    "The results for rater 1 below suggest that:\n",
    "\n",
    "Players with skin rating 5 are more likely to get red cards compared to skin rating 4, 3, 2, and 1.\n",
    "Players of skin rating 4 are no more likely to get red cards compared to skin rating 3, 2, and 1.\n",
    "Players of skin rating 3 are no more likely to get red cards compared to skin ratings 2 and 1.\n",
    "Players of skin rating 2 are more likely to get red cards compared to skin rating 1.\n",
    "The results for rater 2 were similar."
   ]
  },
  {
   "cell_type": "code",
   "execution_count": null,
   "metadata": {},
   "outputs": [],
   "source": []
  },
  {
   "cell_type": "code",
   "execution_count": null,
   "metadata": {},
   "outputs": [],
   "source": []
  },
  {
   "cell_type": "code",
   "execution_count": null,
   "metadata": {},
   "outputs": [],
   "source": []
  },
  {
   "cell_type": "code",
   "execution_count": null,
   "metadata": {},
   "outputs": [],
   "source": []
  },
  {
   "cell_type": "code",
   "execution_count": null,
   "metadata": {},
   "outputs": [],
   "source": [
    "from scipy.stats import mannwhitneyu\n",
    "print \"Rater 1\"\n",
    "for i in range(1,5):\n",
    "  \n",
    "  t2, p2 = mannwhitneyu(rater1[str(i)],rater1['5'])\n",
    "  print \"Skin \" + str(i) + \" vs. Skin 5 p-value: %1.2f \" % p2 \n",
    "  \n",
    "print \"\"\n",
    "\n",
    "for i in range(1,4):\n",
    "\n",
    "  t2, p2 = mannwhitneyu(rater1[str(i)],rater1['4'])\n",
    "  print \"Skin \" + str(i) + \" vs. Skin 4 p-value: %1.2f \" % p2\n",
    "\n",
    "\n",
    "print \"\"  \n",
    "\n",
    "for i in range(1,3):\n",
    "  \n",
    "  \n",
    "  t2, p2 = mannwhitneyu(rater1[str(i)],rater1['3'])\n",
    "  print \"Skin \" + str(i) + \" vs. Skin 3 p-value: %1.2f \" % p2\n",
    "\n",
    "\n",
    "print \"\" \n",
    "\n",
    "for i in range(1,2):\n",
    "  \n",
    "  \n",
    "  t2, p2 = mannwhitneyu(rater1[str(i)],rater1['2'])\n",
    "  print \"Skin \" + str(i) + \" vs. Skin 2 p-value: %1.2f \" % p2\n",
    "\n",
    "\n",
    "print \"\""
   ]
  },
  {
   "cell_type": "markdown",
   "metadata": {},
   "source": [
    "T-test for comparing the means of two distributions. This test gave similar results compared to the Mann-Whitney U Test, but is invalid due to the distribution being non normal."
   ]
  },
  {
   "cell_type": "code",
   "execution_count": null,
   "metadata": {},
   "outputs": [],
   "source": [
    "from scipy import stats\n",
    "print \"Rater 1\"\n",
    "for i in range(1,5):\n",
    "  \n",
    "  \n",
    "  t2, p2 = stats.ttest_ind(rater1[str(i)],rater1['5'],equal_var = False)\n",
    "  print \"Skin \" + str(i) + \" vs. Skin 5 p-value: %1.2f \" % p2 \n",
    "  \n",
    "print \"\"\n",
    "\n",
    "for i in range(1,4):\n",
    "  \n",
    "  \n",
    "  t2, p2 = stats.ttest_ind(rater1[str(i)],rater1['4'],equal_var = False)\n",
    "  print \"Skin \" + str(i) + \" vs. Skin 4 p-value: %1.2f \" % p2\n",
    "\n",
    "\n",
    "print \"\"  \n",
    "\n",
    "for i in range(1,3):\n",
    "  \n",
    "  \n",
    "  t2, p2 = stats.ttest_ind(rater1[str(i)],rater1['3'],equal_var = False)\n",
    "  print \"Skin \" + str(i) + \" vs. Skin 3 p-value: %1.2f \" % p2\n",
    "\n",
    "\n",
    "print \"\" \n",
    "\n",
    "for i in range(1,2):\n",
    "  \n",
    "  \n",
    "  t2, p2 = stats.ttest_ind(rater1[str(i)],rater1['2'],equal_var = False)\n",
    "  print \"Skin \" + str(i) + \" vs. Skin 2 p-value: %1.2f \" % p2\n",
    "\n",
    "\n",
    "print \"\""
   ]
  },
  {
   "cell_type": "markdown",
   "metadata": {},
   "source": [
    "Chisquare test to see if the sampling distribution of the test statistic is a chi-squared distribution when the null hypothesis is true. Without other qualification, 'chi-squared test' often is used as short for Pearson's chi-squared test.\n",
    "\n",
    "among yellow, yellow-red, and red card recipients, the skin tone breakdown is the same as the global dataset of players.\n",
    "\n",
    "I started by separating tone into just lighter (<0.5) or darker (>=0.5)."
   ]
  },
  {
   "cell_type": "code",
   "execution_count": null,
   "metadata": {},
   "outputs": [],
   "source": [
    "from scipy.stats import chisquare\n",
    "\n",
    "# expected proportions\n",
    "props = [ ( len(df[df['tone'] < 0.5]) ) ,\n",
    "          ( len(df[df['tone'] >= 0.5]) )]\n",
    "\n",
    "obs_y = df[df['yellowCards'] <= 1]\n",
    "obs_yell = [ ( len(obs_y[obs_y['tone'] < 0.5]) / len(obs_y) * len(df) ) ,\n",
    "             ( len(obs_y[obs_y['tone'] >= 0.5]) / len(obs_y) * len(df)  )]\n",
    "print(props)\n",
    "print(obs_yell)\n",
    "\n",
    "# Yellow cards\n",
    "print(chisquare(\n",
    "    obs_yell, \n",
    "    f_exp=props)) \n",
    "\n",
    "obs_y = df[df['yellowReds'] <= 1]\n",
    "obs_yellred = [ ( len(obs_y[obs_y['tone'] < 0.5]) / len(obs_y) * len(df) ) ,\n",
    "             ( len(obs_y[obs_y['tone'] >= 0.5]) / len(obs_y) * len(df)  )]\n",
    "print(props)\n",
    "print(obs_yellred)\n",
    "\n",
    "# Yellow reds\n",
    "print(chisquare(\n",
    "    obs_yellred, \n",
    "    f_exp=props)) \n",
    "\n",
    "obs_y = df[df['redCards'] <= 1]\n",
    "obs_red = [ ( len(obs_y[obs_y['tone'] < 0.5]) / len(obs_y) * len(df) ) ,\n",
    "             ( len(obs_y[obs_y['tone'] >= 0.5]) / len(obs_y) * len(df)  )]\n",
    "print(props)\n",
    "print(obs_red)\n",
    "\n",
    "# Red cards\n",
    "print(chisquare(\n",
    "    obs_red, \n",
    "    f_exp=props))"
   ]
  },
  {
   "cell_type": "markdown",
   "metadata": {},
   "source": [
    "[lighter, darker]\n",
    "[90302, 25678]\n",
    "[89788.15188349076, 26191.848116509238]\n",
    "Power_divergenceResult(statistic=13.206692886609037, pvalue=0.0002789511616150587)\n",
    "[90302, 25678]\n",
    "[90296.68529442203, 25683.314705577977]\n",
    "Power_divergenceResult(statistic=0.0014128074034621863, pvalue=0.9700167096939366)\n",
    "[90302, 25678]\n",
    "[90301.1290294762, 25678.87097052381]\n",
    "Power_divergenceResult(statistic=3.79429816402156e-05, pvalue=0.9950852317623295)\n",
    "p-values suggest that players with darker skin tone received more yellow cards than we would expect by chance. Yellow-reds and red cards were on par with the skin tone breakdown.\n",
    "\n",
    "I repeated the analysis with a finer breakdown by tone."
   ]
  },
  {
   "cell_type": "markdown",
   "metadata": {},
   "source": [
    "Correlations"
   ]
  },
  {
   "cell_type": "code",
   "execution_count": null,
   "metadata": {},
   "outputs": [],
   "source": [
    "features = df[['club','leagueCountry','height','weight','position','games','victories','ties','defeats','goals','age','tone']]\n",
    "features.corr()"
   ]
  },
  {
   "cell_type": "code",
   "execution_count": null,
   "metadata": {},
   "outputs": [],
   "source": [
    "# chi2_contingency\n",
    "from scipy.stats import chi2_contingency\n",
    "chi2_contingency(c_tab)"
   ]
  },
  {
   "cell_type": "markdown",
   "metadata": {},
   "source": [
    "from scipy.stats import chi2_contingency\n",
    "\n",
    "chi2_contingency(c_tab)\n",
    "\n",
    "\n",
    "Out[50]:\n",
    "\n",
    "(2.5648518623027297,\n",
    " 0.1092627921379188,\n",
    " 1,\n",
    " array([[600.39293286,  51.60706714],\n",
    "        [702.60706714,  60.39293286]]))\n",
    "\n",
    "\n",
    "These results suggest that the p-value of 0.10 is not significant, and we would not reject the null hypothesis that whether or not a player received any redcards is independent of their skin-tone being light or dark. The p-value of 0.10 indicates there is an approximately 10% chance we would see this result due to random chance and not because of a specific trend in this data.\n",
    "\n",
    "\n",
    "The array from the chi-square output is the expected values if getting a red-card was independent of race. For the dark skin-toned column (column 2), this means we would expect 51 people to NOT get red-cards and 60 people to get redcars. In our observed data, we got 43 people who did NOT get red-cards, and 69 peopple who did. Thus, our observed data is not that far off from the idealized case, and we are not confident saying that our observed data deviates from the expected scenario when race does not matter."
   ]
  },
  {
   "cell_type": "markdown",
   "metadata": {},
   "source": [
    "T-Test\n",
    "Run a t-test testing the difference between the 2 groups. This test assumes the number of redcards is approximately normally distributed for both groups- check to make sure dist is normal for both groups you are comparing:"
   ]
  },
  {
   "cell_type": "code",
   "execution_count": null,
   "metadata": {},
   "outputs": [],
   "source": [
    "# Simple chart to look for normal distribution- do one for each population\n",
    "plt.hist(df_player['total_reds'][df_player.dark==0])\n",
    "plt.xlabel(\"number of red cards\")\n",
    "plt.ylabel(\"Frequency for light players\")"
   ]
  },
  {
   "cell_type": "markdown",
   "metadata": {},
   "source": [
    "# If not normally distributed:\n",
    "You can try a log-transformation UNLESS you have 0 values, in which case a log-transformaiton will not work. In that case (and if log-transformation still produces non-normal distributions) a non-parametric test must be used.\n",
    "\n",
    "A non-parametric test that is similar to the t-test is the Mann-Whitney rank-sum test.\n",
    "\n",
    "The Mann-Whitney test is also fine to use on imbalanced data."
   ]
  },
  {
   "cell_type": "code",
   "execution_count": null,
   "metadata": {},
   "outputs": [],
   "source": [
    "from scipy.stats import mannwhitneyu\n",
    "\n",
    "light=df_player['total_reds'][df_player.dark==0]\n",
    "dark=df_player['total_reds'][df_player.dark==1]\n",
    "stat, p = mannwhitneyu(light, dark)\n",
    "print('Statistics=%.3f, p=%.3f' % (stat, p))"
   ]
  },
  {
   "cell_type": "code",
   "execution_count": null,
   "metadata": {},
   "outputs": [],
   "source": [
    "Statistics=68377.500, p=0.119\n",
    "Again, the p-value of 0.12 indicates there is no reason to reject the null hypothesis that these two groups (light and dark) have the same distriibution of number of red-cards received by a player.\n",
    "\n",
    "Thus, I would say that \"skin tone does not affect the total number of red-cards a player receives\"."
   ]
  },
  {
   "cell_type": "code",
   "execution_count": null,
   "metadata": {},
   "outputs": [],
   "source": []
  }
 ],
 "metadata": {
  "kernelspec": {
   "display_name": "Python 3",
   "language": "python",
   "name": "python3"
  },
  "language_info": {
   "codemirror_mode": {
    "name": "ipython",
    "version": 3
   },
   "file_extension": ".py",
   "mimetype": "text/x-python",
   "name": "python",
   "nbconvert_exporter": "python",
   "pygments_lexer": "ipython3",
   "version": "3.5.5"
  }
 },
 "nbformat": 4,
 "nbformat_minor": 2
}
